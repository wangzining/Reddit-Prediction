{
 "cells": [
  {
   "cell_type": "code",
   "execution_count": null,
   "metadata": {
    "collapsed": true
   },
   "outputs": [],
   "source": [
    "import re\n",
    "def get_time_feature(d):\n",
    "    # Create dummy variables based on exploratory analysis of this dataset and previous plots\n",
    "    time_feature = []  #night(22-1),sleep time(2-7),morning(8-11),afternoon(12-17),[evening(18-21) is omitted]\n",
    "                       #UTC+8,UTC+7,[UTC+0 is omitted]\n",
    "    \n",
    "    catchTime = re.compile(\"(.*)T(\\d{2}):(\\d{2}).*((-|\\+)\\d{2})\")\n",
    "    \n",
    "    \n",
    "    t = d['rawtime']\n",
    "    m = catchTime.search(t)\n",
    "    if m:\n",
    "        d['hour'] = int(m.group(2))\n",
    "        d['minute'] = int(m.group(3))\n",
    "        if d['minute'] >= 30:\n",
    "            d['time'] = (d['hour'] +1*0)%24\n",
    "        else:\n",
    "            d['time'] = d['hour']\n",
    "\n",
    "        d['timezone'] = int(m.group(4))\n",
    "        d['UTCtime'] = (d['time'] + d['timezone'])%24\n",
    "            \n",
    "    if d['UTCtime'] >= 22 or d['UTCtime'] <= 1:\n",
    "        time_feature.append(1)\n",
    "    else:\n",
    "        time_feature.append(0)\n",
    "        \n",
    "    if d['UTCtime'] >= 2 and d['UTCtime'] <= 7:\n",
    "        time_feature.append(1)\n",
    "    else:\n",
    "        time_feature.append(0)\n",
    "        \n",
    "    if d['UTCtime'] >= 8 and d['UTCtime'] <= 11:\n",
    "        time_feature.append(1)\n",
    "    else:\n",
    "        time_feature.append(0)\n",
    "    \n",
    "    if d['UTCtime'] >= 12 and d['UTCtime'] <= 17:\n",
    "        time_feature.append(1)\n",
    "    else:\n",
    "        time_feature.append(0)\n",
    "    \n",
    "    if d['timezone'] == -8:\n",
    "        time_feature.append(1)\n",
    "    else:\n",
    "        time_feature.append(0)\n",
    "    \n",
    "    if d['timezone'] == -7:\n",
    "        time_feature.append(1)\n",
    "    else:\n",
    "        time_feature.append(0)\n",
    "    \n",
    "    return time_feature\n",
    "    "
   ]
  },
  {
   "cell_type": "code",
   "execution_count": null,
   "metadata": {
    "collapsed": true
   },
   "outputs": [],
   "source": [
    "import datetime\n",
    "def get_date_feature(d):\n",
    "    date_feature = [0]*17 #month(1-11),weekday(Monday-Saturday)\n",
    "    t = d['unixtime']\n",
    "    this_day = datetime.datetime.utcfromtimestamp(int(t))\n",
    "    if this_day.month != 12 and this_day.weekday() != 6:\n",
    "        date_feature[this_day.month-1] = 1\n",
    "        date_feature[this_day.weekday()+11] = 1\n",
    "    return date_feature"
   ]
  },
  {
   "cell_type": "code",
   "execution_count": null,
   "metadata": {
    "collapsed": false
   },
   "outputs": [],
   "source": [
    "title_comment_list = title()\n",
    "submission_list = submission()\n",
    "user_comment_list = username()\n",
    "sub_comment_list = subreddit()\n",
    "\n",
    "comment_feature_list = []\n",
    "comment_label_list = []\n",
    "for i in range(len(data)):\n",
    "    large = 0\n",
    "    \n",
    "    ############ Replace with the following new lines 👇 #####################\n",
    "    cur = [title_comment_list[i],submission_list[i],user_comment_list[i],sub_comment_list[i]]\n",
    "    cur.extend(get_time_feature(data[i]))\n",
    "    cur.extend(get_date_feature(data[i]))\n",
    "    comment_feature_list.append(cur)\n",
    "    ############ Replace with the above new lines 👆 #####################\n",
    "    \n",
    "    if data[i]['number_of_comments'] > 15: large = 1\n",
    "    comment_label_list.append(large)\n",
    "\n",
    "print \"feature[title_keyword,submission_time,username,subreddit]:\",comment_feature_list[0]\n",
    "print \"label[comment_number]:\",comment_label_list[0]"
   ]
  }
 ],
 "metadata": {
  "anaconda-cloud": {},
  "kernelspec": {
   "display_name": "Python [default]",
   "language": "python",
   "name": "python2"
  },
  "language_info": {
   "codemirror_mode": {
    "name": "ipython",
    "version": 2
   },
   "file_extension": ".py",
   "mimetype": "text/x-python",
   "name": "python",
   "nbconvert_exporter": "python",
   "pygments_lexer": "ipython2",
   "version": "2.7.12"
  }
 },
 "nbformat": 4,
 "nbformat_minor": 2
}
