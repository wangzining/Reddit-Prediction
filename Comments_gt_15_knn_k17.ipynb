{
 "cells": [
  {
   "cell_type": "code",
   "execution_count": 1,
   "metadata": {},
   "outputs": [
    {
     "name": "stdout",
     "output_type": "stream",
     "text": [
      "[nltk_data] Downloading package stopwords to\n",
      "[nltk_data]     /Users/treven/nltk_data...\n",
      "[nltk_data]   Unzipping corpora/stopwords.zip.\n"
     ]
    }
   ],
   "source": [
    "import csv\n",
    "import json\n",
    "from collections import defaultdict\n",
    "import string\n",
    "import nltk\n",
    "nltk.download('stopwords')\n",
    "from nltk.corpus import stopwords\n",
    "from operator import itemgetter"
   ]
  },
  {
   "cell_type": "code",
   "execution_count": 2,
   "metadata": {
    "collapsed": true
   },
   "outputs": [],
   "source": [
    "def load_data():\n",
    "    data = []\n",
    "    label = ['image_id','unixtime','rawtime','title','total_votes','reddit_id','number_of_upvotes',\\\n",
    "    'subreddit','number_of_downvotes','localtime','score','number_of_comments','username',\\\n",
    "    'undefined1','undefined2', 'undefined3']\n",
    "\n",
    "    with open('submissions.csv') as csvfile:\n",
    "        csvReader = csv.reader(csvfile)\n",
    "        for row in csvReader:\n",
    "            if row[0] == '#image_id':\n",
    "                continue\n",
    "            d = {}\n",
    "            for i,elem in enumerate(row):\n",
    "                if label[i]=='total_votes' or label[i]=='number_of_upvotes' or label[i]=='number_of_downvotes' or label[i]=='score' or label[i]=='number_of_comments':\n",
    "                    d[label[i]] = int(elem)\n",
    "                else:\n",
    "                    d[label[i]] = elem\n",
    "                    #judge if element it is empty\n",
    "            data.append(d)\n",
    "    return data"
   ]
  },
  {
   "cell_type": "code",
   "execution_count": 3,
   "metadata": {
    "collapsed": true
   },
   "outputs": [],
   "source": [
    "data = load_data()\n",
    "comments_sorted_data = sorted(data, key=itemgetter('number_of_comments'), reverse=True)\n",
    "votes_sorted_data = sorted(data, key=itemgetter('total_votes'), reverse=True)"
   ]
  },
  {
   "cell_type": "code",
   "execution_count": 4,
   "metadata": {
    "collapsed": true
   },
   "outputs": [],
   "source": [
    "def title():\n",
    "    wordCount = defaultdict(int)\n",
    "    punctuation = set(string.punctuation)\n",
    "\n",
    "    # word count in top 25000 titles with most comment numbers\n",
    "    for d in comments_sorted_data[0:25000]:\n",
    "        r = ''.join([c for c in d['title'].lower() if not c in punctuation])\n",
    "        for w in r.split():\n",
    "            wordCount[w] += 1\n",
    "\n",
    "    # remove English stopwords\n",
    "    for w in stopwords.words(\"english\"):\n",
    "        if w in wordCount:\n",
    "            wordCount.pop(w)\n",
    "\n",
    "    #print(len(wordCount))\n",
    "    counts = [(wordCount[w], w) for w in wordCount]\n",
    "    counts.sort()\n",
    "    counts.reverse()\n",
    "\n",
    "    # take top 1000 words to be targets\n",
    "    words = [x[1] for x in counts[:1000]]\n",
    "    wordId = dict(zip(words, range(len(words))))\n",
    "    wordSet = set(words)\n",
    "\n",
    "    title_comment_list = []\n",
    "    for d in data:\n",
    "        title_comment_num = 0\n",
    "        for i,w in enumerate(words):\n",
    "            if w in d['title']:\n",
    "                title_comment_num = title_comment_num + (1000-i)\n",
    "        title_comment_list.append(title_comment_num)\n",
    "\n",
    "    return title_comment_list"
   ]
  },
  {
   "cell_type": "code",
   "execution_count": 5,
   "metadata": {
    "collapsed": true
   },
   "outputs": [],
   "source": [
    "# submission time feature\n",
    "def submission():\n",
    "    ID = '-1'\n",
    "    submission_list = []\n",
    "\n",
    "    # original data is sorted in image_ID, count submission times before current submission\n",
    "    for d in data:\n",
    "        if d['image_id'] == ID:\n",
    "            count = count + 1\n",
    "            d['submission_time'] = count\n",
    "        else:\n",
    "            count = 0\n",
    "            ID = d['image_id']\n",
    "            d['submission_time'] = count\n",
    "\n",
    "    for d in data:\n",
    "        submission_list.append(d['submission_time'])\n",
    "\n",
    "    return submission_list"
   ]
  },
  {
   "cell_type": "code",
   "execution_count": 6,
   "metadata": {
    "collapsed": true
   },
   "outputs": [],
   "source": [
    "# username feature\n",
    "def username():\n",
    "    with open('all_user_profile.json', 'r') as f:\n",
    "        all_user_profile = json.load(f)\n",
    "    #post_list = []\n",
    "    #user_votes_list = []\n",
    "    #user_votes_dict = {}\n",
    "    user_comment_list = []\n",
    "    user_comment_dict = {}\n",
    "    for user in all_user_profile:\n",
    "        #post_list.append(user.get('num_of_post'))\n",
    "        #user_votes_dict[user.get('username')] = user.get('avg_votes')\n",
    "        user_comment_dict[user.get('username')] = user.get('avg_comments')\n",
    "\n",
    "    for d in data:\n",
    "        if d['username']=='':\n",
    "            user_comment_list.append(d['number_of_comments'])\n",
    "        elif d['username'] in user_comment_dict:\n",
    "            user_comment_list.append(user_comment_dict[d['username']])\n",
    "        #if d['username'] in user_votes_dict:\n",
    "            #user_votes_list.append(user_votes_dict[d['username']])\n",
    "\n",
    "    return user_comment_list"
   ]
  },
  {
   "cell_type": "code",
   "execution_count": 7,
   "metadata": {
    "collapsed": true
   },
   "outputs": [],
   "source": [
    "#subreddit feature\n",
    "def subreddit():\n",
    "    with open('all_subreddit_profile.json', 'r') as f:\n",
    "        all_subreddit_profile = json.load(f)\n",
    "    #post_list = []\n",
    "    sub_comment_list = []\n",
    "    sub_comment_dict = {}\n",
    "    sub_votes_list = []\n",
    "    sub_votes_dict = {}\n",
    "    for sub in all_subreddit_profile:\n",
    "        # post_list.append(sub.get('num_of_post'))\n",
    "        #sub_votes_dict[sub.get('subreddit')] = sub.get('avg_votes')\n",
    "        sub_comment_dict[sub.get('subreddit')] = sub.get('avg_comments')\n",
    "\n",
    "    for d in data:\n",
    "        if d['subreddit']=='':\n",
    "            sub_comment_list.append(d['number_of_comments'])\n",
    "        elif d['subreddit'] in sub_comment_dict:\n",
    "            sub_comment_list.append(sub_comment_dict[d['subreddit']])\n",
    "        #if d['subreddit'] in sub_votes_dict:\n",
    "            #sub_votes_list.append(sub_votes_dict[d['subreddit']])\n",
    "\n",
    "    return sub_comment_list"
   ]
  },
  {
   "cell_type": "code",
   "execution_count": 19,
   "metadata": {},
   "outputs": [
    {
     "name": "stdout",
     "output_type": "stream",
     "text": [
      "feature[title_keyword,submission_time,username,subreddit]: [554, 0, 518.5, 36.92905338181292]\n",
      "label[comment_number]: 1\n"
     ]
    }
   ],
   "source": [
    "title_comment_list = title()\n",
    "submission_list = submission()\n",
    "user_comment_list = username()\n",
    "sub_comment_list = subreddit()\n",
    "\n",
    "comment_feature_list = []\n",
    "comment_label_list = []\n",
    "for i in range(len(data)):\n",
    "    large = 0\n",
    "    comment_feature_list.append([title_comment_list[i],submission_list[i],user_comment_list[i],sub_comment_list[i]])\n",
    "    if data[i]['number_of_comments'] > 15: large = 1\n",
    "    comment_label_list.append(large)\n",
    "\n",
    "print \"feature[title_keyword,submission_time,username,subreddit]:\",comment_feature_list[0]\n",
    "print \"label[comment_number]:\",comment_label_list[0]"
   ]
  },
  {
   "cell_type": "code",
   "execution_count": 14,
   "metadata": {},
   "outputs": [
    {
     "data": {
      "text/plain": [
       "[0, 2, 0.8732168330955777, 0.8732168330955777]"
      ]
     },
     "execution_count": 14,
     "metadata": {},
     "output_type": "execute_result"
    }
   ],
   "source": [
    "comment_feature_list[2]"
   ]
  },
  {
   "cell_type": "code",
   "execution_count": 21,
   "metadata": {},
   "outputs": [
    {
     "data": {
      "text/plain": [
       "0"
      ]
     },
     "execution_count": 21,
     "metadata": {},
     "output_type": "execute_result"
    }
   ],
   "source": [
    "comment_label_list[11]"
   ]
  },
  {
   "cell_type": "code",
   "execution_count": 22,
   "metadata": {
    "collapsed": true
   },
   "outputs": [],
   "source": [
    "import os\n",
    "import time\n",
    "from sklearn import metrics\n",
    "import numpy as np\n",
    "import pickle\n",
    "\n",
    "import sys"
   ]
  },
  {
   "cell_type": "code",
   "execution_count": 23,
   "metadata": {
    "collapsed": true
   },
   "outputs": [],
   "source": [
    "def naive_bayes_classifier(train_x, train_y):\n",
    "    from sklearn.naive_bayes import GaussianNB\n",
    "    model = GaussianNB()\n",
    "    model.fit(train_x, train_y)\n",
    "    return model"
   ]
  },
  {
   "cell_type": "code",
   "execution_count": 24,
   "metadata": {},
   "outputs": [
    {
     "name": "stderr",
     "output_type": "stream",
     "text": [
      "/anaconda2/lib/python2.7/site-packages/sklearn/cross_validation.py:41: DeprecationWarning: This module was deprecated in version 0.18 in favor of the model_selection module into which all the refactored classes and functions are moved. Also note that the interface of the new CV iterators are different from that of this module. This module will be removed in 0.20.\n",
      "  \"This module will be removed in 0.20.\", DeprecationWarning)\n"
     ]
    }
   ],
   "source": [
    "from sklearn.cross_validation import train_test_split\n",
    "from sklearn.neighbors import KNeighborsClassifier\n",
    "from sklearn import metrics"
   ]
  },
  {
   "cell_type": "code",
   "execution_count": 25,
   "metadata": {
    "collapsed": true
   },
   "outputs": [],
   "source": [
    "X_train, X_test, y_train, y_test = train_test_split(comment_feature_list, comment_label_list, random_state=4)"
   ]
  },
  {
   "cell_type": "code",
   "execution_count": 32,
   "metadata": {
    "collapsed": true
   },
   "outputs": [],
   "source": [
    "from sklearn import preprocessing\n",
    "scaler = preprocessing.StandardScaler()\n",
    "X_train = scaler.fit_transform(X_train)\n",
    "X_test = scaler.transform(X_test)"
   ]
  },
  {
   "cell_type": "code",
   "execution_count": 33,
   "metadata": {},
   "outputs": [
    {
     "data": {
      "text/plain": [
       "99230"
      ]
     },
     "execution_count": 33,
     "metadata": {},
     "output_type": "execute_result"
    }
   ],
   "source": [
    "len(X_train)"
   ]
  },
  {
   "cell_type": "code",
   "execution_count": 34,
   "metadata": {},
   "outputs": [
    {
     "data": {
      "text/plain": [
       "33077"
      ]
     },
     "execution_count": 34,
     "metadata": {},
     "output_type": "execute_result"
    }
   ],
   "source": [
    "len(X_test)"
   ]
  },
  {
   "cell_type": "code",
   "execution_count": 35,
   "metadata": {},
   "outputs": [
    {
     "name": "stdout",
     "output_type": "stream",
     "text": [
      "0.847809656257\n"
     ]
    }
   ],
   "source": [
    "# check classification accuracy of KNN with K=5\n",
    "knn = KNeighborsClassifier(n_neighbors=5)\n",
    "knn.fit(X_train, y_train)\n",
    "y_pred = knn.predict(X_test)\n",
    "print(metrics.accuracy_score(y_test, y_pred))"
   ]
  },
  {
   "cell_type": "code",
   "execution_count": 31,
   "metadata": {},
   "outputs": [
    {
     "data": {
      "text/plain": [
       "array([0, 0, 0, 1, 0, 1, 0, 0, 1, 0, 0, 0, 0, 0, 0, 0, 0, 0, 0, 0, 0, 0, 0,\n",
       "       1, 0, 0, 1, 0, 0, 0, 0, 0, 0, 1, 0, 0, 1, 0, 1, 1, 0, 0, 0, 0, 1, 0,\n",
       "       1, 1, 0, 1, 0, 0, 0, 0, 0, 0, 1, 0, 0, 0, 0, 0, 0, 0, 0, 0, 0, 0, 0,\n",
       "       0, 0, 0, 0, 0, 0, 0, 1, 0, 0, 0, 1, 0, 0, 1, 1, 0, 1, 1, 0, 0, 0, 0,\n",
       "       0, 1, 0, 0, 0, 1, 0, 0])"
      ]
     },
     "execution_count": 31,
     "metadata": {},
     "output_type": "execute_result"
    }
   ],
   "source": [
    "y_pred[0:100]"
   ]
  },
  {
   "cell_type": "code",
   "execution_count": 37,
   "metadata": {},
   "outputs": [
    {
     "name": "stdout",
     "output_type": "stream",
     "text": [
      "[ 0.84974302  0.84893681  0.84661897  0.84762673  0.84863449  0.8502469\n",
      "  0.84561121  0.84742517  0.85075078  0.8498438 ]\n"
     ]
    }
   ],
   "source": [
    "from sklearn.cross_validation import cross_val_score\n",
    "knn = KNeighborsClassifier(n_neighbors=5)\n",
    "scores = cross_val_score(knn, X_train, y_train, cv=10, scoring='accuracy')\n",
    "print(scores)"
   ]
  },
  {
   "cell_type": "code",
   "execution_count": 38,
   "metadata": {},
   "outputs": [
    {
     "name": "stdout",
     "output_type": "stream",
     "text": [
      "[0.82751184117706345, 0.82285599113171415, 0.84256777184319254, 0.83773052504282963, 0.84854378716114076, 0.8449662400483724, 0.85230273102892284, 0.84937015015620287, 0.85346165474150959, 0.85053915146629033, 0.85504383754912838, 0.85322986999899231, 0.85538647586415395, 0.85372367227652912, 0.85589035573919181, 0.85466088884409941, 0.85634384762672577, 0.85462057845409645, 0.85585004534918885, 0.85470119923410248, 0.85510430313413277, 0.85448956968658685, 0.85572911417917974, 0.8545903456615942, 0.85567872619167584, 0.8552957774866472, 0.8555376398266652, 0.85467096644160034, 0.85499344956162449, 0.85447949208908602]\n"
     ]
    }
   ],
   "source": [
    "# search for an optimal value of K for KNN\n",
    "k_range = list(range(1, 31))\n",
    "k_scores = []\n",
    "for k in k_range:\n",
    "    knn = KNeighborsClassifier(n_neighbors=k)\n",
    "    scores = cross_val_score(knn, X_train, y_train, cv=10, scoring='accuracy')\n",
    "    k_scores.append(scores.mean())\n",
    "print(k_scores)"
   ]
  },
  {
   "cell_type": "code",
   "execution_count": 43,
   "metadata": {},
   "outputs": [
    {
     "data": {
      "image/png": "[encoded data removed]",
      "text/plain": [
       "<matplotlib.figure.Figure at 0x1a130520d0>"
      ]
     },
     "metadata": {},
     "output_type": "display_data"
    }
   ],
   "source": [
    "import matplotlib.pyplot as plt\n",
    "%matplotlib inline\n",
    "# plot the value of K for KNN (x-axis) versus the cross-validated accuracy (y-axis)\n",
    "plt.plot(k_range, k_scores)\n",
    "plt.xlabel('Value of K for KNN')\n",
    "plt.ylabel('Cross-Validated Accuracy')\n",
    "plt.show()"
   ]
  },
  {
   "cell_type": "code",
   "execution_count": 39,
   "metadata": {},
   "outputs": [
    {
     "name": "stdout",
     "output_type": "stream",
     "text": [
      "0.856343847627\n"
     ]
    }
   ],
   "source": [
    "# The optimal value of K is 17\n",
    "knn = KNeighborsClassifier(n_neighbors=17)\n",
    "scores = cross_val_score(knn, X_train, y_train, cv=10, scoring='accuracy')\n",
    "print(scores.mean())"
   ]
  },
  {
   "cell_type": "code",
   "execution_count": null,
   "metadata": {
    "collapsed": true
   },
   "outputs": [],
   "source": []
  }
 ],
 "metadata": {
  "kernelspec": {
   "display_name": "Python 2",
   "language": "python",
   "name": "python2"
  },
  "language_info": {
   "codemirror_mode": {
    "name": "ipython",
    "version": 2
   },
   "file_extension": ".py",
   "mimetype": "text/x-python",
   "name": "python",
   "nbconvert_exporter": "python",
   "pygments_lexer": "ipython2",
   "version": "2.7.13"
  }
 },
 "nbformat": 4,
 "nbformat_minor": 2
}
