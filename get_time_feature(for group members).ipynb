{
 "cells": [
  {
   "cell_type": "code",
   "execution_count": 14,
   "metadata": {
    "collapsed": true
   },
   "outputs": [],
   "source": [
    "# read data\n",
    "import csv\n",
    "\n",
    "def load_data():\n",
    "    data = []\n",
    "\n",
    "    label = ['image_id','unixtime','rawtime','title','total_votes','reddit_id','number_of_upvotes',\\\n",
    "    'subreddit','number_of_downvotes','localtime','score','number_of_comments','username',\\\n",
    "    'undefined1','undefined2', 'undefined3']\n",
    "\n",
    "    with open('data/redditSubmissions.csv') as csvfile:\n",
    "        csvReader = csv.reader(csvfile)\n",
    "        for row in csvReader:\n",
    "            if row[0] == '#image_id' or len(row) < 13:\n",
    "                continue\n",
    "\n",
    "            d = {}\n",
    "            for i,elem in enumerate(row):\n",
    "                d[label[i]] = elem\n",
    "            data.append(d)\n",
    "\n",
    "\n",
    "    return data\n",
    "\n",
    "\n",
    "data = load_data()\n"
   ]
  },
  {
   "cell_type": "markdown",
   "metadata": {},
   "source": [
    "Since there are 132307 valid data entries, there are 132307 submissions."
   ]
  },
  {
   "cell_type": "code",
   "execution_count": 16,
   "metadata": {
    "collapsed": false
   },
   "outputs": [],
   "source": [
    "# Score of sucess versus time\n",
    "# Notice that the T in rawtime does not mean Tuesday, but means Time\n",
    "\n",
    "import re\n",
    "catchTime = re.compile(\"(.*)T(\\d{2}):(\\d{2}).*((-|\\+)\\d{2})\")\n",
    "\n",
    "\n",
    "for d in data:\n",
    "    t = d['rawtime']\n",
    "    m = catchTime.search(t)\n",
    "    if m:\n",
    "        d['hour'] = int(m.group(2))\n",
    "        d['minute'] = int(m.group(3))\n",
    "        if d['minute'] >= 30:\n",
    "            d['time'] = (d['hour'] +1)%24\n",
    "        else:\n",
    "            d['time'] = d['hour']\n",
    "        \n",
    "        d['timezone'] = int(m.group(4))\n",
    "        d['UTCtime'] = (d['time'] + d['timezone'])%24"
   ]
  },
  {
   "cell_type": "code",
   "execution_count": 20,
   "metadata": {
    "collapsed": false,
    "scrolled": true
   },
   "outputs": [
    {
     "data": {
      "text/plain": [
       "{'UTCtime': 6,\n",
       " 'hour': 12,\n",
       " 'image_id': '0',\n",
       " 'localtime': '1333197639',\n",
       " 'minute': 40,\n",
       " 'number_of_comments': '622',\n",
       " 'number_of_downvotes': '30813',\n",
       " 'number_of_upvotes': '32657',\n",
       " 'rawtime': '2012-03-31T12:40:39.590113-07:00',\n",
       " 'reddit_id': 'rmqjs',\n",
       " 'score': '1844',\n",
       " 'subreddit': 'funny',\n",
       " 'time': 13,\n",
       " 'timezone': -7,\n",
       " 'title': \"And here's a downvote.\",\n",
       " 'total_votes': '63470',\n",
       " 'unixtime': '1333172439',\n",
       " 'username': 'Animates_Everything'}"
      ]
     },
     "execution_count": 20,
     "metadata": {},
     "output_type": "execute_result"
    }
   ],
   "source": [
    "# A peek of data\n",
    "data[0]"
   ]
  },
  {
   "cell_type": "code",
   "execution_count": null,
   "metadata": {
    "collapsed": true
   },
   "outputs": [],
   "source": []
  }
 ],
 "metadata": {
  "anaconda-cloud": {},
  "kernelspec": {
   "display_name": "Python [conda root]",
   "language": "python",
   "name": "conda-root-py"
  },
  "language_info": {
   "codemirror_mode": {
    "name": "ipython",
    "version": 2
   },
   "file_extension": ".py",
   "mimetype": "text/x-python",
   "name": "python",
   "nbconvert_exporter": "python",
   "pygments_lexer": "ipython2",
   "version": "2.7.12"
  }
 },
 "nbformat": 4,
 "nbformat_minor": 1
}
