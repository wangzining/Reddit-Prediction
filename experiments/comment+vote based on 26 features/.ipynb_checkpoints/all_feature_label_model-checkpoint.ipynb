{
 "cells": [
  {
   "cell_type": "code",
   "execution_count": 1,
   "metadata": {
    "collapsed": true
   },
   "outputs": [],
   "source": [
    "import csv\n",
    "import json\n",
    "from collections import defaultdict\n",
    "import matplotlib.pyplot as plt\n",
    "import string\n",
    "import nltk\n",
    "#nltk.download('stopwords')\n",
    "from nltk.corpus import stopwords\n",
    "from operator import itemgetter"
   ]
  },
  {
   "cell_type": "code",
   "execution_count": 2,
   "metadata": {
    "collapsed": true
   },
   "outputs": [],
   "source": [
    "def load_data():\n",
    "    data = []\n",
    "    label = ['image_id','unixtime','rawtime','title','total_votes','reddit_id','number_of_upvotes',\\\n",
    "    'subreddit','number_of_downvotes','localtime','score','number_of_comments','username',\\\n",
    "    'undefined1','undefined2', 'undefined3']\n",
    "\n",
    "    with open('submissions.csv') as csvfile:\n",
    "        csvReader = csv.reader(csvfile)\n",
    "        for row in csvReader:\n",
    "            if row[0] == '#image_id':\n",
    "                continue\n",
    "            d = {}\n",
    "            for i,elem in enumerate(row):\n",
    "                if label[i]=='total_votes' or label[i]=='number_of_upvotes' or label[i]=='number_of_downvotes' or label[i]=='score' or label[i]=='number_of_comments':\n",
    "                    d[label[i]] = int(elem)\n",
    "                else:\n",
    "                    d[label[i]] = elem\n",
    "                    #judge if element it is empty\n",
    "            data.append(d)\n",
    "    return data"
   ]
  },
  {
   "cell_type": "code",
   "execution_count": 3,
   "metadata": {
    "collapsed": true
   },
   "outputs": [],
   "source": [
    "data = load_data()\n",
    "comments_sorted_data = sorted(data, key=itemgetter('number_of_comments'), reverse=True)\n",
    "votes_sorted_data = sorted(data, key=itemgetter('total_votes'), reverse=True)"
   ]
  },
  {
   "cell_type": "code",
   "execution_count": 4,
   "metadata": {
    "collapsed": true
   },
   "outputs": [],
   "source": [
    "def title():\n",
    "    wordCount = defaultdict(int)\n",
    "    punctuation = set(string.punctuation)\n",
    "\n",
    "    # word count in top 25000 titles with most comment numbers\n",
    "    for d in comments_sorted_data[0:25000]:\n",
    "        r = ''.join([c for c in d['title'].lower() if not c in punctuation])\n",
    "        for w in r.split():\n",
    "            wordCount[w] += 1\n",
    "\n",
    "    # remove English stopwords\n",
    "    for w in stopwords.words(\"english\"):\n",
    "        if w in wordCount:\n",
    "            wordCount.pop(w)\n",
    "\n",
    "    #print(len(wordCount))\n",
    "    counts = [(wordCount[w], w) for w in wordCount]\n",
    "    counts.sort()\n",
    "    counts.reverse()\n",
    "\n",
    "    # take top 1000 words to be targets\n",
    "    words = [x[1] for x in counts[:1000]]\n",
    "    wordId = dict(zip(words, range(len(words))))\n",
    "    wordSet = set(words)\n",
    "\n",
    "    title_comment_list = []\n",
    "    for d in data:\n",
    "        title_comment_num = 0\n",
    "        for i,w in enumerate(words):\n",
    "            if w in d['title']:\n",
    "                title_comment_num = title_comment_num + (1000-i)\n",
    "        title_comment_list.append(title_comment_num)\n",
    "\n",
    "    return title_comment_list"
   ]
  },
  {
   "cell_type": "code",
   "execution_count": 5,
   "metadata": {
    "collapsed": true
   },
   "outputs": [],
   "source": [
    "#subreddit feature\n",
    "def get_popular_subreddit():\n",
    "    sub_post_num = defaultdict(int)\n",
    "    sub_post_sorted = {}\n",
    "    for d in data:\n",
    "        sub = d.get('subreddit')\n",
    "        sub_post_num[sub] += 1\n",
    "    for key, value in sorted(sub_post_num.iteritems(), key=lambda (k,v): (v,k),reverse = True):\n",
    "        sub_post_sorted[key] = value\n",
    "        #sub_post_sorted.append((key,value))\n",
    "        #print \"%s: %s\" % (key, value)\n",
    "    return sub_post_sorted\n",
    "\n",
    "sub_post_sorted = get_popular_subreddit()"
   ]
  },
  {
   "cell_type": "code",
   "execution_count": 6,
   "metadata": {
    "collapsed": true
   },
   "outputs": [],
   "source": [
    "def popular_subreddit():\n",
    "    subreddit_list = []\n",
    "    for d in data:\n",
    "        sub = d.get('subreddit')\n",
    "        subreddit_list.append(sub_post_sorted[sub])\n",
    "    return subreddit_list\n",
    "\n",
    "subreddit_list = popular_subreddit()"
   ]
  },
  {
   "cell_type": "code",
   "execution_count": 7,
   "metadata": {
    "collapsed": true
   },
   "outputs": [],
   "source": [
    "import re\n",
    "def get_time_feature(d):\n",
    "    # Create dummy variables based on exploratory analysis of this dataset and previous plots\n",
    "    time_feature = []  #night(22-1),sleep time(2-7),morning(8-11),afternoon(12-17),[evening(18-21) is omitted]\n",
    "                       #UTC+8,UTC+7,[UTC+0 is omitted]\n",
    "    \n",
    "    catchTime = re.compile(\"(.*)T(\\d{2}):(\\d{2}).*((-|\\+)\\d{2})\")\n",
    "    \n",
    "    \n",
    "    t = d['rawtime']\n",
    "    m = catchTime.search(t)\n",
    "    if m:\n",
    "        d['hour'] = int(m.group(2))\n",
    "        d['minute'] = int(m.group(3))\n",
    "        if d['minute'] >= 30:\n",
    "            d['time'] = (d['hour'] +1*0)%24\n",
    "        else:\n",
    "            d['time'] = d['hour']\n",
    "\n",
    "        d['timezone'] = int(m.group(4))\n",
    "        d['UTCtime'] = (d['time'] + d['timezone'])%24\n",
    "            \n",
    "    if d['UTCtime'] >= 22 or d['UTCtime'] <= 1:\n",
    "        time_feature.append(1)\n",
    "    else:\n",
    "        time_feature.append(0)\n",
    "        \n",
    "    if d['UTCtime'] >= 2 and d['UTCtime'] <= 7:\n",
    "        time_feature.append(1)\n",
    "    else:\n",
    "        time_feature.append(0)\n",
    "        \n",
    "    if d['UTCtime'] >= 8 and d['UTCtime'] <= 11:\n",
    "        time_feature.append(1)\n",
    "    else:\n",
    "        time_feature.append(0)\n",
    "    \n",
    "    if d['UTCtime'] >= 12 and d['UTCtime'] <= 17:\n",
    "        time_feature.append(1)\n",
    "    else:\n",
    "        time_feature.append(0)\n",
    "    \n",
    "    if d['timezone'] == -8:\n",
    "        time_feature.append(1)\n",
    "    else:\n",
    "        time_feature.append(0)\n",
    "    \n",
    "    if d['timezone'] == -7:\n",
    "        time_feature.append(1)\n",
    "    else:\n",
    "        time_feature.append(0)\n",
    "    \n",
    "    return time_feature"
   ]
  },
  {
   "cell_type": "code",
   "execution_count": 8,
   "metadata": {
    "collapsed": true
   },
   "outputs": [],
   "source": [
    "import datetime\n",
    "def get_date_feature(d):\n",
    "    date_feature = [0]*17 #month(1-11),weekday(Monday-Saturday)\n",
    "    t = d['unixtime']\n",
    "    this_day = datetime.datetime.utcfromtimestamp(int(t))\n",
    "    if this_day.month != 12 and this_day.weekday() != 6:\n",
    "        date_feature[this_day.month-1] = 1\n",
    "        date_feature[this_day.weekday()+11] = 1\n",
    "    return date_feature\n"
   ]
  },
  {
   "cell_type": "code",
   "execution_count": 9,
   "metadata": {
    "collapsed": true,
    "scrolled": false
   },
   "outputs": [],
   "source": [
    "raw_time_list = []\n",
    "date_list = []\n",
    "for d in data:\n",
    "    raw_time_list.append(get_time_feature(d))\n",
    "    date_list.append(get_date_feature(d))"
   ]
  },
  {
   "cell_type": "code",
   "execution_count": 10,
   "metadata": {
    "collapsed": true
   },
   "outputs": [],
   "source": [
    "# submission time feature\n",
    "def submission():\n",
    "    ID = '-1'\n",
    "    submission_list = []\n",
    "\n",
    "    # original data is sorted in image_ID, count submission times before current submission\n",
    "    for d in data:\n",
    "        if d['image_id'] == ID:\n",
    "            count = count + 1\n",
    "            d['submission_time'] = count\n",
    "        else:\n",
    "            count = 0\n",
    "            ID = d['image_id']\n",
    "            d['submission_time'] = count\n",
    "\n",
    "    for d in data:\n",
    "        submission_list.append(d['submission_time'])\n",
    "\n",
    "    return submission_list"
   ]
  },
  {
   "cell_type": "code",
   "execution_count": 11,
   "metadata": {
    "collapsed": true
   },
   "outputs": [],
   "source": [
    "# username feature\n",
    "def username():\n",
    "    with open('all_user_profile.json', 'r') as f:\n",
    "        all_user_profile = json.load(f)\n",
    "    #post_list = []\n",
    "    #user_votes_list = []\n",
    "    #user_votes_dict = {}\n",
    "    user_comment_list = []\n",
    "    user_comment_dict = {}\n",
    "    for user in all_user_profile:\n",
    "        #post_list.append(user.get('num_of_post'))\n",
    "        #user_votes_dict[user.get('username')] = user.get('avg_votes')\n",
    "        user_comment_dict[user.get('username')] = user.get('avg_comments')\n",
    "\n",
    "    for d in data:\n",
    "        if d['username']=='':\n",
    "            user_comment_list.append(d['number_of_comments'])\n",
    "        elif d['username'] in user_comment_dict:\n",
    "            user_comment_list.append(user_comment_dict[d['username']])\n",
    "        #if d['username'] in user_votes_dict:\n",
    "            #user_votes_list.append(user_votes_dict[d['username']])\n",
    "\n",
    "    return user_comment_list"
   ]
  },
  {
   "cell_type": "code",
   "execution_count": 12,
   "metadata": {
    "collapsed": true
   },
   "outputs": [],
   "source": [
    "#subreddit feature\n",
    "def subreddit():\n",
    "    with open('all_subreddit_profile.json', 'r') as f:\n",
    "        all_subreddit_profile = json.load(f)\n",
    "    #post_list = []\n",
    "    sub_comment_list = []\n",
    "    sub_comment_dict = {}\n",
    "    sub_votes_list = []\n",
    "    sub_votes_dict = {}\n",
    "    for sub in all_subreddit_profile:\n",
    "        # post_list.append(sub.get('num_of_post'))\n",
    "        #sub_votes_dict[sub.get('subreddit')] = sub.get('avg_votes')\n",
    "        sub_comment_dict[sub.get('subreddit')] = sub.get('avg_comments')\n",
    "\n",
    "    for d in data:\n",
    "        if d['subreddit']=='':\n",
    "            sub_comment_list.append(d['number_of_comments'])\n",
    "        elif d['subreddit'] in sub_comment_dict:\n",
    "            sub_comment_list.append(sub_comment_dict[d['subreddit']])\n",
    "        #if d['subreddit'] in sub_votes_dict:\n",
    "            #sub_votes_list.append(sub_votes_dict[d['subreddit']])\n",
    "\n",
    "    return sub_comment_list"
   ]
  },
  {
   "cell_type": "code",
   "execution_count": 13,
   "metadata": {
    "collapsed": true
   },
   "outputs": [],
   "source": [
    "with open('kmean_d.json', 'r') as f:\n",
    "        Kmeans_title = json.load(f)"
   ]
  },
  {
   "cell_type": "code",
   "execution_count": 14,
   "metadata": {
    "collapsed": true
   },
   "outputs": [],
   "source": [
    "with open('title_len_list.json', 'r') as f:\n",
    "        title_len_list = json.load(f)"
   ]
  },
  {
   "cell_type": "code",
   "execution_count": 15,
   "metadata": {
    "collapsed": false
   },
   "outputs": [],
   "source": [
    "# with open('LSA_m.json', 'r') as f:\n",
    "#         LSA_m = json.load(f)\n",
    "#Tuoying's part is missing :("
   ]
  },
  {
   "cell_type": "code",
   "execution_count": 18,
   "metadata": {
    "collapsed": false,
    "scrolled": true
   },
   "outputs": [
    {
     "name": "stdout",
     "output_type": "stream",
     "text": [
      "feature[title_keyword,submission_time,username,subreddit]: 26\n",
      "label[total_votes]: 1\n"
     ]
    }
   ],
   "source": [
    "submission_list = submission()\n",
    "\n",
    "comment_feature_list = []\n",
    "comment_label_list = []\n",
    "for i in range(len(data)):\n",
    "    large = 0\n",
    "#Kmeans_title[i],\n",
    "#subreddit_list[i],\n",
    "    tmp_list = [submission_list[i],title_len_list[i],raw_time_list[i][0],raw_time_list[i][1],raw_time_list[i][2],raw_time_list[i][3],raw_time_list[i][4],raw_time_list[i][5]]\n",
    "# 100 d LSA feature\n",
    "    #     for k in LSA_m[i]:\n",
    "#         tmp_list.append(k) \n",
    "#17 d date feature\n",
    "#     for d in date_list[i]:\n",
    "#          tmp_list.append(d)\n",
    "    tmp_list.extend(date_list[i])\n",
    "    tmp_list.append(subreddit_list[i])\n",
    "    comment_feature_list.append(tmp_list)\n",
    "    \n",
    "    if data[i]['number_of_comments']*0.2 + data[i]['total_votes']*0.8  > 36: large = 1 #votes and comment label \n",
    "    #if data[i]['number_of_comments'] > 3: large = 1 #comment label \n",
    "    #if data[i]['total_votes'] > 45: large = 1 #votes label \n",
    "    comment_label_list.append(large)\n",
    "\n",
    "print \"feature[title_keyword,submission_time,username,subreddit]:\",len(comment_feature_list[0])\n",
    "print \"label[total_votes]:\",comment_label_list[0]"
   ]
  },
  {
   "cell_type": "code",
   "execution_count": 21,
   "metadata": {
    "collapsed": false
   },
   "outputs": [
    {
     "data": {
      "text/plain": [
       "[55281, 5608, 5608, 5608, 5608, 12538, 473, 55281, 55281, 24712]"
      ]
     },
     "execution_count": 21,
     "metadata": {},
     "output_type": "execute_result"
    }
   ],
   "source": [
    "subreddit_list[0:10]"
   ]
  },
  {
   "cell_type": "code",
   "execution_count": 45,
   "metadata": {
    "collapsed": false,
    "scrolled": true
   },
   "outputs": [
    {
     "data": {
      "text/plain": [
       "0"
      ]
     },
     "execution_count": 45,
     "metadata": {},
     "output_type": "execute_result"
    }
   ],
   "source": [
    "comment_feature_list[0][0]"
   ]
  },
  {
   "cell_type": "code",
   "execution_count": 24,
   "metadata": {
    "collapsed": true
   },
   "outputs": [],
   "source": [
    "import os\n",
    "import time\n",
    "from sklearn import metrics\n",
    "import numpy as np\n",
    "import pickle\n",
    "\n",
    "import sys"
   ]
  },
  {
   "cell_type": "code",
   "execution_count": 25,
   "metadata": {
    "collapsed": false
   },
   "outputs": [
    {
     "name": "stdout",
     "output_type": "stream",
     "text": [
      "The scikit-learn version is 0.19.1.\n"
     ]
    }
   ],
   "source": [
    "import sklearn\n",
    "print('The scikit-learn version is {}.'.format(sklearn.__version__))"
   ]
  },
  {
   "cell_type": "code",
   "execution_count": 26,
   "metadata": {
    "collapsed": false,
    "scrolled": true
   },
   "outputs": [
    {
     "name": "stderr",
     "output_type": "stream",
     "text": [
      "//anaconda/lib/python2.7/site-packages/sklearn/cross_validation.py:41: DeprecationWarning: This module was deprecated in version 0.18 in favor of the model_selection module into which all the refactored classes and functions are moved. Also note that the interface of the new CV iterators are different from that of this module. This module will be removed in 0.20.\n",
      "  \"This module will be removed in 0.20.\", DeprecationWarning)\n"
     ]
    }
   ],
   "source": [
    "from sklearn.cross_validation import train_test_split\n",
    "from sklearn.neighbors import KNeighborsClassifier\n",
    "from sklearn import metrics"
   ]
  },
  {
   "cell_type": "code",
   "execution_count": 27,
   "metadata": {
    "collapsed": true
   },
   "outputs": [],
   "source": [
    "X_train, X_test, y_train, y_test = train_test_split(comment_feature_list, comment_label_list, random_state=4)"
   ]
  },
  {
   "cell_type": "code",
   "execution_count": 28,
   "metadata": {
    "collapsed": false
   },
   "outputs": [
    {
     "data": {
      "text/plain": [
       "[[5,\n",
       "  8,\n",
       "  0,\n",
       "  0,\n",
       "  0,\n",
       "  1,\n",
       "  0,\n",
       "  1,\n",
       "  0,\n",
       "  0,\n",
       "  1,\n",
       "  0,\n",
       "  0,\n",
       "  0,\n",
       "  0,\n",
       "  0,\n",
       "  0,\n",
       "  0,\n",
       "  0,\n",
       "  0,\n",
       "  0,\n",
       "  0,\n",
       "  0,\n",
       "  1,\n",
       "  0,\n",
       "  55281],\n",
       " [16,\n",
       "  7,\n",
       "  1,\n",
       "  0,\n",
       "  0,\n",
       "  0,\n",
       "  0,\n",
       "  1,\n",
       "  0,\n",
       "  0,\n",
       "  0,\n",
       "  0,\n",
       "  0,\n",
       "  0,\n",
       "  0,\n",
       "  0,\n",
       "  1,\n",
       "  0,\n",
       "  0,\n",
       "  0,\n",
       "  0,\n",
       "  0,\n",
       "  1,\n",
       "  0,\n",
       "  0,\n",
       "  5608],\n",
       " [1,\n",
       "  6,\n",
       "  0,\n",
       "  1,\n",
       "  0,\n",
       "  0,\n",
       "  0,\n",
       "  1,\n",
       "  0,\n",
       "  0,\n",
       "  1,\n",
       "  0,\n",
       "  0,\n",
       "  0,\n",
       "  0,\n",
       "  0,\n",
       "  0,\n",
       "  0,\n",
       "  0,\n",
       "  0,\n",
       "  0,\n",
       "  1,\n",
       "  0,\n",
       "  0,\n",
       "  0,\n",
       "  12193],\n",
       " [3,\n",
       "  8,\n",
       "  0,\n",
       "  1,\n",
       "  0,\n",
       "  0,\n",
       "  0,\n",
       "  1,\n",
       "  0,\n",
       "  0,\n",
       "  0,\n",
       "  1,\n",
       "  0,\n",
       "  0,\n",
       "  0,\n",
       "  0,\n",
       "  0,\n",
       "  0,\n",
       "  0,\n",
       "  0,\n",
       "  0,\n",
       "  0,\n",
       "  0,\n",
       "  1,\n",
       "  0,\n",
       "  55281],\n",
       " [0,\n",
       "  9,\n",
       "  0,\n",
       "  0,\n",
       "  1,\n",
       "  0,\n",
       "  0,\n",
       "  1,\n",
       "  0,\n",
       "  0,\n",
       "  0,\n",
       "  0,\n",
       "  0,\n",
       "  1,\n",
       "  0,\n",
       "  0,\n",
       "  0,\n",
       "  0,\n",
       "  0,\n",
       "  0,\n",
       "  0,\n",
       "  0,\n",
       "  1,\n",
       "  0,\n",
       "  0,\n",
       "  3366],\n",
       " [12,\n",
       "  3,\n",
       "  0,\n",
       "  0,\n",
       "  1,\n",
       "  0,\n",
       "  0,\n",
       "  0,\n",
       "  0,\n",
       "  0,\n",
       "  0,\n",
       "  0,\n",
       "  0,\n",
       "  0,\n",
       "  0,\n",
       "  0,\n",
       "  1,\n",
       "  0,\n",
       "  0,\n",
       "  0,\n",
       "  0,\n",
       "  0,\n",
       "  0,\n",
       "  0,\n",
       "  1,\n",
       "  12193],\n",
       " [4,\n",
       "  1,\n",
       "  1,\n",
       "  0,\n",
       "  0,\n",
       "  0,\n",
       "  0,\n",
       "  1,\n",
       "  0,\n",
       "  0,\n",
       "  0,\n",
       "  0,\n",
       "  0,\n",
       "  1,\n",
       "  0,\n",
       "  0,\n",
       "  0,\n",
       "  0,\n",
       "  0,\n",
       "  0,\n",
       "  0,\n",
       "  0,\n",
       "  0,\n",
       "  1,\n",
       "  0,\n",
       "  55281],\n",
       " [4,\n",
       "  2,\n",
       "  0,\n",
       "  0,\n",
       "  0,\n",
       "  0,\n",
       "  0,\n",
       "  0,\n",
       "  0,\n",
       "  0,\n",
       "  0,\n",
       "  0,\n",
       "  0,\n",
       "  0,\n",
       "  0,\n",
       "  0,\n",
       "  0,\n",
       "  1,\n",
       "  0,\n",
       "  0,\n",
       "  1,\n",
       "  0,\n",
       "  0,\n",
       "  0,\n",
       "  0,\n",
       "  55281],\n",
       " [3,\n",
       "  5,\n",
       "  0,\n",
       "  1,\n",
       "  0,\n",
       "  0,\n",
       "  0,\n",
       "  0,\n",
       "  0,\n",
       "  0,\n",
       "  0,\n",
       "  0,\n",
       "  0,\n",
       "  0,\n",
       "  0,\n",
       "  0,\n",
       "  0,\n",
       "  1,\n",
       "  0,\n",
       "  0,\n",
       "  1,\n",
       "  0,\n",
       "  0,\n",
       "  0,\n",
       "  0,\n",
       "  55281],\n",
       " [8,\n",
       "  8,\n",
       "  0,\n",
       "  0,\n",
       "  0,\n",
       "  1,\n",
       "  0,\n",
       "  1,\n",
       "  0,\n",
       "  0,\n",
       "  0,\n",
       "  1,\n",
       "  0,\n",
       "  0,\n",
       "  0,\n",
       "  0,\n",
       "  0,\n",
       "  0,\n",
       "  0,\n",
       "  1,\n",
       "  0,\n",
       "  0,\n",
       "  0,\n",
       "  0,\n",
       "  0,\n",
       "  12538]]"
      ]
     },
     "execution_count": 28,
     "metadata": {},
     "output_type": "execute_result"
    }
   ],
   "source": [
    "X_train[0:10]"
   ]
  },
  {
   "cell_type": "code",
   "execution_count": 29,
   "metadata": {
    "collapsed": true
   },
   "outputs": [],
   "source": [
    "from sklearn import preprocessing\n",
    "scaler = preprocessing.StandardScaler()\n",
    "min_max_scaler = preprocessing.MinMaxScaler()\n",
    "X_train = scaler.fit_transform(X_train)\n",
    "X_test = scaler.transform(X_test)"
   ]
  },
  {
   "cell_type": "code",
   "execution_count": 30,
   "metadata": {
    "collapsed": false
   },
   "outputs": [
    {
     "data": {
      "text/plain": [
       "99230"
      ]
     },
     "execution_count": 30,
     "metadata": {},
     "output_type": "execute_result"
    }
   ],
   "source": [
    "len(X_train)"
   ]
  },
  {
   "cell_type": "code",
   "execution_count": 31,
   "metadata": {
    "collapsed": false
   },
   "outputs": [
    {
     "data": {
      "text/plain": [
       "33077"
      ]
     },
     "execution_count": 31,
     "metadata": {},
     "output_type": "execute_result"
    }
   ],
   "source": [
    "len(X_test)"
   ]
  },
  {
   "cell_type": "code",
   "execution_count": 31,
   "metadata": {
    "collapsed": false,
    "scrolled": true
   },
   "outputs": [
    {
     "data": {
      "text/plain": [
       "array([[-0.25810155,  0.31366411, -0.45460294, -0.63410438, -0.44275513,\n",
       "         1.72046876, -0.18079946,  0.71826926, -0.21337249, -0.16718038,\n",
       "         5.21366805, -0.21205259, -0.21568545, -0.23782342, -0.30874974,\n",
       "        -0.33838666, -0.4420712 , -0.40756406, -0.28530026, -0.40658849,\n",
       "        -0.40652117, -0.40581404, -0.40927731,  2.60074379, -0.37074249],\n",
       "       [ 0.56022825,  0.09901414,  2.19972183, -0.63410438, -0.44275513,\n",
       "        -0.58123694, -0.18079946,  0.71826926, -0.21337249, -0.16718038,\n",
       "        -0.19180354, -0.21205259, -0.21568545, -0.23782342, -0.30874974,\n",
       "        -0.33838666,  2.26207904, -0.40756406, -0.28530026, -0.40658849,\n",
       "        -0.40652117, -0.40581404,  2.44333118, -0.38450539, -0.37074249],\n",
       "       [-0.55567602, -0.11563583, -0.45460294,  1.57702742, -0.44275513,\n",
       "        -0.58123694, -0.18079946,  0.71826926, -0.21337249, -0.16718038,\n",
       "         5.21366805, -0.21205259, -0.21568545, -0.23782342, -0.30874974,\n",
       "        -0.33838666, -0.4420712 , -0.40756406, -0.28530026, -0.40658849,\n",
       "        -0.40652117,  2.46418288, -0.40927731, -0.38450539, -0.37074249],\n",
       "       [-0.40688878,  0.31366411, -0.45460294,  1.57702742, -0.44275513,\n",
       "        -0.58123694, -0.18079946,  0.71826926, -0.21337249, -0.16718038,\n",
       "        -0.19180354,  4.71581126, -0.21568545, -0.23782342, -0.30874974,\n",
       "        -0.33838666, -0.4420712 , -0.40756406, -0.28530026, -0.40658849,\n",
       "        -0.40652117, -0.40581404, -0.40927731,  2.60074379, -0.37074249],\n",
       "       [-0.63006963,  0.52831408, -0.45460294, -0.63410438,  2.25858476,\n",
       "        -0.58123694, -0.18079946,  0.71826926, -0.21337249, -0.16718038,\n",
       "        -0.19180354, -0.21205259, -0.21568545,  4.2048004 , -0.30874974,\n",
       "        -0.33838666, -0.4420712 , -0.40756406, -0.28530026, -0.40658849,\n",
       "        -0.40652117, -0.40581404,  2.44333118, -0.38450539, -0.37074249],\n",
       "       [ 0.26265378, -0.75958574, -0.45460294, -0.63410438,  2.25858476,\n",
       "        -0.58123694, -0.18079946, -1.39223556, -0.21337249, -0.16718038,\n",
       "        -0.19180354, -0.21205259, -0.21568545, -0.23782342, -0.30874974,\n",
       "        -0.33838666,  2.26207904, -0.40756406, -0.28530026, -0.40658849,\n",
       "        -0.40652117, -0.40581404, -0.40927731, -0.38450539,  2.69728997],\n",
       "       [-0.33249516, -1.18888568,  2.19972183, -0.63410438, -0.44275513,\n",
       "        -0.58123694, -0.18079946,  0.71826926, -0.21337249, -0.16718038,\n",
       "        -0.19180354, -0.21205259, -0.21568545,  4.2048004 , -0.30874974,\n",
       "        -0.33838666, -0.4420712 , -0.40756406, -0.28530026, -0.40658849,\n",
       "        -0.40652117, -0.40581404, -0.40927731,  2.60074379, -0.37074249],\n",
       "       [-0.33249516, -0.97423571, -0.45460294, -0.63410438, -0.44275513,\n",
       "        -0.58123694, -0.18079946, -1.39223556, -0.21337249, -0.16718038,\n",
       "        -0.19180354, -0.21205259, -0.21568545, -0.23782342, -0.30874974,\n",
       "        -0.33838666, -0.4420712 ,  2.45360199, -0.28530026, -0.40658849,\n",
       "         2.45989649, -0.40581404, -0.40927731, -0.38450539, -0.37074249],\n",
       "       [-0.40688878, -0.3302858 , -0.45460294,  1.57702742, -0.44275513,\n",
       "        -0.58123694, -0.18079946, -1.39223556, -0.21337249, -0.16718038,\n",
       "        -0.19180354, -0.21205259, -0.21568545, -0.23782342, -0.30874974,\n",
       "        -0.33838666, -0.4420712 ,  2.45360199, -0.28530026, -0.40658849,\n",
       "         2.45989649, -0.40581404, -0.40927731, -0.38450539, -0.37074249],\n",
       "       [-0.03492069,  0.31366411, -0.45460294, -0.63410438, -0.44275513,\n",
       "         1.72046876, -0.18079946,  0.71826926, -0.21337249, -0.16718038,\n",
       "        -0.19180354,  4.71581126, -0.21568545, -0.23782342, -0.30874974,\n",
       "        -0.33838666, -0.4420712 , -0.40756406, -0.28530026,  2.45948921,\n",
       "        -0.40652117, -0.40581404, -0.40927731, -0.38450539, -0.37074249]])"
      ]
     },
     "execution_count": 31,
     "metadata": {},
     "output_type": "execute_result"
    }
   ],
   "source": [
    "X_train[0:10]"
   ]
  },
  {
   "cell_type": "markdown",
   "metadata": {},
   "source": [
    "## KNN Classifier"
   ]
  },
  {
   "cell_type": "markdown",
   "metadata": {},
   "source": [
    "### TEST SET"
   ]
  },
  {
   "cell_type": "code",
   "execution_count": 29,
   "metadata": {
    "collapsed": false
   },
   "outputs": [
    {
     "name": "stdout",
     "output_type": "stream",
     "text": [
      "precision: 60.16%, recall: 59.57%\n",
      "accuracy: 60.33%\n"
     ]
    }
   ],
   "source": [
    "# check classification accuracy of KNN with K=5\n",
    "knn = KNeighborsClassifier(n_neighbors=5)\n",
    "knn.fit(X_train, y_train)\n",
    "predict = knn.predict(X_test)\n",
    "precision = metrics.precision_score(y_test, predict)\n",
    "recall = metrics.recall_score(y_test, predict)\n",
    "print ('precision: %.2f%%, recall: %.2f%%' % (100 * precision, 100 * recall))\n",
    "accuracy = metrics.accuracy_score(y_test, predict)\n",
    "print ('accuracy: %.2f%%' % (100 * accuracy) )"
   ]
  },
  {
   "cell_type": "code",
   "execution_count": 30,
   "metadata": {
    "collapsed": false
   },
   "outputs": [
    {
     "data": {
      "image/png": "[encoded data removed]",
      "text/plain": [
       "<matplotlib.figure.Figure at 0x11f8988d0>"
      ]
     },
     "metadata": {},
     "output_type": "display_data"
    }
   ],
   "source": [
    "from sklearn.metrics import roc_curve, auc  \n",
    "predictions = knn.predict_proba(X_test)  \n",
    "false_positive_rate, recall, thresholds = roc_curve(y_test, predictions[:, 1])  \n",
    "roc_auc = auc(false_positive_rate, recall)  \n",
    "plt.title('KNN ROC')  \n",
    "plt.plot(false_positive_rate, recall, 'b', label='AUC = %0.2f' % roc_auc)  \n",
    "plt.legend(loc='lower right')  \n",
    "plt.plot([0, 1], [0, 1], 'r--')  \n",
    "plt.xlim([0.0, 1.0])  \n",
    "plt.ylim([0.0, 1.0])  \n",
    "plt.ylabel('Recall')  \n",
    "plt.xlabel('Fall-out')\n",
    "plt.savefig('KNN ROC.png',dpi=600)\n",
    "plt.show() "
   ]
  },
  {
   "cell_type": "markdown",
   "metadata": {},
   "source": [
    "### Validation"
   ]
  },
  {
   "cell_type": "code",
   "execution_count": 33,
   "metadata": {
    "collapsed": true
   },
   "outputs": [],
   "source": [
    "from sklearn.cross_validation import cross_val_score\n",
    "from sklearn.model_selection import cross_validate\n",
    "from sklearn.metrics.scorer import make_scorer\n",
    "from sklearn.metrics import recall_score"
   ]
  },
  {
   "cell_type": "code",
   "execution_count": 32,
   "metadata": {
    "collapsed": false
   },
   "outputs": [
    {
     "name": "stdout",
     "output_type": "stream",
     "text": [
      "Accuracy: 0.60 (+/- 0.01)\n",
      "Recall: 0.60 (+/- 0.01)\n",
      "Precision: 0.60 (+/- 0.01)\n"
     ]
    }
   ],
   "source": [
    "scoring = {'prec_macro': 'precision_macro','rec_micro': make_scorer(recall_score, average='macro')}\n",
    "\n",
    "knn = KNeighborsClassifier(n_neighbors=5)\n",
    "scores = cross_val_score(knn, X_train, y_train, cv=10, scoring='accuracy')\n",
    "print(\"Accuracy: %0.2f (+/- %0.2f)\" % (scores.mean(), scores.std() * 2))\n",
    "knn = KNeighborsClassifier(n_neighbors=5)\n",
    "all_scores = cross_validate(knn, X_train, y_train, scoring=scoring,cv=10, return_train_score=True)\n",
    "score = all_scores['test_rec_micro'] \n",
    "print(\"Recall: %0.2f (+/- %0.2f)\" % (score.mean(), score.std() * 2))\n",
    "score = all_scores['test_prec_macro'] \n",
    "print(\"Precision: %0.2f (+/- %0.2f)\" % (score.mean(), score.std() * 2))"
   ]
  },
  {
   "cell_type": "code",
   "execution_count": 32,
   "metadata": {
    "collapsed": true
   },
   "outputs": [],
   "source": [
    "### Hyperparameter (SKIP)"
   ]
  },
  {
   "cell_type": "code",
   "execution_count": 33,
   "metadata": {
    "collapsed": false
   },
   "outputs": [
    {
     "name": "stdout",
     "output_type": "stream",
     "text": [
      "[0.55954857070213671, 0.56027401250258058, 0.58705004502641722, 0.58876335847848149, 0.60179368501435315, 0.60085655983872344, 0.61232475820822496, 0.61145813863957188, 0.61825046478786683, 0.61888534632800873, 0.62349097801826958, 0.62215047270472001, 0.6271390002964139, 0.62734049334669417, 0.63127087826652839, 0.631432009125792, 0.63331649346113861, 0.6323288411714636, 0.63489866611971491, 0.63454590653920495, 0.63682353194055785, 0.63653120544977659, 0.63809332446907208, 0.63702508897041643, 0.63958474187788161, 0.63859712512930067, 0.64043123468367158, 0.6395141783858288, 0.64057233831384452, 0.63969559747847893]\n"
     ]
    }
   ],
   "source": [
    "# search for an optimal value of K for KNN\n",
    "k_range = list(range(1, 31))\n",
    "k_scores = []\n",
    "for k in k_range:\n",
    "    knn = KNeighborsClassifier(n_neighbors=k)\n",
    "    scores = cross_val_score(knn, X_train, y_train, cv=10, scoring='accuracy')\n",
    "    k_scores.append(scores.mean())\n",
    "print(k_scores)"
   ]
  },
  {
   "cell_type": "code",
   "execution_count": 34,
   "metadata": {
    "collapsed": false
   },
   "outputs": [
    {
     "data": {
      "image/png": "[encoded data removed]",
      "text/plain": [
       "<matplotlib.figure.Figure at 0x11f87af50>"
      ]
     },
     "metadata": {},
     "output_type": "display_data"
    }
   ],
   "source": [
    "import matplotlib.pyplot as plt\n",
    "%matplotlib inline\n",
    "# plot the value of K for KNN (x-axis) versus the cross-validated accuracy (y-axis)\n",
    "plt.plot(k_range, k_scores)\n",
    "plt.xlabel('Value of K for KNN')\n",
    "plt.ylabel('Cross-Validated Accuracy')\n",
    "plt.show()"
   ]
  },
  {
   "cell_type": "code",
   "execution_count": 35,
   "metadata": {
    "collapsed": false
   },
   "outputs": [
    {
     "name": "stdout",
     "output_type": "stream",
     "text": [
      "0.631270878267\n"
     ]
    }
   ],
   "source": [
    "# The optimal value of K is 15\n",
    "knn = KNeighborsClassifier(n_neighbors=15)\n",
    "knn_scores = cross_val_score(knn, X_train, y_train, cv=10, scoring='accuracy')\n",
    "print(knn_scores.mean())"
   ]
  },
  {
   "cell_type": "markdown",
   "metadata": {},
   "source": [
    "## Multinomial Naive Bayes Classifier"
   ]
  },
  {
   "cell_type": "markdown",
   "metadata": {},
   "source": [
    "###TEST SET"
   ]
  },
  {
   "cell_type": "code",
   "execution_count": 36,
   "metadata": {
    "collapsed": false
   },
   "outputs": [
    {
     "name": "stdout",
     "output_type": "stream",
     "text": [
      "precision: 60.19%, recall: 76.79%\n",
      "accuracy: 63.24%\n"
     ]
    }
   ],
   "source": [
    "from sklearn.naive_bayes import GaussianNB\n",
    "NB = GaussianNB()\n",
    "NB.fit(X_train, y_train)\n",
    "predict = NB.predict(X_test)\n",
    "precision = metrics.precision_score(y_test, predict)\n",
    "recall = metrics.recall_score(y_test, predict)\n",
    "print ('precision: %.2f%%, recall: %.2f%%' % (100 * precision, 100 * recall))\n",
    "accuracy = metrics.accuracy_score(y_test, predict)\n",
    "print ('accuracy: %.2f%%' % (100 * accuracy) )"
   ]
  },
  {
   "cell_type": "code",
   "execution_count": 37,
   "metadata": {
    "collapsed": false
   },
   "outputs": [
    {
     "data": {
      "image/png": "[encoded data removed]",
      "text/plain": [
       "<matplotlib.figure.Figure at 0x121969e10>"
      ]
     },
     "metadata": {},
     "output_type": "display_data"
    }
   ],
   "source": [
    "from sklearn.metrics import roc_curve, auc  \n",
    "predictions = NB.predict_proba(X_test)  \n",
    "false_positive_rate, recall, thresholds = roc_curve(y_test, predictions[:, 1])  \n",
    "roc_auc = auc(false_positive_rate, recall)  \n",
    "plt.title('Naive Bayes ROC')  \n",
    "plt.plot(false_positive_rate, recall, 'b', label='AUC = %0.2f' % roc_auc)  \n",
    "plt.legend(loc='lower right')  \n",
    "plt.plot([0, 1], [0, 1], 'r--')  \n",
    "plt.xlim([0.0, 1.0])  \n",
    "plt.ylim([0.0, 1.0])  \n",
    "plt.ylabel('Recall')  \n",
    "plt.xlabel('Fall-out')  \n",
    "plt.savefig('Naive Bayes ROC.png',dpi=600)\n",
    "plt.show()  "
   ]
  },
  {
   "cell_type": "markdown",
   "metadata": {},
   "source": [
    "###Validation"
   ]
  },
  {
   "cell_type": "code",
   "execution_count": 38,
   "metadata": {
    "collapsed": false
   },
   "outputs": [
    {
     "name": "stdout",
     "output_type": "stream",
     "text": [
      "Accuracy: 0.63 (+/- 0.01)\n",
      "Recall: 0.63 (+/- 0.01)\n",
      "Precision: 0.64 (+/- 0.01)\n"
     ]
    }
   ],
   "source": [
    "# Multinomial Naive Bayes Classifier\n",
    "NB = GaussianNB()\n",
    "NB_scores = cross_val_score(NB, X_train, y_train, cv=10, scoring='accuracy')\n",
    "print(\"Accuracy: %0.2f (+/- %0.2f)\" % (NB_scores.mean(), NB_scores.std() * 2))\n",
    "\n",
    "scoring = {'prec_macro': 'precision_macro','rec_micro': make_scorer(recall_score, average='macro')}\n",
    "all_scores = cross_validate(NB, X_train, y_train, scoring=scoring,cv=10, return_train_score=True)\n",
    "score = all_scores['test_rec_micro'] \n",
    "print(\"Recall: %0.2f (+/- %0.2f)\" % (score.mean(), score.std() * 2))\n",
    "score = all_scores['test_prec_macro'] \n",
    "print(\"Precision: %0.2f (+/- %0.2f)\" % (score.mean(), score.std() * 2))"
   ]
  },
  {
   "cell_type": "markdown",
   "metadata": {},
   "source": [
    "## Logistic Regression Classifier"
   ]
  },
  {
   "cell_type": "markdown",
   "metadata": {},
   "source": [
    "### Validation"
   ]
  },
  {
   "cell_type": "code",
   "execution_count": 46,
   "metadata": {
    "collapsed": false
   },
   "outputs": [
    {
     "name": "stdout",
     "output_type": "stream",
     "text": [
      "Accuracy: 0.6654 (+/- 0.0126)\n",
      "Recall: 0.6653 (+/- 0.0126)\n",
      "Precision: 0.6655 (+/- 0.0126)\n"
     ]
    }
   ],
   "source": [
    "# Logistic Regression Classifier\n",
    "from sklearn.linear_model import LogisticRegression\n",
    "LR = LogisticRegression(penalty='l2', class_weight = 'balanced') # balanced：让类库自己计算类型权重\n",
    "LR_scores = cross_val_score(LR, X_train, y_train, cv=10, scoring='accuracy')\n",
    "print(\"Accuracy: %0.4f (+/- %0.4f)\" % (LR_scores.mean(), LR_scores.std() * 2))\n",
    "\n",
    "scoring = {'prec_macro': 'precision_macro','rec_micro': make_scorer(recall_score, average='macro')}\n",
    "all_scores = cross_validate(LR, X_train, y_train, scoring=scoring,cv=10, return_train_score=True)\n",
    "score = all_scores['test_rec_micro'] \n",
    "print(\"Recall: %0.4f (+/- %0.4f)\" % (score.mean(), score.std() * 2))\n",
    "score = all_scores['test_prec_macro'] \n",
    "print(\"Precision: %0.4f (+/- %0.4f)\" % (score.mean(), score.std() * 2))"
   ]
  },
  {
   "cell_type": "markdown",
   "metadata": {},
   "source": [
    "### Hyperparameter(SKIP)"
   ]
  },
  {
   "cell_type": "code",
   "execution_count": 40,
   "metadata": {
    "collapsed": false
   },
   "outputs": [
    {
     "name": "stdout",
     "output_type": "stream",
     "text": [
      "[0.64058240575820902, 0.64054209638306936, 0.64053201980104602, 0.64053201980104602, 0.64053201980104602, 0.64053201980104602]\n",
      "0.640582405758\n"
     ]
    }
   ],
   "source": [
    "# search for an optimal value of C for LR\n",
    "C_range = [0.01,0.1,1.0,10.0,100.0,1000.0]\n",
    "C_scores = []\n",
    "for c in C_range:\n",
    "    LR = LogisticRegression(C = c, penalty='l2', class_weight = 'balanced')\n",
    "    scores = cross_val_score(LR, X_train, y_train, cv=10, scoring='accuracy')\n",
    "    C_scores.append(scores.mean())\n",
    "print(C_scores)# The optimal value of C is 0.01\n",
    "LR = LogisticRegression(C = 0.01, penalty='l2', class_weight = 'balanced') # balanced：让类库自己计算类型权重\n",
    "LR_scores = cross_val_score(LR, X_train, y_train, cv=10, scoring='accuracy')\n",
    "print(LR_scores.mean())"
   ]
  },
  {
   "cell_type": "code",
   "execution_count": 41,
   "metadata": {
    "collapsed": false
   },
   "outputs": [
    {
     "name": "stdout",
     "output_type": "stream",
     "text": [
      "0.640582405758\n"
     ]
    }
   ],
   "source": [
    "# The optimal value of C is 0.01\n",
    "LR = LogisticRegression(C = 0.01, penalty='l2', class_weight = 'balanced') # balanced：让类库自己计算类型权重\n",
    "LR_scores = cross_val_score(LR, X_train, y_train, cv=10, scoring='accuracy')\n",
    "print(LR_scores.mean())"
   ]
  },
  {
   "cell_type": "markdown",
   "metadata": {},
   "source": [
    "## test set"
   ]
  },
  {
   "cell_type": "code",
   "execution_count": 35,
   "metadata": {
    "collapsed": false
   },
   "outputs": [
    {
     "name": "stdout",
     "output_type": "stream",
     "text": [
      "precision: 66.25%, recall: 68.62%\n",
      "accuracy: 67.05%\n",
      "('Theta', array([[-0.37396174, -0.02265814,  0.04470522,  0.00250932,  0.02213239,\n",
      "         0.01592305, -0.01753274,  0.3815239 ,  0.08349381,  0.12348568,\n",
      "         0.14289216,  0.09816523,  0.08920768,  0.05048658, -0.08792127,\n",
      "        -0.13319385, -0.18189006, -0.14015651,  0.007246  , -0.03192661,\n",
      "        -0.0500869 , -0.03870152, -0.05920357, -0.03730283,  0.02765636,\n",
      "        -0.29692625]]))\n"
     ]
    }
   ],
   "source": [
    "LR.fit(X_train,y_train)\n",
    "theta = LR.coef_\n",
    "predict = LR.predict(X_test)\n",
    "precision = metrics.precision_score(y_test, predict)\n",
    "recall = metrics.recall_score(y_test, predict)\n",
    "print ('precision: %.2f%%, recall: %.2f%%' % (100 * precision, 100 * recall))\n",
    "accuracy = metrics.accuracy_score(y_test, predict)\n",
    "print ('accuracy: %.2f%%' % (100 * accuracy) )\n",
    "print(\"Theta\",theta)"
   ]
  },
  {
   "cell_type": "code",
   "execution_count": 36,
   "metadata": {
    "collapsed": false
   },
   "outputs": [
    {
     "data": {
      "image/png": "[encoded data removed]",
      "text/plain": [
       "<matplotlib.figure.Figure at 0x1033baad0>"
      ]
     },
     "metadata": {},
     "output_type": "display_data"
    }
   ],
   "source": [
    "from sklearn.metrics import roc_curve, auc  \n",
    "predictions = LR.predict_proba(X_test)  \n",
    "false_positive_rate, recall, thresholds = roc_curve(y_test, predictions[:, 1])  \n",
    "roc_auc = auc(false_positive_rate, recall)  \n",
    "plt.title('Logistic Regression ROC')  \n",
    "plt.plot(false_positive_rate, recall, 'b', label='AUC = %0.2f' % roc_auc)  \n",
    "plt.legend(loc='lower right')  \n",
    "plt.plot([0, 1], [0, 1], 'r--')  \n",
    "plt.xlim([0.0, 1.0])  \n",
    "plt.ylim([0.0, 1.0])  \n",
    "plt.ylabel('Recall')  \n",
    "plt.xlabel('Fall-out') \n",
    "plt.savefig('Logistic Regression ROC.png',dpi=600)\n",
    "plt.show()  "
   ]
  },
  {
   "cell_type": "markdown",
   "metadata": {},
   "source": [
    "## Random Forest Classifier\n",
    "特征很少，用随机森林应该效果不明显"
   ]
  },
  {
   "cell_type": "markdown",
   "metadata": {},
   "source": [
    "###Validation"
   ]
  },
  {
   "cell_type": "code",
   "execution_count": 44,
   "metadata": {
    "collapsed": false
   },
   "outputs": [
    {
     "name": "stdout",
     "output_type": "stream",
     "text": [
      "Accuracy: 0.63 (+/- 0.01)\n",
      "Recall: 0.63 (+/- 0.01)\n",
      "Precision: 0.63 (+/- 0.01)\n"
     ]
    }
   ],
   "source": [
    "from sklearn.ensemble import RandomForestClassifier\n",
    "RF = RandomForestClassifier(n_estimators=100,class_weight = 'balanced')\n",
    "RF_scores = cross_val_score(RF, X_train, y_train, cv=10, scoring='accuracy')\n",
    "print(\"Accuracy: %0.2f (+/- %0.2f)\" % (RF_scores.mean(), RF_scores.std() * 2))\n",
    "\n",
    "scoring = {'prec_macro': 'precision_macro','rec_micro': make_scorer(recall_score, average='macro')}\n",
    "all_scores = cross_validate(RF, X_train, y_train, scoring=scoring,cv=10, return_train_score=True)\n",
    "score = all_scores['test_rec_micro'] \n",
    "print(\"Recall: %0.2f (+/- %0.2f)\" % (score.mean(), score.std() * 2))\n",
    "score = all_scores['test_prec_macro'] \n",
    "print(\"Precision: %0.2f (+/- %0.2f)\" % (score.mean(), score.std() * 2))"
   ]
  },
  {
   "cell_type": "code",
   "execution_count": 45,
   "metadata": {
    "collapsed": true
   },
   "outputs": [],
   "source": [
    "### TEST SET"
   ]
  },
  {
   "cell_type": "code",
   "execution_count": 46,
   "metadata": {
    "collapsed": false
   },
   "outputs": [
    {
     "name": "stdout",
     "output_type": "stream",
     "text": [
      "precision: 61.54%, recall: 69.67%\n",
      "accuracy: 63.31%\n"
     ]
    }
   ],
   "source": [
    "RF.fit(X_train,y_train)\n",
    "predict = RF.predict(X_test)\n",
    "precision = metrics.precision_score(y_test, predict)\n",
    "recall = metrics.recall_score(y_test, predict)\n",
    "print ('precision: %.2f%%, recall: %.2f%%' % (100 * precision, 100 * recall))\n",
    "accuracy = metrics.accuracy_score(y_test, predict)\n",
    "print ('accuracy: %.2f%%' % (100 * accuracy) )"
   ]
  },
  {
   "cell_type": "code",
   "execution_count": 47,
   "metadata": {
    "collapsed": false
   },
   "outputs": [
    {
     "data": {
      "image/png": "[encoded data removed]",
      "text/plain": [
       "<matplotlib.figure.Figure at 0x11f8d5590>"
      ]
     },
     "metadata": {},
     "output_type": "display_data"
    }
   ],
   "source": [
    "from sklearn.metrics import roc_curve, auc  \n",
    "predictions = RF.predict_proba(X_test)  \n",
    "false_positive_rate, recall, thresholds = roc_curve(y_test, predictions[:, 1])  \n",
    "roc_auc = auc(false_positive_rate, recall)  \n",
    "plt.title('Random Forest ROC')  \n",
    "plt.plot(false_positive_rate, recall, 'b', label='AUC = %0.2f' % roc_auc)  \n",
    "plt.legend(loc='lower right')  \n",
    "plt.plot([0, 1], [0, 1], 'r--')  \n",
    "plt.xlim([0.0, 1.0])  \n",
    "plt.ylim([0.0, 1.0])  \n",
    "plt.ylabel('Recall')  \n",
    "plt.xlabel('Fall-out')  \n",
    "plt.savefig('Random Forest ROC.png',dpi=600)\n",
    "plt.show()  "
   ]
  },
  {
   "cell_type": "markdown",
   "metadata": {},
   "source": [
    "## Decision Tree Classifier"
   ]
  },
  {
   "cell_type": "code",
   "execution_count": 37,
   "metadata": {
    "collapsed": true
   },
   "outputs": [],
   "source": [
    "### Validation"
   ]
  },
  {
   "cell_type": "code",
   "execution_count": 48,
   "metadata": {
    "collapsed": false
   },
   "outputs": [
    {
     "name": "stdout",
     "output_type": "stream",
     "text": [
      "Accuracy: 0.6742 (+/- 0.0101)\n",
      "Recall: 0.6741 (+/- 0.0101)\n",
      "Precision: 0.6745 (+/- 0.0102)\n"
     ]
    }
   ],
   "source": [
    "from sklearn import tree\n",
    "# max_depth = 4, 限制树的最大深度4,其实特征少的时候不用限制这个深度，但不知道为什么这里限制了之后准确率提高\n",
    "DT = tree.DecisionTreeClassifier(class_weight = 'balanced',max_depth = 4) \n",
    "DT_scores = cross_val_score(DT, X_train, y_train, cv=10, scoring='accuracy')\n",
    "print(\"Accuracy: %0.4f (+/- %0.4f)\" % (DT_scores.mean(), DT_scores.std() * 2))\n",
    "\n",
    "scoring = {'prec_macro': 'precision_macro','rec_micro': make_scorer(recall_score, average='macro')}\n",
    "all_scores = cross_validate(DT, X_train, y_train, scoring=scoring,cv=10, return_train_score=True)\n",
    "score = all_scores['test_rec_micro'] \n",
    "print(\"Recall: %0.4f (+/- %0.4f)\" % (score.mean(), score.std() * 2))\n",
    "score = all_scores['test_prec_macro'] \n",
    "print(\"Precision: %0.4f (+/- %0.4f)\" % (score.mean(), score.std() * 2))"
   ]
  },
  {
   "cell_type": "code",
   "execution_count": 39,
   "metadata": {
    "collapsed": true
   },
   "outputs": [],
   "source": [
    "### TEST SET"
   ]
  },
  {
   "cell_type": "code",
   "execution_count": 40,
   "metadata": {
    "collapsed": false
   },
   "outputs": [
    {
     "name": "stdout",
     "output_type": "stream",
     "text": [
      "precision: 66.38%, recall: 70.41%\n",
      "accuracy: 67.58%\n"
     ]
    }
   ],
   "source": [
    "DT.fit(X_train,y_train)\n",
    "predict = DT.predict(X_test)\n",
    "precision = metrics.precision_score(y_test, predict)\n",
    "recall = metrics.recall_score(y_test, predict)\n",
    "print ('precision: %.2f%%, recall: %.2f%%' % (100 * precision, 100 * recall))\n",
    "accuracy = metrics.accuracy_score(y_test, predict)\n",
    "print ('accuracy: %.2f%%' % (100 * accuracy) )"
   ]
  },
  {
   "cell_type": "code",
   "execution_count": 41,
   "metadata": {
    "collapsed": false
   },
   "outputs": [
    {
     "data": {
      "image/png": "[encoded data removed]",
      "text/plain": [
       "<matplotlib.figure.Figure at 0x11e76bc90>"
      ]
     },
     "metadata": {},
     "output_type": "display_data"
    }
   ],
   "source": [
    "from sklearn.metrics import roc_curve, auc  \n",
    "predictions = DT.predict_proba(X_test)  \n",
    "false_positive_rate, recall, thresholds = roc_curve(y_test, predictions[:, 1])  \n",
    "roc_auc = auc(false_positive_rate, recall)  \n",
    "plt.title('Decsion Tree ROC')  \n",
    "plt.plot(false_positive_rate, recall, 'b', label='AUC = %0.2f' % roc_auc)  \n",
    "plt.legend(loc='lower right')  \n",
    "plt.plot([0, 1], [0, 1], 'r--')  \n",
    "plt.xlim([0.0, 1.0])  \n",
    "plt.ylim([0.0, 1.0])  \n",
    "plt.ylabel('Recall')  \n",
    "plt.xlabel('Fall-out')\n",
    "plt.savefig('Decsion Tree ROC.png',dpi=600)\n",
    "plt.show()  "
   ]
  },
  {
   "cell_type": "markdown",
   "metadata": {},
   "source": [
    "##AB(AdaBoost) Classifier"
   ]
  },
  {
   "cell_type": "code",
   "execution_count": 42,
   "metadata": {
    "collapsed": false
   },
   "outputs": [
    {
     "name": "stdout",
     "output_type": "stream",
     "text": [
      "Accuracy: 0.67 (+/- 0.01)\n",
      "Recall: 0.71 (+/- 0.01)\n",
      "Precision: 0.71 (+/- 0.01)\n"
     ]
    }
   ],
   "source": [
    "from sklearn.ensemble import AdaBoostClassifier\n",
    "# 一般来说n_estimators太小，容易欠拟合，n_estimators太大，又容易过拟合，一般选择一个适中的数值。默认是50\n",
    "#对于同样的训练集拟合效果，较小的νν意味着我们需要更多的弱学习器的迭代次数。通常我们用步长和迭代最大次数一起来决定算法的拟合效果。\n",
    "#所以这两个参数n_estimators和learning_rate要一起调参。一般来说，可以从一个小一点的νν开始调参，默认是1\n",
    "Ada= AdaBoostClassifier(n_estimators=200,learning_rate=0.8)\n",
    "Ada_scores = cross_val_score(Ada, X_train, y_train, cv=10, scoring='accuracy')\n",
    "print(\"Accuracy: %0.4f (+/- %0.4f)\" % (DT_scores.mean(), DT_scores.std() * 2))\n",
    "\n",
    "scoring = {'prec_macro': 'precision_macro','rec_micro': make_scorer(recall_score, average='macro')}\n",
    "all_scores = cross_validate(Ada, X_train, y_train, scoring=scoring,cv=10, return_train_score=True)\n",
    "score = all_scores['test_rec_micro'] \n",
    "print(\"Recall: %0.4f (+/- %0.4f)\" % (score.mean(), score.std() * 2))\n",
    "score = all_scores['test_prec_macro'] \n",
    "print(\"Precision: %0.4f (+/- %0.4f)\" % (score.mean(), score.std() * 2))"
   ]
  },
  {
   "cell_type": "markdown",
   "metadata": {},
   "source": [
    "###TEST SET"
   ]
  },
  {
   "cell_type": "code",
   "execution_count": 43,
   "metadata": {
    "collapsed": false
   },
   "outputs": [
    {
     "name": "stdout",
     "output_type": "stream",
     "text": [
      "precision: 71.62%, recall: 70.64%\n",
      "accuracy: 71.51%\n"
     ]
    }
   ],
   "source": [
    "Ada.fit(X_train,y_train)\n",
    "predict = Ada.predict(X_test)\n",
    "precision = metrics.precision_score(y_test, predict)\n",
    "recall = metrics.recall_score(y_test, predict)\n",
    "print ('precision: %.2f%%, recall: %.2f%%' % (100 * precision, 100 * recall))\n",
    "accuracy = metrics.accuracy_score(y_test, predict)\n",
    "print ('accuracy: %.2f%%' % (100 * accuracy) )"
   ]
  },
  {
   "cell_type": "code",
   "execution_count": 44,
   "metadata": {
    "collapsed": false
   },
   "outputs": [
    {
     "data": {
      "image/png": "[encoded data removed]",
      "text/plain": [
       "<matplotlib.figure.Figure at 0x123a3ff50>"
      ]
     },
     "metadata": {},
     "output_type": "display_data"
    }
   ],
   "source": [
    "from sklearn.metrics import roc_curve, auc  \n",
    "predictions = Ada.predict_proba(X_test)  \n",
    "false_positive_rate, recall, thresholds = roc_curve(y_test, predictions[:, 1])  \n",
    "roc_auc = auc(false_positive_rate, recall)  \n",
    "plt.title('Ada Boosting ROC')  \n",
    "plt.plot(false_positive_rate, recall, 'b', label='AUC = %0.2f' % roc_auc)  \n",
    "plt.legend(loc='lower right')  \n",
    "plt.plot([0, 1], [0, 1], 'r--')  \n",
    "plt.xlim([0.0, 1.0])  \n",
    "plt.ylim([0.0, 1.0])  \n",
    "plt.ylabel('Recall')  \n",
    "plt.xlabel('Fall-out') \n",
    "plt.savefig('Ada Boosting ROC.png',dpi=600)\n",
    "plt.show() "
   ]
  },
  {
   "cell_type": "markdown",
   "metadata": {},
   "source": [
    "##SVM"
   ]
  },
  {
   "cell_type": "markdown",
   "metadata": {},
   "source": [
    "###Validation"
   ]
  },
  {
   "cell_type": "code",
   "execution_count": null,
   "metadata": {
    "collapsed": false
   },
   "outputs": [
    {
     "ename": "KeyboardInterrupt",
     "evalue": "",
     "output_type": "error",
     "traceback": [
      "\u001b[0;31m---------------------------------------------------------------------------\u001b[0m",
      "\u001b[0;31mKeyboardInterrupt\u001b[0m                         Traceback (most recent call last)",
      "\u001b[0;32m<ipython-input-42-5df3c5927480>\u001b[0m in \u001b[0;36m<module>\u001b[0;34m()\u001b[0m\n\u001b[1;32m      1\u001b[0m \u001b[0;32mfrom\u001b[0m \u001b[0msklearn\u001b[0m\u001b[0;34m.\u001b[0m\u001b[0msvm\u001b[0m \u001b[0;32mimport\u001b[0m \u001b[0mSVC\u001b[0m\u001b[0;34m\u001b[0m\u001b[0m\n\u001b[1;32m      2\u001b[0m \u001b[0msvm\u001b[0m \u001b[0;34m=\u001b[0m \u001b[0mSVC\u001b[0m\u001b[0;34m(\u001b[0m\u001b[0mkernel\u001b[0m\u001b[0;34m=\u001b[0m\u001b[0;34m'rbf'\u001b[0m\u001b[0;34m,\u001b[0m \u001b[0mC\u001b[0m\u001b[0;34m=\u001b[0m\u001b[0;36m0.1\u001b[0m\u001b[0;34m,\u001b[0m \u001b[0mgamma\u001b[0m\u001b[0;34m=\u001b[0m\u001b[0;36m1\u001b[0m\u001b[0;34m,\u001b[0m \u001b[0mprobability\u001b[0m\u001b[0;34m=\u001b[0m\u001b[0mTrue\u001b[0m\u001b[0;34m)\u001b[0m\u001b[0;34m\u001b[0m\u001b[0m\n\u001b[0;32m----> 3\u001b[0;31m \u001b[0msvm_scores\u001b[0m \u001b[0;34m=\u001b[0m \u001b[0mcross_val_score\u001b[0m\u001b[0;34m(\u001b[0m\u001b[0msvm\u001b[0m\u001b[0;34m,\u001b[0m \u001b[0mX_train\u001b[0m\u001b[0;34m,\u001b[0m \u001b[0my_train\u001b[0m\u001b[0;34m,\u001b[0m \u001b[0mcv\u001b[0m\u001b[0;34m=\u001b[0m\u001b[0;36m3\u001b[0m\u001b[0;34m,\u001b[0m \u001b[0mscoring\u001b[0m\u001b[0;34m=\u001b[0m\u001b[0;34m'accuracy'\u001b[0m\u001b[0;34m)\u001b[0m\u001b[0;34m\u001b[0m\u001b[0m\n\u001b[0m\u001b[1;32m      4\u001b[0m \u001b[0;32mprint\u001b[0m\u001b[0;34m(\u001b[0m\u001b[0;34m\"Accuracy: %0.2f (+/- %0.2f)\"\u001b[0m \u001b[0;34m%\u001b[0m \u001b[0;34m(\u001b[0m\u001b[0msvm_scores\u001b[0m\u001b[0;34m.\u001b[0m\u001b[0mmean\u001b[0m\u001b[0;34m(\u001b[0m\u001b[0;34m)\u001b[0m\u001b[0;34m,\u001b[0m \u001b[0msvm_scores\u001b[0m\u001b[0;34m.\u001b[0m\u001b[0mstd\u001b[0m\u001b[0;34m(\u001b[0m\u001b[0;34m)\u001b[0m \u001b[0;34m*\u001b[0m \u001b[0;36m2\u001b[0m\u001b[0;34m)\u001b[0m\u001b[0;34m)\u001b[0m\u001b[0;34m\u001b[0m\u001b[0m\n\u001b[1;32m      5\u001b[0m \u001b[0;34m\u001b[0m\u001b[0m\n",
      "\u001b[0;32m//anaconda/lib/python2.7/site-packages/sklearn/cross_validation.pyc\u001b[0m in \u001b[0;36mcross_val_score\u001b[0;34m(estimator, X, y, scoring, cv, n_jobs, verbose, fit_params, pre_dispatch)\u001b[0m\n\u001b[1;32m   1579\u001b[0m                                               \u001b[0mtrain\u001b[0m\u001b[0;34m,\u001b[0m \u001b[0mtest\u001b[0m\u001b[0;34m,\u001b[0m \u001b[0mverbose\u001b[0m\u001b[0;34m,\u001b[0m \u001b[0mNone\u001b[0m\u001b[0;34m,\u001b[0m\u001b[0;34m\u001b[0m\u001b[0m\n\u001b[1;32m   1580\u001b[0m                                               fit_params)\n\u001b[0;32m-> 1581\u001b[0;31m                       for train, test in cv)\n\u001b[0m\u001b[1;32m   1582\u001b[0m     \u001b[0;32mreturn\u001b[0m \u001b[0mnp\u001b[0m\u001b[0;34m.\u001b[0m\u001b[0marray\u001b[0m\u001b[0;34m(\u001b[0m\u001b[0mscores\u001b[0m\u001b[0;34m)\u001b[0m\u001b[0;34m[\u001b[0m\u001b[0;34m:\u001b[0m\u001b[0;34m,\u001b[0m \u001b[0;36m0\u001b[0m\u001b[0;34m]\u001b[0m\u001b[0;34m\u001b[0m\u001b[0m\n\u001b[1;32m   1583\u001b[0m \u001b[0;34m\u001b[0m\u001b[0m\n",
      "\u001b[0;32m//anaconda/lib/python2.7/site-packages/sklearn/externals/joblib/parallel.pyc\u001b[0m in \u001b[0;36m__call__\u001b[0;34m(self, iterable)\u001b[0m\n\u001b[1;32m    777\u001b[0m             \u001b[0;31m# was dispatched. In particular this covers the edge\u001b[0m\u001b[0;34m\u001b[0m\u001b[0;34m\u001b[0m\u001b[0m\n\u001b[1;32m    778\u001b[0m             \u001b[0;31m# case of Parallel used with an exhausted iterator.\u001b[0m\u001b[0;34m\u001b[0m\u001b[0;34m\u001b[0m\u001b[0m\n\u001b[0;32m--> 779\u001b[0;31m             \u001b[0;32mwhile\u001b[0m \u001b[0mself\u001b[0m\u001b[0;34m.\u001b[0m\u001b[0mdispatch_one_batch\u001b[0m\u001b[0;34m(\u001b[0m\u001b[0miterator\u001b[0m\u001b[0;34m)\u001b[0m\u001b[0;34m:\u001b[0m\u001b[0;34m\u001b[0m\u001b[0m\n\u001b[0m\u001b[1;32m    780\u001b[0m                 \u001b[0mself\u001b[0m\u001b[0;34m.\u001b[0m\u001b[0m_iterating\u001b[0m \u001b[0;34m=\u001b[0m \u001b[0mTrue\u001b[0m\u001b[0;34m\u001b[0m\u001b[0m\n\u001b[1;32m    781\u001b[0m             \u001b[0;32melse\u001b[0m\u001b[0;34m:\u001b[0m\u001b[0;34m\u001b[0m\u001b[0m\n",
      "\u001b[0;32m//anaconda/lib/python2.7/site-packages/sklearn/externals/joblib/parallel.pyc\u001b[0m in \u001b[0;36mdispatch_one_batch\u001b[0;34m(self, iterator)\u001b[0m\n\u001b[1;32m    623\u001b[0m                 \u001b[0;32mreturn\u001b[0m \u001b[0mFalse\u001b[0m\u001b[0;34m\u001b[0m\u001b[0m\n\u001b[1;32m    624\u001b[0m             \u001b[0;32melse\u001b[0m\u001b[0;34m:\u001b[0m\u001b[0;34m\u001b[0m\u001b[0m\n\u001b[0;32m--> 625\u001b[0;31m                 \u001b[0mself\u001b[0m\u001b[0;34m.\u001b[0m\u001b[0m_dispatch\u001b[0m\u001b[0;34m(\u001b[0m\u001b[0mtasks\u001b[0m\u001b[0;34m)\u001b[0m\u001b[0;34m\u001b[0m\u001b[0m\n\u001b[0m\u001b[1;32m    626\u001b[0m                 \u001b[0;32mreturn\u001b[0m \u001b[0mTrue\u001b[0m\u001b[0;34m\u001b[0m\u001b[0m\n\u001b[1;32m    627\u001b[0m \u001b[0;34m\u001b[0m\u001b[0m\n",
      "\u001b[0;32m//anaconda/lib/python2.7/site-packages/sklearn/externals/joblib/parallel.pyc\u001b[0m in \u001b[0;36m_dispatch\u001b[0;34m(self, batch)\u001b[0m\n\u001b[1;32m    586\u001b[0m         \u001b[0mdispatch_timestamp\u001b[0m \u001b[0;34m=\u001b[0m \u001b[0mtime\u001b[0m\u001b[0;34m.\u001b[0m\u001b[0mtime\u001b[0m\u001b[0;34m(\u001b[0m\u001b[0;34m)\u001b[0m\u001b[0;34m\u001b[0m\u001b[0m\n\u001b[1;32m    587\u001b[0m         \u001b[0mcb\u001b[0m \u001b[0;34m=\u001b[0m \u001b[0mBatchCompletionCallBack\u001b[0m\u001b[0;34m(\u001b[0m\u001b[0mdispatch_timestamp\u001b[0m\u001b[0;34m,\u001b[0m \u001b[0mlen\u001b[0m\u001b[0;34m(\u001b[0m\u001b[0mbatch\u001b[0m\u001b[0;34m)\u001b[0m\u001b[0;34m,\u001b[0m \u001b[0mself\u001b[0m\u001b[0;34m)\u001b[0m\u001b[0;34m\u001b[0m\u001b[0m\n\u001b[0;32m--> 588\u001b[0;31m         \u001b[0mjob\u001b[0m \u001b[0;34m=\u001b[0m \u001b[0mself\u001b[0m\u001b[0;34m.\u001b[0m\u001b[0m_backend\u001b[0m\u001b[0;34m.\u001b[0m\u001b[0mapply_async\u001b[0m\u001b[0;34m(\u001b[0m\u001b[0mbatch\u001b[0m\u001b[0;34m,\u001b[0m \u001b[0mcallback\u001b[0m\u001b[0;34m=\u001b[0m\u001b[0mcb\u001b[0m\u001b[0;34m)\u001b[0m\u001b[0;34m\u001b[0m\u001b[0m\n\u001b[0m\u001b[1;32m    589\u001b[0m         \u001b[0mself\u001b[0m\u001b[0;34m.\u001b[0m\u001b[0m_jobs\u001b[0m\u001b[0;34m.\u001b[0m\u001b[0mappend\u001b[0m\u001b[0;34m(\u001b[0m\u001b[0mjob\u001b[0m\u001b[0;34m)\u001b[0m\u001b[0;34m\u001b[0m\u001b[0m\n\u001b[1;32m    590\u001b[0m \u001b[0;34m\u001b[0m\u001b[0m\n",
      "\u001b[0;32m//anaconda/lib/python2.7/site-packages/sklearn/externals/joblib/_parallel_backends.pyc\u001b[0m in \u001b[0;36mapply_async\u001b[0;34m(self, func, callback)\u001b[0m\n\u001b[1;32m    109\u001b[0m     \u001b[0;32mdef\u001b[0m \u001b[0mapply_async\u001b[0m\u001b[0;34m(\u001b[0m\u001b[0mself\u001b[0m\u001b[0;34m,\u001b[0m \u001b[0mfunc\u001b[0m\u001b[0;34m,\u001b[0m \u001b[0mcallback\u001b[0m\u001b[0;34m=\u001b[0m\u001b[0mNone\u001b[0m\u001b[0;34m)\u001b[0m\u001b[0;34m:\u001b[0m\u001b[0;34m\u001b[0m\u001b[0m\n\u001b[1;32m    110\u001b[0m         \u001b[0;34m\"\"\"Schedule a func to be run\"\"\"\u001b[0m\u001b[0;34m\u001b[0m\u001b[0m\n\u001b[0;32m--> 111\u001b[0;31m         \u001b[0mresult\u001b[0m \u001b[0;34m=\u001b[0m \u001b[0mImmediateResult\u001b[0m\u001b[0;34m(\u001b[0m\u001b[0mfunc\u001b[0m\u001b[0;34m)\u001b[0m\u001b[0;34m\u001b[0m\u001b[0m\n\u001b[0m\u001b[1;32m    112\u001b[0m         \u001b[0;32mif\u001b[0m \u001b[0mcallback\u001b[0m\u001b[0;34m:\u001b[0m\u001b[0;34m\u001b[0m\u001b[0m\n\u001b[1;32m    113\u001b[0m             \u001b[0mcallback\u001b[0m\u001b[0;34m(\u001b[0m\u001b[0mresult\u001b[0m\u001b[0;34m)\u001b[0m\u001b[0;34m\u001b[0m\u001b[0m\n",
      "\u001b[0;32m//anaconda/lib/python2.7/site-packages/sklearn/externals/joblib/_parallel_backends.pyc\u001b[0m in \u001b[0;36m__init__\u001b[0;34m(self, batch)\u001b[0m\n\u001b[1;32m    330\u001b[0m         \u001b[0;31m# Don't delay the application, to avoid keeping the input\u001b[0m\u001b[0;34m\u001b[0m\u001b[0;34m\u001b[0m\u001b[0m\n\u001b[1;32m    331\u001b[0m         \u001b[0;31m# arguments in memory\u001b[0m\u001b[0;34m\u001b[0m\u001b[0;34m\u001b[0m\u001b[0m\n\u001b[0;32m--> 332\u001b[0;31m         \u001b[0mself\u001b[0m\u001b[0;34m.\u001b[0m\u001b[0mresults\u001b[0m \u001b[0;34m=\u001b[0m \u001b[0mbatch\u001b[0m\u001b[0;34m(\u001b[0m\u001b[0;34m)\u001b[0m\u001b[0;34m\u001b[0m\u001b[0m\n\u001b[0m\u001b[1;32m    333\u001b[0m \u001b[0;34m\u001b[0m\u001b[0m\n\u001b[1;32m    334\u001b[0m     \u001b[0;32mdef\u001b[0m \u001b[0mget\u001b[0m\u001b[0;34m(\u001b[0m\u001b[0mself\u001b[0m\u001b[0;34m)\u001b[0m\u001b[0;34m:\u001b[0m\u001b[0;34m\u001b[0m\u001b[0m\n",
      "\u001b[0;32m//anaconda/lib/python2.7/site-packages/sklearn/externals/joblib/parallel.pyc\u001b[0m in \u001b[0;36m__call__\u001b[0;34m(self)\u001b[0m\n\u001b[1;32m    129\u001b[0m \u001b[0;34m\u001b[0m\u001b[0m\n\u001b[1;32m    130\u001b[0m     \u001b[0;32mdef\u001b[0m \u001b[0m__call__\u001b[0m\u001b[0;34m(\u001b[0m\u001b[0mself\u001b[0m\u001b[0;34m)\u001b[0m\u001b[0;34m:\u001b[0m\u001b[0;34m\u001b[0m\u001b[0m\n\u001b[0;32m--> 131\u001b[0;31m         \u001b[0;32mreturn\u001b[0m \u001b[0;34m[\u001b[0m\u001b[0mfunc\u001b[0m\u001b[0;34m(\u001b[0m\u001b[0;34m*\u001b[0m\u001b[0margs\u001b[0m\u001b[0;34m,\u001b[0m \u001b[0;34m**\u001b[0m\u001b[0mkwargs\u001b[0m\u001b[0;34m)\u001b[0m \u001b[0;32mfor\u001b[0m \u001b[0mfunc\u001b[0m\u001b[0;34m,\u001b[0m \u001b[0margs\u001b[0m\u001b[0;34m,\u001b[0m \u001b[0mkwargs\u001b[0m \u001b[0;32min\u001b[0m \u001b[0mself\u001b[0m\u001b[0;34m.\u001b[0m\u001b[0mitems\u001b[0m\u001b[0;34m]\u001b[0m\u001b[0;34m\u001b[0m\u001b[0m\n\u001b[0m\u001b[1;32m    132\u001b[0m \u001b[0;34m\u001b[0m\u001b[0m\n\u001b[1;32m    133\u001b[0m     \u001b[0;32mdef\u001b[0m \u001b[0m__len__\u001b[0m\u001b[0;34m(\u001b[0m\u001b[0mself\u001b[0m\u001b[0;34m)\u001b[0m\u001b[0;34m:\u001b[0m\u001b[0;34m\u001b[0m\u001b[0m\n",
      "\u001b[0;32m//anaconda/lib/python2.7/site-packages/sklearn/cross_validation.pyc\u001b[0m in \u001b[0;36m_fit_and_score\u001b[0;34m(estimator, X, y, scorer, train, test, verbose, parameters, fit_params, return_train_score, return_parameters, error_score)\u001b[0m\n\u001b[1;32m   1673\u001b[0m             \u001b[0mestimator\u001b[0m\u001b[0;34m.\u001b[0m\u001b[0mfit\u001b[0m\u001b[0;34m(\u001b[0m\u001b[0mX_train\u001b[0m\u001b[0;34m,\u001b[0m \u001b[0;34m**\u001b[0m\u001b[0mfit_params\u001b[0m\u001b[0;34m)\u001b[0m\u001b[0;34m\u001b[0m\u001b[0m\n\u001b[1;32m   1674\u001b[0m         \u001b[0;32melse\u001b[0m\u001b[0;34m:\u001b[0m\u001b[0;34m\u001b[0m\u001b[0m\n\u001b[0;32m-> 1675\u001b[0;31m             \u001b[0mestimator\u001b[0m\u001b[0;34m.\u001b[0m\u001b[0mfit\u001b[0m\u001b[0;34m(\u001b[0m\u001b[0mX_train\u001b[0m\u001b[0;34m,\u001b[0m \u001b[0my_train\u001b[0m\u001b[0;34m,\u001b[0m \u001b[0;34m**\u001b[0m\u001b[0mfit_params\u001b[0m\u001b[0;34m)\u001b[0m\u001b[0;34m\u001b[0m\u001b[0m\n\u001b[0m\u001b[1;32m   1676\u001b[0m \u001b[0;34m\u001b[0m\u001b[0m\n\u001b[1;32m   1677\u001b[0m     \u001b[0;32mexcept\u001b[0m \u001b[0mException\u001b[0m \u001b[0;32mas\u001b[0m \u001b[0me\u001b[0m\u001b[0;34m:\u001b[0m\u001b[0;34m\u001b[0m\u001b[0m\n",
      "\u001b[0;32m//anaconda/lib/python2.7/site-packages/sklearn/svm/base.pyc\u001b[0m in \u001b[0;36mfit\u001b[0;34m(self, X, y, sample_weight)\u001b[0m\n\u001b[1;32m    185\u001b[0m \u001b[0;34m\u001b[0m\u001b[0m\n\u001b[1;32m    186\u001b[0m         \u001b[0mseed\u001b[0m \u001b[0;34m=\u001b[0m \u001b[0mrnd\u001b[0m\u001b[0;34m.\u001b[0m\u001b[0mrandint\u001b[0m\u001b[0;34m(\u001b[0m\u001b[0mnp\u001b[0m\u001b[0;34m.\u001b[0m\u001b[0miinfo\u001b[0m\u001b[0;34m(\u001b[0m\u001b[0;34m'i'\u001b[0m\u001b[0;34m)\u001b[0m\u001b[0;34m.\u001b[0m\u001b[0mmax\u001b[0m\u001b[0;34m)\u001b[0m\u001b[0;34m\u001b[0m\u001b[0m\n\u001b[0;32m--> 187\u001b[0;31m         \u001b[0mfit\u001b[0m\u001b[0;34m(\u001b[0m\u001b[0mX\u001b[0m\u001b[0;34m,\u001b[0m \u001b[0my\u001b[0m\u001b[0;34m,\u001b[0m \u001b[0msample_weight\u001b[0m\u001b[0;34m,\u001b[0m \u001b[0msolver_type\u001b[0m\u001b[0;34m,\u001b[0m \u001b[0mkernel\u001b[0m\u001b[0;34m,\u001b[0m \u001b[0mrandom_seed\u001b[0m\u001b[0;34m=\u001b[0m\u001b[0mseed\u001b[0m\u001b[0;34m)\u001b[0m\u001b[0;34m\u001b[0m\u001b[0m\n\u001b[0m\u001b[1;32m    188\u001b[0m         \u001b[0;31m# see comment on the other call to np.iinfo in this file\u001b[0m\u001b[0;34m\u001b[0m\u001b[0;34m\u001b[0m\u001b[0m\n\u001b[1;32m    189\u001b[0m \u001b[0;34m\u001b[0m\u001b[0m\n",
      "\u001b[0;32m//anaconda/lib/python2.7/site-packages/sklearn/svm/base.pyc\u001b[0m in \u001b[0;36m_dense_fit\u001b[0;34m(self, X, y, sample_weight, solver_type, kernel, random_seed)\u001b[0m\n\u001b[1;32m    252\u001b[0m                 \u001b[0mcache_size\u001b[0m\u001b[0;34m=\u001b[0m\u001b[0mself\u001b[0m\u001b[0;34m.\u001b[0m\u001b[0mcache_size\u001b[0m\u001b[0;34m,\u001b[0m \u001b[0mcoef0\u001b[0m\u001b[0;34m=\u001b[0m\u001b[0mself\u001b[0m\u001b[0;34m.\u001b[0m\u001b[0mcoef0\u001b[0m\u001b[0;34m,\u001b[0m\u001b[0;34m\u001b[0m\u001b[0m\n\u001b[1;32m    253\u001b[0m                 \u001b[0mgamma\u001b[0m\u001b[0;34m=\u001b[0m\u001b[0mself\u001b[0m\u001b[0;34m.\u001b[0m\u001b[0m_gamma\u001b[0m\u001b[0;34m,\u001b[0m \u001b[0mepsilon\u001b[0m\u001b[0;34m=\u001b[0m\u001b[0mself\u001b[0m\u001b[0;34m.\u001b[0m\u001b[0mepsilon\u001b[0m\u001b[0;34m,\u001b[0m\u001b[0;34m\u001b[0m\u001b[0m\n\u001b[0;32m--> 254\u001b[0;31m                 max_iter=self.max_iter, random_seed=random_seed)\n\u001b[0m\u001b[1;32m    255\u001b[0m \u001b[0;34m\u001b[0m\u001b[0m\n\u001b[1;32m    256\u001b[0m         \u001b[0mself\u001b[0m\u001b[0;34m.\u001b[0m\u001b[0m_warn_from_fit_status\u001b[0m\u001b[0;34m(\u001b[0m\u001b[0;34m)\u001b[0m\u001b[0;34m\u001b[0m\u001b[0m\n",
      "\u001b[0;31mKeyboardInterrupt\u001b[0m: "
     ]
    }
   ],
   "source": [
    "from sklearn.svm import SVC\n",
    "svm = SVC(kernel='rbf', C=0.1, gamma=1, probability=True)\n",
    "svm_scores = cross_val_score(svm, X_train, y_train, cv=3, scoring='accuracy')\n",
    "print(\"Accuracy: %0.2f (+/- %0.2f)\" % (svm_scores.mean(), svm_scores.std() * 2))\n",
    "\n",
    "scoring = {'prec_macro': 'precision_macro','rec_micro': make_scorer(recall_score, average='macro')}\n",
    "all_scores = cross_validate(svm, X_train, y_train, scoring=scoring,cv=10, return_train_score=True)\n",
    "score = all_scores['test_rec_micro'] \n",
    "print(\"Recall: %0.2f (+/- %0.2f)\" % (score.mean(), score.std() * 2))\n",
    "score = all_scores['test_prec_macro'] \n",
    "print(\"Precision: %0.2f (+/- %0.2f)\" % (score.mean(), score.std() * 2))"
   ]
  },
  {
   "cell_type": "markdown",
   "metadata": {},
   "source": [
    "###TEST SET"
   ]
  },
  {
   "cell_type": "code",
   "execution_count": null,
   "metadata": {
    "collapsed": true
   },
   "outputs": [],
   "source": [
    "svm.fit(X_train,y_train)\n",
    "predict = svm.predict(X_test)\n",
    "precision = metrics.precision_score(y_test, predict)\n",
    "recall = metrics.recall_score(y_test, predict)\n",
    "print ('precision: %.2f%%, recall: %.2f%%' % (100 * precision, 100 * recall))\n",
    "accuracy = metrics.accuracy_score(y_test, predict)\n",
    "print ('accuracy: %.2f%%' % (100 * accuracy) )"
   ]
  },
  {
   "cell_type": "code",
   "execution_count": null,
   "metadata": {
    "collapsed": true
   },
   "outputs": [],
   "source": [
    "from sklearn.metrics import roc_curve, auc  \n",
    "predictions = LR.predict_proba(X_test)  \n",
    "false_positive_rate, recall, thresholds = roc_curve(y_test, predictions[:, 1])  \n",
    "roc_auc = auc(false_positive_rate, recall)  \n",
    "plt.title('SVM ROC')  \n",
    "plt.plot(false_positive_rate, recall, 'b', label='AUC = %0.2f' % roc_auc)  \n",
    "plt.legend(loc='lower right')  \n",
    "plt.plot([0, 1], [0, 1], 'r--')  \n",
    "plt.xlim([0.0, 1.0])  \n",
    "plt.ylim([0.0, 1.0])  \n",
    "plt.ylabel('Recall')  \n",
    "plt.xlabel('Fall-out') \n",
    "plt.savefig('SVM ROC.png',dpi=600)\n",
    "plt.show()  "
   ]
  },
  {
   "cell_type": "markdown",
   "metadata": {},
   "source": [
    "## Ridge"
   ]
  },
  {
   "cell_type": "code",
   "execution_count": null,
   "metadata": {
    "collapsed": true
   },
   "outputs": [],
   "source": [
    "from sklearn import linear_model\n",
    "LRR = linear_model.Ridge(1.0, fit_intercept=False)\n",
    "LRR.fit(X_train,y_train)\n",
    "theta = LRR.coef_"
   ]
  },
  {
   "cell_type": "code",
   "execution_count": null,
   "metadata": {
    "collapsed": false
   },
   "outputs": [],
   "source": [
    "theta"
   ]
  },
  {
   "cell_type": "code",
   "execution_count": null,
   "metadata": {
    "collapsed": true
   },
   "outputs": [],
   "source": [
    "MSE = 0\n",
    "for x,y in zip(X_test,y_test):\n",
    "    predict = 0\n",
    "    for i in range(len(theta)):\n",
    "        predict += x[i]*theta[i]\n",
    "    MSE += (predict-y)**2\n",
    "MSE = MSE/float(len(X_test))"
   ]
  },
  {
   "cell_type": "code",
   "execution_count": null,
   "metadata": {
    "collapsed": false
   },
   "outputs": [],
   "source": [
    "print ('RMSE',MSE**0.5)"
   ]
  },
  {
   "cell_type": "code",
   "execution_count": null,
   "metadata": {
    "collapsed": true
   },
   "outputs": [],
   "source": []
  }
 ],
 "metadata": {
  "anaconda-cloud": {},
  "kernelspec": {
   "display_name": "Python [default]",
   "language": "python",
   "name": "python2"
  },
  "language_info": {
   "codemirror_mode": {
    "name": "ipython",
    "version": 2
   },
   "file_extension": ".py",
   "mimetype": "text/x-python",
   "name": "python",
   "nbconvert_exporter": "python",
   "pygments_lexer": "ipython2",
   "version": "2.7.12"
  }
 },
 "nbformat": 4,
 "nbformat_minor": 2
}
