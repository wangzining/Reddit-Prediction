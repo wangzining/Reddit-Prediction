{
 "cells": [
  {
   "cell_type": "code",
   "execution_count": null,
   "metadata": {
    "collapsed": true
   },
   "outputs": [],
   "source": [
    "import csv\n",
    "import json\n",
    "from collections import defaultdict\n",
    "import matplotlib.pyplot as plt\n",
    "import string\n",
    "import nltk\n",
    "#nltk.download('stopwords')\n",
    "from nltk.corpus import stopwords\n",
    "from operator import itemgetter\n",
    "\n",
    "def load_data():\n",
    "    data = []\n",
    "    label = ['image_id','unixtime','rawtime','title','total_votes','reddit_id','number_of_upvotes',\\\n",
    "    'subreddit','number_of_downvotes','localtime','score','number_of_comments','username',\\\n",
    "    'undefined1','undefined2', 'undefined3']\n",
    "\n",
    "    with open('submissions.csv') as csvfile:\n",
    "        csvReader = csv.reader(csvfile)\n",
    "        for row in csvReader:\n",
    "            if row[0] == '#image_id':\n",
    "                continue\n",
    "            d = {}\n",
    "            for i,elem in enumerate(row):\n",
    "                if label[i]=='total_votes' or label[i]=='number_of_upvotes' or label[i]=='number_of_downvotes' or label[i]=='score' or label[i]=='number_of_comments':\n",
    "                    d[label[i]] = int(elem)\n",
    "                else:\n",
    "                    d[label[i]] = elem\n",
    "                    #judge if element it is empty\n",
    "            data.append(d)\n",
    "    return data\n",
    "\n",
    "data = load_data()\n",
    "comments_sorted_data = sorted(data, key=itemgetter('number_of_comments'), reverse=True)\n",
    "votes_sorted_data = sorted(data, key=itemgetter('total_votes'), reverse=True)\n",
    "\n",
    "def title():\n",
    "    wordCount = defaultdict(int)\n",
    "    punctuation = set(string.punctuation)\n",
    "\n",
    "    # word count in top 25000 titles with most comment numbers\n",
    "    for d in comments_sorted_data[0:25000]:\n",
    "        r = ''.join([c for c in d['title'].lower() if not c in punctuation])\n",
    "        for w in r.split():\n",
    "            wordCount[w] += 1\n",
    "\n",
    "    # remove English stopwords\n",
    "    for w in stopwords.words(\"english\"):\n",
    "        if w in wordCount:\n",
    "            wordCount.pop(w)\n",
    "\n",
    "    #print(len(wordCount))\n",
    "    counts = [(wordCount[w], w) for w in wordCount]\n",
    "    counts.sort()\n",
    "    counts.reverse()\n",
    "\n",
    "    # take top 1000 words to be targets\n",
    "    words = [x[1] for x in counts[:1000]]\n",
    "    wordId = dict(zip(words, range(len(words))))\n",
    "    wordSet = set(words)\n",
    "\n",
    "    title_comment_list = []\n",
    "    for d in data:\n",
    "        title_comment_num = 0\n",
    "        for i,w in enumerate(words):\n",
    "            if w in d['title']:\n",
    "                title_comment_num = title_comment_num + (1000-i)\n",
    "        title_comment_list.append(title_comment_num)\n",
    "\n",
    "    return title_comment_list\n",
    "\n",
    "#subreddit feature\n",
    "def get_popular_subreddit():\n",
    "    sub_post_num = defaultdict(int)\n",
    "    sub_post_sorted = {}\n",
    "    for d in data:\n",
    "        sub = d.get('subreddit')\n",
    "        sub_post_num[sub] += 1\n",
    "    for key, value in sorted(sub_post_num.iteritems(), key=lambda (k,v): (v,k),reverse = True):\n",
    "        sub_post_sorted[key] = value\n",
    "        #sub_post_sorted.append((key,value))\n",
    "        #print \"%s: %s\" % (key, value)\n",
    "    return sub_post_sorted\n",
    "\n",
    "sub_post_sorted = get_popular_subreddit()\n",
    "\n",
    "def popular_subreddit():\n",
    "    subreddit_list = []\n",
    "    for d in data:\n",
    "        sub = d.get('subreddit')\n",
    "        subreddit_list.append(sub_post_sorted[sub])\n",
    "    return subreddit_list\n",
    "\n",
    "subreddit_list = popular_subreddit()\n",
    "\n",
    "import re\n",
    "def get_time_feature(d):\n",
    "    # Create dummy variables based on exploratory analysis of this dataset and previous plots\n",
    "    time_feature = []  #night(22-1),sleep time(2-7),morning(8-11),afternoon(12-17),[evening(18-21) is omitted]\n",
    "                       #UTC+8,UTC+7,[UTC+0 is omitted]\n",
    "    \n",
    "    catchTime = re.compile(\"(.*)T(\\d{2}):(\\d{2}).*((-|\\+)\\d{2})\")\n",
    "    \n",
    "    \n",
    "    t = d['rawtime']\n",
    "    m = catchTime.search(t)\n",
    "    if m:\n",
    "        d['hour'] = int(m.group(2))\n",
    "        d['minute'] = int(m.group(3))\n",
    "        if d['minute'] >= 30:\n",
    "            d['time'] = (d['hour'] +1*0)%24\n",
    "        else:\n",
    "            d['time'] = d['hour']\n",
    "\n",
    "        d['timezone'] = int(m.group(4))\n",
    "        d['UTCtime'] = (d['time'] + d['timezone'])%24\n",
    "            \n",
    "    if d['UTCtime'] >= 22 or d['UTCtime'] <= 1:\n",
    "        time_feature.append(1)\n",
    "    else:\n",
    "        time_feature.append(0)\n",
    "        \n",
    "    if d['UTCtime'] >= 2 and d['UTCtime'] <= 7:\n",
    "        time_feature.append(1)\n",
    "    else:\n",
    "        time_feature.append(0)\n",
    "        \n",
    "    if d['UTCtime'] >= 8 and d['UTCtime'] <= 11:\n",
    "        time_feature.append(1)\n",
    "    else:\n",
    "        time_feature.append(0)\n",
    "    \n",
    "    if d['UTCtime'] >= 12 and d['UTCtime'] <= 17:\n",
    "        time_feature.append(1)\n",
    "    else:\n",
    "        time_feature.append(0)\n",
    "    \n",
    "    if d['timezone'] == -8:\n",
    "        time_feature.append(1)\n",
    "    else:\n",
    "        time_feature.append(0)\n",
    "    \n",
    "    if d['timezone'] == -7:\n",
    "        time_feature.append(1)\n",
    "    else:\n",
    "        time_feature.append(0)\n",
    "    \n",
    "    return time_feature\n",
    "\n",
    "import datetime\n",
    "def get_date_feature(d):\n",
    "    date_feature = [0]*17 #month(1-11),weekday(Monday-Saturday)\n",
    "    t = d['unixtime']\n",
    "    this_day = datetime.datetime.utcfromtimestamp(int(t))\n",
    "    if this_day.month != 12 and this_day.weekday() != 6:\n",
    "        date_feature[this_day.month-1] = 1\n",
    "        date_feature[this_day.weekday()+11] = 1\n",
    "    return date_feature\n",
    "\n",
    "\n",
    "raw_time_list = []\n",
    "date_list = []\n",
    "for d in data:\n",
    "    raw_time_list.append(get_time_feature(d))\n",
    "    date_list.append(get_date_feature(d))\n",
    "\n",
    "# submission time feature\n",
    "def submission():\n",
    "    ID = '-1'\n",
    "    submission_list = []\n",
    "\n",
    "    # original data is sorted in image_ID, count submission times before current submission\n",
    "    for d in data:\n",
    "        if d['image_id'] == ID:\n",
    "            count = count + 1\n",
    "            d['submission_time'] = count\n",
    "        else:\n",
    "            count = 0\n",
    "            ID = d['image_id']\n",
    "            d['submission_time'] = count\n",
    "\n",
    "    for d in data:\n",
    "        submission_list.append(d['submission_time'])\n",
    "\n",
    "    return submission_list\n",
    "\n",
    "# username feature\n",
    "def username():\n",
    "    with open('all_user_profile.json', 'r') as f:\n",
    "        all_user_profile = json.load(f)\n",
    "    user_comment_list = []\n",
    "    user_comment_dict = {}\n",
    "    for user in all_user_profile:\n",
    "        \n",
    "        user_comment_dict[user.get('username')] = user.get('avg_comments')\n",
    "\n",
    "    for d in data:\n",
    "        if d['username']=='':\n",
    "            user_comment_list.append(d['number_of_comments'])\n",
    "        elif d['username'] in user_comment_dict:\n",
    "            user_comment_list.append(user_comment_dict[d['username']])\n",
    "    return user_comment_list\n",
    "\n",
    "#subreddit feature\n",
    "def subreddit():\n",
    "    with open('all_subreddit_profile.json', 'r') as f:\n",
    "        all_subreddit_profile = json.load(f)\n",
    "    #post_list = []\n",
    "    sub_comment_list = []\n",
    "    sub_comment_dict = {}\n",
    "    sub_votes_list = []\n",
    "    sub_votes_dict = {}\n",
    "    for sub in all_subreddit_profile:\n",
    "        # post_list.append(sub.get('num_of_post'))\n",
    "        #sub_votes_dict[sub.get('subreddit')] = sub.get('avg_votes')\n",
    "        sub_comment_dict[sub.get('subreddit')] = sub.get('avg_comments')\n",
    "\n",
    "    for d in data:\n",
    "        if d['subreddit']=='':\n",
    "            sub_comment_list.append(d['number_of_comments'])\n",
    "        elif d['subreddit'] in sub_comment_dict:\n",
    "            sub_comment_list.append(sub_comment_dict[d['subreddit']])\n",
    "        #if d['subreddit'] in sub_votes_dict:\n",
    "            #sub_votes_list.append(sub_votes_dict[d['subreddit']])\n",
    "\n",
    "    return sub_comment_list\n",
    "\n",
    "with open('kmean_d.json', 'r') as f:\n",
    "        Kmeans_title = json.load(f)\n",
    "\n",
    "with open('title_len_list.json', 'r') as f:\n",
    "        title_len_list = json.load(f)\n",
    "\n",
    "# with open('LSA_m.json', 'r') as f:\n",
    "#         LSA_m = json.load(f)\n",
    "#Tuoying's part is missing :(\n",
    "\n",
    "#data[1999]\n",
    "\n",
    "from collections import Counter\n",
    "subreddits = Counter()\n",
    "for d in data:\n",
    "    subreddits[d['subreddit']] += 1\n",
    "succeeded = []\n",
    "popular_communities = [i[0] for i in subreddits.most_common(10)]\n",
    "successTime = {}\n",
    "idx = 0\n",
    "scores = Counter()\n",
    "for d in data:\n",
    "    if d['number_of_comments']*0.2 + d['total_votes']*0.8 > 36 and d['subreddit'] in popular_communities:\n",
    "        #Already succeeded in popular communities\n",
    "        if d['image_id'] not in successTime:\n",
    "            successTime[d['image_id']] = idx\n",
    "    idx += 1\n",
    "#     scores[d['score']] += 1  \n",
    "    \n",
    "# #scores.most_common(10)\n",
    "idx = 0\n",
    "for d in data:\n",
    "    if d['image_id'] not in successTime or idx <= successTime[d['image_id']]:\n",
    "        #haven't succeed yet\n",
    "        succeeded.append(0)\n",
    "    else:\n",
    "        succeeded.append(1)\n",
    "    idx += 1\n",
    "    "
   ]
  },
  {
   "cell_type": "code",
   "execution_count": 138,
   "metadata": {
    "collapsed": false
   },
   "outputs": [],
   "source": [
    "succeeded_in_sub = []\n",
    "succeeded_subs = {} #given image_id, which subreddits did it succeed\n",
    "\n",
    "for d in data:\n",
    "    if d['image_id'] in succeeded_subs and d['subreddit'] in succeeded_subs[d['image_id']]:\n",
    "        succeeded_in_sub.append(1)\n",
    "    else:\n",
    "        succeeded_in_sub.append(0)\n",
    "    \n",
    "    if d['number_of_comments']*0.2 + d['total_votes']*0.8 > 200:\n",
    "        #succeeded\n",
    "        if d['image_id'] not in succeeded_subs:\n",
    "            succeeded_subs[d['image_id']] = set()\n",
    "        succeeded_subs[d['image_id']].add(d['subreddit'])"
   ]
  },
  {
   "cell_type": "code",
   "execution_count": 139,
   "metadata": {
    "collapsed": false
   },
   "outputs": [
    {
     "name": "stdout",
     "output_type": "stream",
     "text": [
      "feature[title_keyword,submission_time,username,subreddit]: 28\n",
      "label[total_votes]: 1\n"
     ]
    }
   ],
   "source": [
    "submission_list = submission()\n",
    "\n",
    "comment_feature_list = []\n",
    "comment_label_list = []\n",
    "for i in range(len(data)):\n",
    "    large = 0\n",
    "    tmp_list = [submission_list[i],title_len_list[i],raw_time_list[i][0],raw_time_list[i][1],raw_time_list[i][2],raw_time_list[i][3],raw_time_list[i][4],raw_time_list[i][5]]\n",
    "\n",
    "    tmp_list.extend(date_list[i])\n",
    "    tmp_list.append(subreddit_list[i])\n",
    "    tmp_list.append(succeeded[i])\n",
    "    tmp_list.append(succeeded_in_sub[i])\n",
    "    comment_feature_list.append(tmp_list)\n",
    "    \n",
    "    if data[i]['number_of_comments']*0.2 + data[i]['total_votes']*0.8  > 36: large = 1 #votes and comment label \n",
    "    comment_label_list.append(large)\n",
    "\n",
    "print \"feature[title_keyword,submission_time,username,subreddit]:\",len(comment_feature_list[0])\n",
    "print \"label[total_votes]:\",comment_label_list[0]"
   ]
  },
  {
   "cell_type": "code",
   "execution_count": 140,
   "metadata": {
    "collapsed": false,
    "scrolled": true
   },
   "outputs": [
    {
     "data": {
      "text/plain": [
       "[0,\n",
       " 4,\n",
       " 0,\n",
       " 1,\n",
       " 0,\n",
       " 0,\n",
       " 0,\n",
       " 1,\n",
       " 0,\n",
       " 0,\n",
       " 1,\n",
       " 0,\n",
       " 0,\n",
       " 0,\n",
       " 0,\n",
       " 0,\n",
       " 0,\n",
       " 0,\n",
       " 0,\n",
       " 0,\n",
       " 0,\n",
       " 0,\n",
       " 0,\n",
       " 0,\n",
       " 1,\n",
       " 55281,\n",
       " 0,\n",
       " 0]"
      ]
     },
     "execution_count": 140,
     "metadata": {},
     "output_type": "execute_result"
    }
   ],
   "source": [
    "comment_feature_list[0]"
   ]
  },
  {
   "cell_type": "code",
   "execution_count": 141,
   "metadata": {
    "collapsed": false
   },
   "outputs": [
    {
     "name": "stdout",
     "output_type": "stream",
     "text": [
      "The scikit-learn version is 0.19.1.\n"
     ]
    },
    {
     "data": {
      "text/plain": [
       "[[5,\n",
       "  8,\n",
       "  0,\n",
       "  0,\n",
       "  0,\n",
       "  1,\n",
       "  0,\n",
       "  1,\n",
       "  0,\n",
       "  0,\n",
       "  1,\n",
       "  0,\n",
       "  0,\n",
       "  0,\n",
       "  0,\n",
       "  0,\n",
       "  0,\n",
       "  0,\n",
       "  0,\n",
       "  0,\n",
       "  0,\n",
       "  0,\n",
       "  0,\n",
       "  1,\n",
       "  0,\n",
       "  55281,\n",
       "  1,\n",
       "  1],\n",
       " [16,\n",
       "  7,\n",
       "  1,\n",
       "  0,\n",
       "  0,\n",
       "  0,\n",
       "  0,\n",
       "  1,\n",
       "  0,\n",
       "  0,\n",
       "  0,\n",
       "  0,\n",
       "  0,\n",
       "  0,\n",
       "  0,\n",
       "  0,\n",
       "  1,\n",
       "  0,\n",
       "  0,\n",
       "  0,\n",
       "  0,\n",
       "  0,\n",
       "  1,\n",
       "  0,\n",
       "  0,\n",
       "  5608,\n",
       "  1,\n",
       "  1],\n",
       " [1,\n",
       "  6,\n",
       "  0,\n",
       "  1,\n",
       "  0,\n",
       "  0,\n",
       "  0,\n",
       "  1,\n",
       "  0,\n",
       "  0,\n",
       "  1,\n",
       "  0,\n",
       "  0,\n",
       "  0,\n",
       "  0,\n",
       "  0,\n",
       "  0,\n",
       "  0,\n",
       "  0,\n",
       "  0,\n",
       "  0,\n",
       "  1,\n",
       "  0,\n",
       "  0,\n",
       "  0,\n",
       "  12193,\n",
       "  1,\n",
       "  0],\n",
       " [3,\n",
       "  8,\n",
       "  0,\n",
       "  1,\n",
       "  0,\n",
       "  0,\n",
       "  0,\n",
       "  1,\n",
       "  0,\n",
       "  0,\n",
       "  0,\n",
       "  1,\n",
       "  0,\n",
       "  0,\n",
       "  0,\n",
       "  0,\n",
       "  0,\n",
       "  0,\n",
       "  0,\n",
       "  0,\n",
       "  0,\n",
       "  0,\n",
       "  0,\n",
       "  1,\n",
       "  0,\n",
       "  55281,\n",
       "  1,\n",
       "  0],\n",
       " [0,\n",
       "  9,\n",
       "  0,\n",
       "  0,\n",
       "  1,\n",
       "  0,\n",
       "  0,\n",
       "  1,\n",
       "  0,\n",
       "  0,\n",
       "  0,\n",
       "  0,\n",
       "  0,\n",
       "  1,\n",
       "  0,\n",
       "  0,\n",
       "  0,\n",
       "  0,\n",
       "  0,\n",
       "  0,\n",
       "  0,\n",
       "  0,\n",
       "  1,\n",
       "  0,\n",
       "  0,\n",
       "  3366,\n",
       "  0,\n",
       "  0],\n",
       " [12,\n",
       "  3,\n",
       "  0,\n",
       "  0,\n",
       "  1,\n",
       "  0,\n",
       "  0,\n",
       "  0,\n",
       "  0,\n",
       "  0,\n",
       "  0,\n",
       "  0,\n",
       "  0,\n",
       "  0,\n",
       "  0,\n",
       "  0,\n",
       "  1,\n",
       "  0,\n",
       "  0,\n",
       "  0,\n",
       "  0,\n",
       "  0,\n",
       "  0,\n",
       "  0,\n",
       "  1,\n",
       "  12193,\n",
       "  1,\n",
       "  1],\n",
       " [4,\n",
       "  1,\n",
       "  1,\n",
       "  0,\n",
       "  0,\n",
       "  0,\n",
       "  0,\n",
       "  1,\n",
       "  0,\n",
       "  0,\n",
       "  0,\n",
       "  0,\n",
       "  0,\n",
       "  1,\n",
       "  0,\n",
       "  0,\n",
       "  0,\n",
       "  0,\n",
       "  0,\n",
       "  0,\n",
       "  0,\n",
       "  0,\n",
       "  0,\n",
       "  1,\n",
       "  0,\n",
       "  55281,\n",
       "  1,\n",
       "  1],\n",
       " [4,\n",
       "  2,\n",
       "  0,\n",
       "  0,\n",
       "  0,\n",
       "  0,\n",
       "  0,\n",
       "  0,\n",
       "  0,\n",
       "  0,\n",
       "  0,\n",
       "  0,\n",
       "  0,\n",
       "  0,\n",
       "  0,\n",
       "  0,\n",
       "  0,\n",
       "  1,\n",
       "  0,\n",
       "  0,\n",
       "  1,\n",
       "  0,\n",
       "  0,\n",
       "  0,\n",
       "  0,\n",
       "  55281,\n",
       "  1,\n",
       "  1],\n",
       " [3,\n",
       "  5,\n",
       "  0,\n",
       "  1,\n",
       "  0,\n",
       "  0,\n",
       "  0,\n",
       "  0,\n",
       "  0,\n",
       "  0,\n",
       "  0,\n",
       "  0,\n",
       "  0,\n",
       "  0,\n",
       "  0,\n",
       "  0,\n",
       "  0,\n",
       "  1,\n",
       "  0,\n",
       "  0,\n",
       "  1,\n",
       "  0,\n",
       "  0,\n",
       "  0,\n",
       "  0,\n",
       "  55281,\n",
       "  1,\n",
       "  1],\n",
       " [8,\n",
       "  8,\n",
       "  0,\n",
       "  0,\n",
       "  0,\n",
       "  1,\n",
       "  0,\n",
       "  1,\n",
       "  0,\n",
       "  0,\n",
       "  0,\n",
       "  1,\n",
       "  0,\n",
       "  0,\n",
       "  0,\n",
       "  0,\n",
       "  0,\n",
       "  0,\n",
       "  0,\n",
       "  1,\n",
       "  0,\n",
       "  0,\n",
       "  0,\n",
       "  0,\n",
       "  0,\n",
       "  12538,\n",
       "  1,\n",
       "  1]]"
      ]
     },
     "execution_count": 141,
     "metadata": {},
     "output_type": "execute_result"
    }
   ],
   "source": [
    "import os\n",
    "import time\n",
    "from sklearn import metrics\n",
    "import numpy as np\n",
    "import pickle\n",
    "\n",
    "import sys\n",
    "\n",
    "import sklearn\n",
    "print('The scikit-learn version is {}.'.format(sklearn.__version__))\n",
    "\n",
    "from sklearn.cross_validation import train_test_split\n",
    "from sklearn.neighbors import KNeighborsClassifier\n",
    "from sklearn import metrics\n",
    "\n",
    "X_train, X_test, y_train, y_test = train_test_split(comment_feature_list, comment_label_list, random_state=4)\n",
    "\n",
    "X_train[0:10]"
   ]
  },
  {
   "cell_type": "code",
   "execution_count": 142,
   "metadata": {
    "collapsed": false
   },
   "outputs": [
    {
     "data": {
      "text/plain": [
       "array([[-0.25810155,  0.31366411, -0.45460294, -0.63410438, -0.44275513,\n",
       "         1.72046876, -0.18079946,  0.71826926, -0.21337249, -0.16718038,\n",
       "         5.21366805, -0.21205259, -0.21568545, -0.23782342, -0.30874974,\n",
       "        -0.33838666, -0.4420712 , -0.40756406, -0.28530026, -0.40658849,\n",
       "        -0.40652117, -0.40581404, -0.40927731,  2.60074379, -0.37074249,\n",
       "         1.12269297,  0.51331958,  1.07868928],\n",
       "       [ 0.56022825,  0.09901414,  2.19972183, -0.63410438, -0.44275513,\n",
       "        -0.58123694, -0.18079946,  0.71826926, -0.21337249, -0.16718038,\n",
       "        -0.19180354, -0.21205259, -0.21568545, -0.23782342, -0.30874974,\n",
       "        -0.33838666,  2.26207904, -0.40756406, -0.28530026, -0.40658849,\n",
       "        -0.40652117, -0.40581404,  2.44333118, -0.38450539, -0.37074249,\n",
       "        -1.14483675,  0.51331958,  1.07868928],\n",
       "       [-0.55567602, -0.11563583, -0.45460294,  1.57702742, -0.44275513,\n",
       "        -0.58123694, -0.18079946,  0.71826926, -0.21337249, -0.16718038,\n",
       "         5.21366805, -0.21205259, -0.21568545, -0.23782342, -0.30874974,\n",
       "        -0.33838666, -0.4420712 , -0.40756406, -0.28530026, -0.40658849,\n",
       "        -0.40652117,  2.46418288, -0.40927731, -0.38450539, -0.37074249,\n",
       "        -0.84423717,  0.51331958, -0.92705103],\n",
       "       [-0.40688878,  0.31366411, -0.45460294,  1.57702742, -0.44275513,\n",
       "        -0.58123694, -0.18079946,  0.71826926, -0.21337249, -0.16718038,\n",
       "        -0.19180354,  4.71581126, -0.21568545, -0.23782342, -0.30874974,\n",
       "        -0.33838666, -0.4420712 , -0.40756406, -0.28530026, -0.40658849,\n",
       "        -0.40652117, -0.40581404, -0.40927731,  2.60074379, -0.37074249,\n",
       "         1.12269297,  0.51331958, -0.92705103],\n",
       "       [-0.63006963,  0.52831408, -0.45460294, -0.63410438,  2.25858476,\n",
       "        -0.58123694, -0.18079946,  0.71826926, -0.21337249, -0.16718038,\n",
       "        -0.19180354, -0.21205259, -0.21568545,  4.2048004 , -0.30874974,\n",
       "        -0.33838666, -0.4420712 , -0.40756406, -0.28530026, -0.40658849,\n",
       "        -0.40652117, -0.40581404,  2.44333118, -0.38450539, -0.37074249,\n",
       "        -1.24718213, -1.94810413, -0.92705103],\n",
       "       [ 0.26265378, -0.75958574, -0.45460294, -0.63410438,  2.25858476,\n",
       "        -0.58123694, -0.18079946, -1.39223556, -0.21337249, -0.16718038,\n",
       "        -0.19180354, -0.21205259, -0.21568545, -0.23782342, -0.30874974,\n",
       "        -0.33838666,  2.26207904, -0.40756406, -0.28530026, -0.40658849,\n",
       "        -0.40652117, -0.40581404, -0.40927731, -0.38450539,  2.69728997,\n",
       "        -0.84423717,  0.51331958,  1.07868928],\n",
       "       [-0.33249516, -1.18888568,  2.19972183, -0.63410438, -0.44275513,\n",
       "        -0.58123694, -0.18079946,  0.71826926, -0.21337249, -0.16718038,\n",
       "        -0.19180354, -0.21205259, -0.21568545,  4.2048004 , -0.30874974,\n",
       "        -0.33838666, -0.4420712 , -0.40756406, -0.28530026, -0.40658849,\n",
       "        -0.40652117, -0.40581404, -0.40927731,  2.60074379, -0.37074249,\n",
       "         1.12269297,  0.51331958,  1.07868928],\n",
       "       [-0.33249516, -0.97423571, -0.45460294, -0.63410438, -0.44275513,\n",
       "        -0.58123694, -0.18079946, -1.39223556, -0.21337249, -0.16718038,\n",
       "        -0.19180354, -0.21205259, -0.21568545, -0.23782342, -0.30874974,\n",
       "        -0.33838666, -0.4420712 ,  2.45360199, -0.28530026, -0.40658849,\n",
       "         2.45989649, -0.40581404, -0.40927731, -0.38450539, -0.37074249,\n",
       "         1.12269297,  0.51331958,  1.07868928],\n",
       "       [-0.40688878, -0.3302858 , -0.45460294,  1.57702742, -0.44275513,\n",
       "        -0.58123694, -0.18079946, -1.39223556, -0.21337249, -0.16718038,\n",
       "        -0.19180354, -0.21205259, -0.21568545, -0.23782342, -0.30874974,\n",
       "        -0.33838666, -0.4420712 ,  2.45360199, -0.28530026, -0.40658849,\n",
       "         2.45989649, -0.40581404, -0.40927731, -0.38450539, -0.37074249,\n",
       "         1.12269297,  0.51331958,  1.07868928],\n",
       "       [-0.03492069,  0.31366411, -0.45460294, -0.63410438, -0.44275513,\n",
       "         1.72046876, -0.18079946,  0.71826926, -0.21337249, -0.16718038,\n",
       "        -0.19180354,  4.71581126, -0.21568545, -0.23782342, -0.30874974,\n",
       "        -0.33838666, -0.4420712 , -0.40756406, -0.28530026,  2.45948921,\n",
       "        -0.40652117, -0.40581404, -0.40927731, -0.38450539, -0.37074249,\n",
       "        -0.82848822,  0.51331958,  1.07868928]])"
      ]
     },
     "execution_count": 142,
     "metadata": {},
     "output_type": "execute_result"
    }
   ],
   "source": [
    "from sklearn import preprocessing\n",
    "scaler = preprocessing.StandardScaler()\n",
    "min_max_scaler = preprocessing.MinMaxScaler()\n",
    "X_train = scaler.fit_transform(X_train)\n",
    "X_test = scaler.transform(X_test)\n",
    "\n",
    "len(X_train)\n",
    "\n",
    "len(X_test)\n",
    "\n",
    "X_train[0:10]"
   ]
  },
  {
   "cell_type": "markdown",
   "metadata": {},
   "source": [
    "## Logistic Regression Classifier"
   ]
  },
  {
   "cell_type": "code",
   "execution_count": 143,
   "metadata": {
    "collapsed": true
   },
   "outputs": [],
   "source": [
    "from sklearn.cross_validation import cross_val_score\n",
    "from sklearn.model_selection import cross_validate\n",
    "from sklearn.metrics.scorer import make_scorer\n",
    "from sklearn.metrics import recall_score"
   ]
  },
  {
   "cell_type": "markdown",
   "metadata": {},
   "source": [
    "### Validation"
   ]
  },
  {
   "cell_type": "code",
   "execution_count": 144,
   "metadata": {
    "collapsed": false
   },
   "outputs": [
    {
     "name": "stdout",
     "output_type": "stream",
     "text": [
      "Accuracy: 0.6687 (+/- 0.0121)\n",
      "Recall: 0.6686 (+/- 0.0121)\n",
      "Precision: 0.6688 (+/- 0.0121)\n"
     ]
    }
   ],
   "source": [
    "# Logistic Regression Classifier\n",
    "from sklearn.linear_model import LogisticRegression\n",
    "LR = LogisticRegression(penalty='l2', class_weight = 'balanced') # balanced：让类库自己计算类型权重\n",
    "LR_scores = cross_val_score(LR, X_train, y_train, cv=10, scoring='accuracy')\n",
    "print(\"Accuracy: %0.4f (+/- %0.4f)\" % (LR_scores.mean(), LR_scores.std() * 2))\n",
    "\n",
    "scoring = {'prec_macro': 'precision_macro','rec_micro': make_scorer(recall_score, average='macro')}\n",
    "all_scores = cross_validate(LR, X_train, y_train, scoring=scoring,cv=10, return_train_score=True)\n",
    "score = all_scores['test_rec_micro'] \n",
    "print(\"Recall: %0.4f (+/- %0.4f)\" % (score.mean(), score.std() * 2))\n",
    "score = all_scores['test_prec_macro'] \n",
    "print(\"Precision: %0.4f (+/- %0.4f)\" % (score.mean(), score.std() * 2))"
   ]
  },
  {
   "cell_type": "markdown",
   "metadata": {},
   "source": [
    "## test set"
   ]
  },
  {
   "cell_type": "code",
   "execution_count": 145,
   "metadata": {
    "collapsed": false
   },
   "outputs": [
    {
     "name": "stdout",
     "output_type": "stream",
     "text": [
      "precision: 66.66%, recall: 69.04%\n",
      "accuracy: 67.47%\n",
      "('Theta', array([[-0.3366103 , -0.02542098,  0.04494   ,  0.00407469,  0.02336471,\n",
      "         0.01814905, -0.01906309,  0.37406267,  0.08326419,  0.12162135,\n",
      "         0.14154005,  0.09865107,  0.09033634,  0.05236045, -0.08474114,\n",
      "        -0.1314046 , -0.18346188, -0.14551801,  0.00487096, -0.03288222,\n",
      "        -0.05171157, -0.04012235, -0.05949376, -0.03799053,  0.0283868 ,\n",
      "        -0.31000271, -0.17097606,  0.07547683]]))\n"
     ]
    }
   ],
   "source": [
    "LR.fit(X_train,y_train)\n",
    "theta = LR.coef_\n",
    "predict = LR.predict(X_test)\n",
    "precision = metrics.precision_score(y_test, predict)\n",
    "recall = metrics.recall_score(y_test, predict)\n",
    "print ('precision: %.2f%%, recall: %.2f%%' % (100 * precision, 100 * recall))\n",
    "accuracy = metrics.accuracy_score(y_test, predict)\n",
    "print ('accuracy: %.2f%%' % (100 * accuracy) )\n",
    "print(\"Theta\",theta)"
   ]
  },
  {
   "cell_type": "code",
   "execution_count": 146,
   "metadata": {
    "collapsed": false
   },
   "outputs": [
    {
     "data": {
      "image/png": "[encoded data removed]",
      "text/plain": [
       "<matplotlib.figure.Figure at 0x11190e3d0>"
      ]
     },
     "metadata": {},
     "output_type": "display_data"
    }
   ],
   "source": [
    "from sklearn.metrics import roc_curve, auc  \n",
    "predictions = LR.predict_proba(X_test)  \n",
    "false_positive_rate, recall, thresholds = roc_curve(y_test, predictions[:, 1])  \n",
    "roc_auc = auc(false_positive_rate, recall)  \n",
    "plt.title('Logistic Regression ROC')  \n",
    "plt.plot(false_positive_rate, recall, 'b', label='AUC = %0.2f' % roc_auc)  \n",
    "plt.legend(loc='lower right')  \n",
    "plt.plot([0, 1], [0, 1], 'r--')  \n",
    "plt.xlim([0.0, 1.0])  \n",
    "plt.ylim([0.0, 1.0])  \n",
    "plt.ylabel('Recall')  \n",
    "plt.xlabel('Fall-out') \n",
    "plt.savefig('Logistic Regression ROC.png',dpi=600)\n",
    "plt.show()  "
   ]
  },
  {
   "cell_type": "markdown",
   "metadata": {},
   "source": [
    "## Decision Tree Classifier"
   ]
  },
  {
   "cell_type": "code",
   "execution_count": 147,
   "metadata": {
    "collapsed": true
   },
   "outputs": [],
   "source": [
    "### Validation"
   ]
  },
  {
   "cell_type": "code",
   "execution_count": 148,
   "metadata": {
    "collapsed": false
   },
   "outputs": [
    {
     "name": "stdout",
     "output_type": "stream",
     "text": [
      "Accuracy: 0.6742 (+/- 0.0101)\n",
      "Recall: 0.6740 (+/- 0.0101)\n",
      "Precision: 0.6745 (+/- 0.0102)\n"
     ]
    }
   ],
   "source": [
    "from sklearn import tree\n",
    "# max_depth = 4, 限制树的最大深度4,其实特征少的时候不用限制这个深度，但不知道为什么这里限制了之后准确率提高\n",
    "DT = tree.DecisionTreeClassifier(class_weight = 'balanced',max_depth = 4) \n",
    "DT_scores = cross_val_score(DT, X_train, y_train, cv=10, scoring='accuracy')\n",
    "print(\"Accuracy: %0.4f (+/- %0.4f)\" % (DT_scores.mean(), DT_scores.std() * 2))\n",
    "\n",
    "scoring = {'prec_macro': 'precision_macro','rec_micro': make_scorer(recall_score, average='macro')}\n",
    "all_scores = cross_validate(DT, X_train, y_train, scoring=scoring,cv=10, return_train_score=True)\n",
    "score = all_scores['test_rec_micro'] \n",
    "print(\"Recall: %0.4f (+/- %0.4f)\" % (score.mean(), score.std() * 2))\n",
    "score = all_scores['test_prec_macro'] \n",
    "print(\"Precision: %0.4f (+/- %0.4f)\" % (score.mean(), score.std() * 2))"
   ]
  },
  {
   "cell_type": "code",
   "execution_count": 149,
   "metadata": {
    "collapsed": true
   },
   "outputs": [],
   "source": [
    "### TEST SET"
   ]
  },
  {
   "cell_type": "code",
   "execution_count": 150,
   "metadata": {
    "collapsed": false
   },
   "outputs": [
    {
     "name": "stdout",
     "output_type": "stream",
     "text": [
      "precision: 66.38%, recall: 70.41%\n",
      "accuracy: 67.58%\n"
     ]
    }
   ],
   "source": [
    "DT.fit(X_train,y_train)\n",
    "predict = DT.predict(X_test)\n",
    "precision = metrics.precision_score(y_test, predict)\n",
    "recall = metrics.recall_score(y_test, predict)\n",
    "print ('precision: %.2f%%, recall: %.2f%%' % (100 * precision, 100 * recall))\n",
    "accuracy = metrics.accuracy_score(y_test, predict)\n",
    "print ('accuracy: %.2f%%' % (100 * accuracy) )"
   ]
  },
  {
   "cell_type": "code",
   "execution_count": 151,
   "metadata": {
    "collapsed": false
   },
   "outputs": [
    {
     "data": {
      "image/png": "[encoded data removed]",
      "text/plain": [
       "<matplotlib.figure.Figure at 0x11190e5d0>"
      ]
     },
     "metadata": {},
     "output_type": "display_data"
    }
   ],
   "source": [
    "from sklearn.metrics import roc_curve, auc  \n",
    "predictions = DT.predict_proba(X_test)  \n",
    "false_positive_rate, recall, thresholds = roc_curve(y_test, predictions[:, 1])  \n",
    "roc_auc = auc(false_positive_rate, recall)  \n",
    "plt.title('Decsion Tree ROC')  \n",
    "plt.plot(false_positive_rate, recall, 'b', label='AUC = %0.2f' % roc_auc)  \n",
    "plt.legend(loc='lower right')  \n",
    "plt.plot([0, 1], [0, 1], 'r--')  \n",
    "plt.xlim([0.0, 1.0])  \n",
    "plt.ylim([0.0, 1.0])  \n",
    "plt.ylabel('Recall')  \n",
    "plt.xlabel('Fall-out')\n",
    "plt.savefig('Decsion Tree ROC.png',dpi=600)\n",
    "plt.show()  "
   ]
  },
  {
   "cell_type": "markdown",
   "metadata": {},
   "source": [
    "##AB(AdaBoost) Classifier"
   ]
  },
  {
   "cell_type": "code",
   "execution_count": 152,
   "metadata": {
    "collapsed": false
   },
   "outputs": [
    {
     "name": "stdout",
     "output_type": "stream",
     "text": [
      "Accuracy: 0.6742 (+/- 0.0101)\n",
      "Recall: 0.7113 (+/- 0.0119)\n",
      "Precision: 0.7114 (+/- 0.0119)\n"
     ]
    }
   ],
   "source": [
    "from sklearn.ensemble import AdaBoostClassifier\n",
    "# 一般来说n_estimators太小，容易欠拟合，n_estimators太大，又容易过拟合，一般选择一个适中的数值。默认是50\n",
    "#对于同样的训练集拟合效果，较小的νν意味着我们需要更多的弱学习器的迭代次数。通常我们用步长和迭代最大次数一起来决定算法的拟合效果。\n",
    "#所以这两个参数n_estimators和learning_rate要一起调参。一般来说，可以从一个小一点的νν开始调参，默认是1\n",
    "Ada= AdaBoostClassifier(n_estimators=200,learning_rate=0.8)\n",
    "Ada_scores = cross_val_score(Ada, X_train, y_train, cv=10, scoring='accuracy')\n",
    "print(\"Accuracy: %0.4f (+/- %0.4f)\" % (DT_scores.mean(), DT_scores.std() * 2))\n",
    "\n",
    "scoring = {'prec_macro': 'precision_macro','rec_micro': make_scorer(recall_score, average='macro')}\n",
    "all_scores = cross_validate(Ada, X_train, y_train, scoring=scoring,cv=10, return_train_score=True)\n",
    "score = all_scores['test_rec_micro'] \n",
    "print(\"Recall: %0.4f (+/- %0.4f)\" % (score.mean(), score.std() * 2))\n",
    "score = all_scores['test_prec_macro'] \n",
    "print(\"Precision: %0.4f (+/- %0.4f)\" % (score.mean(), score.std() * 2))"
   ]
  },
  {
   "cell_type": "markdown",
   "metadata": {},
   "source": [
    "###TEST SET"
   ]
  },
  {
   "cell_type": "code",
   "execution_count": 153,
   "metadata": {
    "collapsed": false
   },
   "outputs": [
    {
     "name": "stdout",
     "output_type": "stream",
     "text": [
      "precision: 71.77%, recall: 70.52%\n",
      "accuracy: 71.58%\n"
     ]
    }
   ],
   "source": [
    "Ada.fit(X_train,y_train)\n",
    "predict = Ada.predict(X_test)\n",
    "precision = metrics.precision_score(y_test, predict)\n",
    "recall = metrics.recall_score(y_test, predict)\n",
    "print ('precision: %.2f%%, recall: %.2f%%' % (100 * precision, 100 * recall))\n",
    "accuracy = metrics.accuracy_score(y_test, predict)\n",
    "print ('accuracy: %.2f%%' % (100 * accuracy) )"
   ]
  },
  {
   "cell_type": "code",
   "execution_count": 154,
   "metadata": {
    "collapsed": false
   },
   "outputs": [
    {
     "data": {
      "image/png": "[encoded data removed]",
      "text/plain": [
       "<matplotlib.figure.Figure at 0x12facca10>"
      ]
     },
     "metadata": {},
     "output_type": "display_data"
    }
   ],
   "source": [
    "from sklearn.metrics import roc_curve, auc  \n",
    "predictions = Ada.predict_proba(X_test)  \n",
    "false_positive_rate, recall, thresholds = roc_curve(y_test, predictions[:, 1])  \n",
    "roc_auc = auc(false_positive_rate, recall)  \n",
    "plt.title('Ada Boosting ROC')  \n",
    "plt.plot(false_positive_rate, recall, 'b', label='AUC = %0.2f' % roc_auc)  \n",
    "plt.legend(loc='lower right')  \n",
    "plt.plot([0, 1], [0, 1], 'r--')  \n",
    "plt.xlim([0.0, 1.0])  \n",
    "plt.ylim([0.0, 1.0])  \n",
    "plt.ylabel('Recall')  \n",
    "plt.xlabel('Fall-out') \n",
    "plt.savefig('Ada Boosting ROC.png',dpi=600)\n",
    "plt.show() "
   ]
  },
  {
   "cell_type": "code",
   "execution_count": null,
   "metadata": {
    "collapsed": true
   },
   "outputs": [],
   "source": []
  }
 ],
 "metadata": {
  "anaconda-cloud": {},
  "kernelspec": {
   "display_name": "Python [default]",
   "language": "python",
   "name": "python2"
  },
  "language_info": {
   "codemirror_mode": {
    "name": "ipython",
    "version": 2
   },
   "file_extension": ".py",
   "mimetype": "text/x-python",
   "name": "python",
   "nbconvert_exporter": "python",
   "pygments_lexer": "ipython2",
   "version": "2.7.12"
  }
 },
 "nbformat": 4,
 "nbformat_minor": 2
}
