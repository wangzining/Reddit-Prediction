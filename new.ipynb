{
 "cells": [
  {
   "cell_type": "code",
   "execution_count": 1,
   "metadata": {},
   "outputs": [
    {
     "name": "stdout",
     "output_type": "stream",
     "text": [
      "[nltk_data] Downloading package stopwords to\n",
      "[nltk_data]     /Users/treven/nltk_data...\n",
      "[nltk_data]   Package stopwords is already up-to-date!\n"
     ]
    }
   ],
   "source": [
    "import csv\n",
    "import json\n",
    "from collections import defaultdict\n",
    "import string\n",
    "import nltk\n",
    "nltk.download('stopwords')\n",
    "from nltk.corpus import stopwords\n",
    "from operator import itemgetter"
   ]
  },
  {
   "cell_type": "code",
   "execution_count": 2,
   "metadata": {
    "collapsed": true
   },
   "outputs": [],
   "source": [
    "def load_data():\n",
    "    data = []\n",
    "    label = ['image_id','unixtime','rawtime','title','total_votes','reddit_id','number_of_upvotes',\\\n",
    "    'subreddit','number_of_downvotes','localtime','score','number_of_comments','username',\\\n",
    "    'undefined1','undefined2', 'undefined3']\n",
    "\n",
    "    with open('submissions.csv') as csvfile:\n",
    "        csvReader = csv.reader(csvfile)\n",
    "        for row in csvReader:\n",
    "            if row[0] == '#image_id':\n",
    "                continue\n",
    "            d = {}\n",
    "            for i,elem in enumerate(row):\n",
    "                if label[i]=='total_votes' or label[i]=='number_of_upvotes' or label[i]=='number_of_downvotes' or label[i]=='score' or label[i]=='number_of_comments':\n",
    "                    d[label[i]] = int(elem)\n",
    "                else:\n",
    "                    d[label[i]] = elem\n",
    "                    #judge if element it is empty\n",
    "            data.append(d)\n",
    "    return data"
   ]
  },
  {
   "cell_type": "code",
   "execution_count": 3,
   "metadata": {
    "collapsed": true
   },
   "outputs": [],
   "source": [
    "data = load_data()\n",
    "comments_sorted_data = sorted(data, key=itemgetter('number_of_comments'), reverse=True)\n",
    "votes_sorted_data = sorted(data, key=itemgetter('total_votes'), reverse=True)"
   ]
  },
  {
   "cell_type": "code",
   "execution_count": 4,
   "metadata": {
    "collapsed": true
   },
   "outputs": [],
   "source": [
    "def title():\n",
    "    wordCount = defaultdict(int)\n",
    "    punctuation = set(string.punctuation)\n",
    "\n",
    "    # word count in top 25000 titles with most comment numbers\n",
    "    for d in comments_sorted_data[0:25000]:\n",
    "        r = ''.join([c for c in d['title'].lower() if not c in punctuation])\n",
    "        for w in r.split():\n",
    "            wordCount[w] += 1\n",
    "\n",
    "    # remove English stopwords\n",
    "    for w in stopwords.words(\"english\"):\n",
    "        if w in wordCount:\n",
    "            wordCount.pop(w)\n",
    "\n",
    "    #print(len(wordCount))\n",
    "    counts = [(wordCount[w], w) for w in wordCount]\n",
    "    counts.sort()\n",
    "    counts.reverse()\n",
    "\n",
    "    # take top 1000 words to be targets\n",
    "    words = [x[1] for x in counts[:1000]]\n",
    "    wordId = dict(zip(words, range(len(words))))\n",
    "    wordSet = set(words)\n",
    "\n",
    "    title_comment_list = []\n",
    "    for d in data:\n",
    "        title_comment_num = 0\n",
    "        for i,w in enumerate(words):\n",
    "            if w in d['title']:\n",
    "                title_comment_num = title_comment_num + (1000-i)\n",
    "        title_comment_list.append(title_comment_num)\n",
    "\n",
    "    return title_comment_list"
   ]
  },
  {
   "cell_type": "code",
   "execution_count": 5,
   "metadata": {
    "collapsed": true
   },
   "outputs": [],
   "source": [
    "import re\n",
    "def get_time_feature(d):\n",
    "    # Create dummy variables based on exploratory analysis of this dataset and previous plots\n",
    "    time_feature = []  #night(22-1),sleep time(2-7),morning(8-11),afternoon(12-17),[evening(18-21) is omitted]\n",
    "                       #UTC+8,UTC+7,[UTC+0 is omitted]\n",
    "    \n",
    "    catchTime = re.compile(\"(.*)T(\\d{2}):(\\d{2}).*((-|\\+)\\d{2})\")\n",
    "    \n",
    "    \n",
    "    t = d['rawtime']\n",
    "    m = catchTime.search(t)\n",
    "    if m:\n",
    "        d['hour'] = int(m.group(2))\n",
    "        d['minute'] = int(m.group(3))\n",
    "        if d['minute'] >= 30:\n",
    "            d['time'] = (d['hour'] +1*0)%24\n",
    "        else:\n",
    "            d['time'] = d['hour']\n",
    "\n",
    "        d['timezone'] = int(m.group(4))\n",
    "        d['UTCtime'] = (d['time'] + d['timezone'])%24\n",
    "            \n",
    "    if d['UTCtime'] >= 22 or d['UTCtime'] <= 1:\n",
    "        time_feature.append(1)\n",
    "    else:\n",
    "        time_feature.append(0)\n",
    "        \n",
    "    if d['UTCtime'] >= 2 and d['UTCtime'] <= 7:\n",
    "        time_feature.append(1)\n",
    "    else:\n",
    "        time_feature.append(0)\n",
    "        \n",
    "    if d['UTCtime'] >= 8 and d['UTCtime'] <= 11:\n",
    "        time_feature.append(1)\n",
    "    else:\n",
    "        time_feature.append(0)\n",
    "    \n",
    "    if d['UTCtime'] >= 12 and d['UTCtime'] <= 17:\n",
    "        time_feature.append(1)\n",
    "    else:\n",
    "        time_feature.append(0)\n",
    "    \n",
    "    if d['timezone'] == -8:\n",
    "        time_feature.append(1)\n",
    "    else:\n",
    "        time_feature.append(0)\n",
    "    \n",
    "    if d['timezone'] == -7:\n",
    "        time_feature.append(1)\n",
    "    else:\n",
    "        time_feature.append(0)\n",
    "    \n",
    "    return time_feature"
   ]
  },
  {
   "cell_type": "code",
   "execution_count": 11,
   "metadata": {
    "collapsed": true
   },
   "outputs": [],
   "source": [
    "raw_time_list = []\n",
    "for d in data:\n",
    "    raw_time_list.append(get_time_feature(d))"
   ]
  },
  {
   "cell_type": "code",
   "execution_count": 6,
   "metadata": {
    "collapsed": true
   },
   "outputs": [],
   "source": [
    "# submission time feature\n",
    "def submission():\n",
    "    ID = '-1'\n",
    "    submission_list = []\n",
    "\n",
    "    # original data is sorted in image_ID, count submission times before current submission\n",
    "    for d in data:\n",
    "        if d['image_id'] == ID:\n",
    "            count = count + 1\n",
    "            d['submission_time'] = count\n",
    "        else:\n",
    "            count = 0\n",
    "            ID = d['image_id']\n",
    "            d['submission_time'] = count\n",
    "\n",
    "    for d in data:\n",
    "        submission_list.append(d['submission_time'])\n",
    "\n",
    "    return submission_list"
   ]
  },
  {
   "cell_type": "code",
   "execution_count": 7,
   "metadata": {
    "collapsed": true
   },
   "outputs": [],
   "source": [
    "# username feature\n",
    "def username():\n",
    "    with open('all_user_profile.json', 'r') as f:\n",
    "        all_user_profile = json.load(f)\n",
    "    #post_list = []\n",
    "    #user_votes_list = []\n",
    "    #user_votes_dict = {}\n",
    "    user_comment_list = []\n",
    "    user_comment_dict = {}\n",
    "    for user in all_user_profile:\n",
    "        #post_list.append(user.get('num_of_post'))\n",
    "        #user_votes_dict[user.get('username')] = user.get('avg_votes')\n",
    "        user_comment_dict[user.get('username')] = user.get('avg_comments')\n",
    "\n",
    "    for d in data:\n",
    "        if d['username']=='':\n",
    "            user_comment_list.append(d['number_of_comments'])\n",
    "        elif d['username'] in user_comment_dict:\n",
    "            user_comment_list.append(user_comment_dict[d['username']])\n",
    "        #if d['username'] in user_votes_dict:\n",
    "            #user_votes_list.append(user_votes_dict[d['username']])\n",
    "\n",
    "    return user_comment_list"
   ]
  },
  {
   "cell_type": "code",
   "execution_count": 8,
   "metadata": {
    "collapsed": true
   },
   "outputs": [],
   "source": [
    "#subreddit feature\n",
    "def subreddit():\n",
    "    with open('all_subreddit_profile.json', 'r') as f:\n",
    "        all_subreddit_profile = json.load(f)\n",
    "    #post_list = []\n",
    "    sub_comment_list = []\n",
    "    sub_comment_dict = {}\n",
    "    sub_votes_list = []\n",
    "    sub_votes_dict = {}\n",
    "    for sub in all_subreddit_profile:\n",
    "        # post_list.append(sub.get('num_of_post'))\n",
    "        #sub_votes_dict[sub.get('subreddit')] = sub.get('avg_votes')\n",
    "        sub_comment_dict[sub.get('subreddit')] = sub.get('avg_comments')\n",
    "\n",
    "    for d in data:\n",
    "        if d['subreddit']=='':\n",
    "            sub_comment_list.append(d['number_of_comments'])\n",
    "        elif d['subreddit'] in sub_comment_dict:\n",
    "            sub_comment_list.append(sub_comment_dict[d['subreddit']])\n",
    "        #if d['subreddit'] in sub_votes_dict:\n",
    "            #sub_votes_list.append(sub_votes_dict[d['subreddit']])\n",
    "\n",
    "    return sub_comment_list"
   ]
  },
  {
   "cell_type": "code",
   "execution_count": 67,
   "metadata": {
    "collapsed": true
   },
   "outputs": [],
   "source": [
    "with open('kmean_d.json', 'r') as f:\n",
    "        Kmeans_title = json.load(f)"
   ]
  },
  {
   "cell_type": "code",
   "execution_count": 70,
   "metadata": {
    "collapsed": true
   },
   "outputs": [],
   "source": [
    "with open('title_len_list.json', 'r') as f:\n",
    "        title_len_list = json.load(f)"
   ]
  },
  {
   "cell_type": "code",
   "execution_count": 73,
   "metadata": {},
   "outputs": [
    {
     "name": "stdout",
     "output_type": "stream",
     "text": [
      "feature[title_keyword,submission_time,username,subreddit]: [5, 0, 4, 0, 1, 0, 0, 0, 1]\n",
      "label[comment_number]: 1\n"
     ]
    }
   ],
   "source": [
    "submission_list = submission()\n",
    "\n",
    "comment_feature_list = []\n",
    "comment_label_list = []\n",
    "for i in range(len(data)):\n",
    "    large = 0\n",
    "    comment_feature_list.append([Kmeans_title[i],submission_list[i],title_len_list[i],raw_time_list[i][0],raw_time_list[i][1],raw_time_list[i][2],raw_time_list[i][3],raw_time_list[i][4],raw_time_list[i][5]])\n",
    "    if data[i]['number_of_comments'] > 15: large = 1\n",
    "    comment_label_list.append(large)\n",
    "\n",
    "print \"feature[title_keyword,submission_time,username,subreddit]:\",comment_feature_list[0]\n",
    "print \"label[comment_number]:\",comment_label_list[0]"
   ]
  },
  {
   "cell_type": "code",
   "execution_count": 74,
   "metadata": {},
   "outputs": [
    {
     "data": {
      "text/plain": [
       "[3, 11, 11, 0, 0, 1, 0, 0, 1]"
      ]
     },
     "execution_count": 74,
     "metadata": {},
     "output_type": "execute_result"
    }
   ],
   "source": [
    "comment_feature_list[11]"
   ]
  },
  {
   "cell_type": "code",
   "execution_count": 75,
   "metadata": {},
   "outputs": [
    {
     "data": {
      "text/plain": [
       "0"
      ]
     },
     "execution_count": 75,
     "metadata": {},
     "output_type": "execute_result"
    }
   ],
   "source": [
    "comment_label_list[11]"
   ]
  },
  {
   "cell_type": "code",
   "execution_count": 76,
   "metadata": {
    "collapsed": true
   },
   "outputs": [],
   "source": [
    "import os\n",
    "import time\n",
    "from sklearn import metrics\n",
    "import numpy as np\n",
    "import pickle\n",
    "\n",
    "import sys"
   ]
  },
  {
   "cell_type": "code",
   "execution_count": 77,
   "metadata": {},
   "outputs": [],
   "source": [
    "from sklearn.cross_validation import train_test_split\n",
    "from sklearn.neighbors import KNeighborsClassifier\n",
    "from sklearn import metrics"
   ]
  },
  {
   "cell_type": "code",
   "execution_count": 80,
   "metadata": {
    "collapsed": true
   },
   "outputs": [],
   "source": [
    "X_train, X_test, y_train, y_test = train_test_split(comment_feature_list, comment_label_list, random_state=4)"
   ]
  },
  {
   "cell_type": "code",
   "execution_count": 81,
   "metadata": {},
   "outputs": [
    {
     "data": {
      "text/plain": [
       "[[5, 5, 8, 0, 0, 0, 1, 0, 1],\n",
       " [5, 16, 7, 1, 0, 0, 0, 0, 1],\n",
       " [5, 1, 6, 0, 1, 0, 0, 0, 1],\n",
       " [5, 3, 8, 0, 1, 0, 0, 0, 1],\n",
       " [5, 0, 9, 0, 0, 1, 0, 0, 1],\n",
       " [5, 12, 3, 0, 0, 1, 0, 0, 0],\n",
       " [5, 4, 1, 1, 0, 0, 0, 0, 1],\n",
       " [5, 4, 2, 0, 0, 0, 0, 0, 0],\n",
       " [5, 3, 5, 0, 1, 0, 0, 0, 0],\n",
       " [9, 8, 8, 0, 0, 0, 1, 0, 1]]"
      ]
     },
     "execution_count": 81,
     "metadata": {},
     "output_type": "execute_result"
    }
   ],
   "source": [
    "X_train[0:10]"
   ]
  },
  {
   "cell_type": "code",
   "execution_count": 82,
   "metadata": {
    "collapsed": true
   },
   "outputs": [],
   "source": [
    "from sklearn import preprocessing\n",
    "scaler = preprocessing.StandardScaler()\n",
    "min_max_scaler = preprocessing.MinMaxScaler()\n",
    "X_train = scaler.fit_transform(X_train)\n",
    "X_test = scaler.transform(X_test)"
   ]
  },
  {
   "cell_type": "code",
   "execution_count": 83,
   "metadata": {},
   "outputs": [
    {
     "data": {
      "text/plain": [
       "99230"
      ]
     },
     "execution_count": 83,
     "metadata": {},
     "output_type": "execute_result"
    }
   ],
   "source": [
    "len(X_train)"
   ]
  },
  {
   "cell_type": "code",
   "execution_count": 84,
   "metadata": {},
   "outputs": [
    {
     "data": {
      "text/plain": [
       "33077"
      ]
     },
     "execution_count": 84,
     "metadata": {},
     "output_type": "execute_result"
    }
   ],
   "source": [
    "len(X_test)"
   ]
  },
  {
   "cell_type": "code",
   "execution_count": 85,
   "metadata": {},
   "outputs": [
    {
     "data": {
      "text/plain": [
       "array([[ 0.09891108, -0.25810155,  0.31366411, -0.45460294, -0.63410438,\n",
       "        -0.44275513,  1.72046876, -0.18079946,  0.71826926],\n",
       "       [ 0.09891108,  0.56022825,  0.09901414,  2.19972183, -0.63410438,\n",
       "        -0.44275513, -0.58123694, -0.18079946,  0.71826926],\n",
       "       [ 0.09891108, -0.55567602, -0.11563583, -0.45460294,  1.57702742,\n",
       "        -0.44275513, -0.58123694, -0.18079946,  0.71826926],\n",
       "       [ 0.09891108, -0.40688878,  0.31366411, -0.45460294,  1.57702742,\n",
       "        -0.44275513, -0.58123694, -0.18079946,  0.71826926],\n",
       "       [ 0.09891108, -0.63006963,  0.52831408, -0.45460294, -0.63410438,\n",
       "         2.25858476, -0.58123694, -0.18079946,  0.71826926],\n",
       "       [ 0.09891108,  0.26265378, -0.75958574, -0.45460294, -0.63410438,\n",
       "         2.25858476, -0.58123694, -0.18079946, -1.39223556],\n",
       "       [ 0.09891108, -0.33249516, -1.18888568,  2.19972183, -0.63410438,\n",
       "        -0.44275513, -0.58123694, -0.18079946,  0.71826926],\n",
       "       [ 0.09891108, -0.33249516, -0.97423571, -0.45460294, -0.63410438,\n",
       "        -0.44275513, -0.58123694, -0.18079946, -1.39223556],\n",
       "       [ 0.09891108, -0.40688878, -0.3302858 , -0.45460294,  1.57702742,\n",
       "        -0.44275513, -0.58123694, -0.18079946, -1.39223556],\n",
       "       [ 2.68400277, -0.03492069,  0.31366411, -0.45460294, -0.63410438,\n",
       "        -0.44275513,  1.72046876, -0.18079946,  0.71826926]])"
      ]
     },
     "execution_count": 85,
     "metadata": {},
     "output_type": "execute_result"
    }
   ],
   "source": [
    "X_train[0:10]"
   ]
  },
  {
   "cell_type": "markdown",
   "metadata": {},
   "source": [
    "## KNN Classifier"
   ]
  },
  {
   "cell_type": "code",
   "execution_count": 86,
   "metadata": {},
   "outputs": [
    {
     "name": "stdout",
     "output_type": "stream",
     "text": [
      "0.726789007467\n"
     ]
    }
   ],
   "source": [
    "# check classification accuracy of KNN with K=5\n",
    "knn = KNeighborsClassifier(n_neighbors=5)\n",
    "knn.fit(X_train, y_train)\n",
    "y_pred = knn.predict(X_test)\n",
    "print(metrics.accuracy_score(y_test, y_pred))"
   ]
  },
  {
   "cell_type": "code",
   "execution_count": 87,
   "metadata": {},
   "outputs": [
    {
     "data": {
      "text/plain": [
       "array([0, 0, 0, 0, 0, 0, 0, 0, 0, 0, 0, 0, 1, 0, 0, 0, 0, 0, 1, 0, 1, 0, 1,\n",
       "       0, 0, 0, 0, 0, 0, 1, 0, 0, 0, 0, 0, 0, 0, 0, 0, 0, 0, 0, 1, 0, 1, 0,\n",
       "       0, 0, 0, 0, 0, 1, 0, 0, 0, 0, 0, 0, 0, 0, 0, 0, 0, 0, 0, 0, 0, 0, 0,\n",
       "       0, 0, 0, 0, 0, 0, 0, 1, 0, 0, 0, 0, 0, 0, 0, 0, 0, 1, 0, 0, 1, 0, 0,\n",
       "       0, 0, 0, 1, 0, 0, 0, 0])"
      ]
     },
     "execution_count": 87,
     "metadata": {},
     "output_type": "execute_result"
    }
   ],
   "source": [
    "y_pred[0:100]"
   ]
  },
  {
   "cell_type": "code",
   "execution_count": 27,
   "metadata": {},
   "outputs": [
    {
     "name": "stdout",
     "output_type": "stream",
     "text": [
      "[ 0.85115388  0.8523632   0.84641741  0.84621586  0.8477275   0.85065001\n",
      "  0.84661897  0.84359569  0.85155699  0.85367328]\n"
     ]
    }
   ],
   "source": [
    "from sklearn.cross_validation import cross_val_score\n",
    "knn = KNeighborsClassifier(n_neighbors=5)\n",
    "scores = cross_val_score(knn, X_train, y_train, cv=10, scoring='accuracy')\n",
    "print(scores)"
   ]
  },
  {
   "cell_type": "code",
   "execution_count": 28,
   "metadata": {},
   "outputs": [
    {
     "name": "stdout",
     "output_type": "stream",
     "text": [
      "[0.8251234505693843, 0.82376297490678208, 0.84402902348080211, 0.83804293056535317, 0.84899727904867484, 0.84387785951829086, 0.85101279854882583, 0.84676005240350705, 0.85132520407134948, 0.84796936410359769, 0.85166784238637516, 0.84812052806610905, 0.85189962712889256, 0.8494507709362088, 0.85213141187140984, 0.84973294366622998, 0.8520608686889044, 0.84995465081124666, 0.85188954953139162, 0.85028721152877151, 0.8516879975813767, 0.85031744432127387, 0.85135543686385162, 0.84982364204373684, 0.85105310893882913, 0.84985387483623887, 0.85075078101380641, 0.84961201249622087, 0.85047868588128583, 0.84869495112365212]\n"
     ]
    }
   ],
   "source": [
    "# search for an optimal value of K for KNN\n",
    "k_range = list(range(1, 31))\n",
    "k_scores = []\n",
    "for k in k_range:\n",
    "    knn = KNeighborsClassifier(n_neighbors=k)\n",
    "    scores = cross_val_score(knn, X_train, y_train, cv=10, scoring='accuracy')\n",
    "    k_scores.append(scores.mean())\n",
    "print(k_scores)"
   ]
  },
  {
   "cell_type": "code",
   "execution_count": 30,
   "metadata": {},
   "outputs": [
    {
     "data": {
      "image/png": "[encoded data removed]",
      "text/plain": [
       "<matplotlib.figure.Figure at 0x1a143b2d90>"
      ]
     },
     "metadata": {},
     "output_type": "display_data"
    }
   ],
   "source": [
    "import matplotlib.pyplot as plt\n",
    "%matplotlib inline\n",
    "# plot the value of K for KNN (x-axis) versus the cross-validated accuracy (y-axis)\n",
    "plt.plot(k_range, k_scores)\n",
    "plt.xlabel('Value of K for KNN')\n",
    "plt.ylabel('Cross-Validated Accuracy')\n",
    "plt.show()"
   ]
  },
  {
   "cell_type": "code",
   "execution_count": 31,
   "metadata": {},
   "outputs": [
    {
     "name": "stdout",
     "output_type": "stream",
     "text": [
      "0.852131411871\n"
     ]
    }
   ],
   "source": [
    "# The optimal value of K is 15\n",
    "knn = KNeighborsClassifier(n_neighbors=15)\n",
    "knn_scores = cross_val_score(knn, X_train, y_train, cv=10, scoring='accuracy')\n",
    "print(knn_scores.mean())"
   ]
  },
  {
   "cell_type": "markdown",
   "metadata": {},
   "source": [
    "## Multinomial Naive Bayes Classifier"
   ]
  },
  {
   "cell_type": "code",
   "execution_count": 89,
   "metadata": {},
   "outputs": [
    {
     "name": "stdout",
     "output_type": "stream",
     "text": [
      "0.678847122846\n"
     ]
    }
   ],
   "source": [
    "# Multinomial Naive Bayes Classifier\n",
    "from sklearn.naive_bayes import GaussianNB\n",
    "NB = GaussianNB()\n",
    "NB_scores = cross_val_score(NB, X_train, y_train, cv=10, scoring='accuracy')\n",
    "print(NB_scores.mean())"
   ]
  },
  {
   "cell_type": "markdown",
   "metadata": {},
   "source": [
    "## Logistic Regression Classifier"
   ]
  },
  {
   "cell_type": "code",
   "execution_count": 88,
   "metadata": {},
   "outputs": [
    {
     "name": "stdout",
     "output_type": "stream",
     "text": [
      "0.576176559508\n"
     ]
    }
   ],
   "source": [
    "# Logistic Regression Classifier\n",
    "from sklearn.linear_model import LogisticRegression\n",
    "LR = LogisticRegression(penalty='l2', class_weight = 'balanced') # balanced：让类库自己计算类型权重\n",
    "LR_scores = cross_val_score(LR, X_train, y_train, cv=10, scoring='accuracy')\n",
    "print(LR_scores.mean())"
   ]
  },
  {
   "cell_type": "code",
   "execution_count": 34,
   "metadata": {},
   "outputs": [
    {
     "name": "stdout",
     "output_type": "stream",
     "text": [
      "[0.85219187745641434, 0.8520507910914038, 0.85195001511639634, 0.85195001511639634, 0.85195001511639634, 0.85195001511639634]\n"
     ]
    }
   ],
   "source": [
    "# search for an optimal value of C for LR\n",
    "C_range = [0.01,0.1,1.0,10.0,100.0,1000.0]\n",
    "C_scores = []\n",
    "for c in C_range:\n",
    "    LR = LogisticRegression(C = c, penalty='l2', class_weight = 'balanced')\n",
    "    scores = cross_val_score(LR, X_train, y_train, cv=10, scoring='accuracy')\n",
    "    C_scores.append(scores.mean())\n",
    "print(C_scores)"
   ]
  },
  {
   "cell_type": "code",
   "execution_count": 35,
   "metadata": {},
   "outputs": [
    {
     "name": "stdout",
     "output_type": "stream",
     "text": [
      "0.852191877456\n"
     ]
    }
   ],
   "source": [
    "# The optimal value of C is 0.01\n",
    "LR = LogisticRegression(C = 0.01, penalty='l2', class_weight = 'balanced') # balanced：让类库自己计算类型权重\n",
    "LR_scores = cross_val_score(LR, X_train, y_train, cv=10, scoring='accuracy')\n",
    "print(LR_scores.mean())"
   ]
  },
  {
   "cell_type": "markdown",
   "metadata": {},
   "source": [
    "## test set"
   ]
  },
  {
   "cell_type": "code",
   "execution_count": 94,
   "metadata": {},
   "outputs": [
    {
     "name": "stdout",
     "output_type": "stream",
     "text": [
      "precision: 33.01%, recall: 71.75%\n",
      "accuracy: 57.54%\n",
      "[[-0.0229571  -0.63441468  0.06104329  0.07363628 -0.00682139 -0.01157549\n",
      "  -0.02113963  0.03486983  0.32093576]]\n",
      "[1 0 1 1 0 0 1 1 1 0 1 0 1 1 1 0 0 1 1 1 1 1 1 0 1 0 0 1 0 0 1 0 0 1 0 0 0\n",
      " 0 1 1 0 1 1 1 1 0 1 1 0 1 1 1 0 0 0 1 1 0 0 0 0 0 0 0 0 1 1 1 0 0 0 1 1 0\n",
      " 0 0 1 1 1 0 1 0 0 1 0 0 1 1 0 1 1 1 1 1 1 0 1 1 0 0]\n"
     ]
    }
   ],
   "source": [
    "LR.fit(X_train,y_train)\n",
    "theta = LR.coef_\n",
    "predict = LR.predict(X_test)\n",
    "precision = metrics.precision_score(y_test, predict)\n",
    "recall = metrics.recall_score(y_test, predict)\n",
    "print ('precision: %.2f%%, recall: %.2f%%' % (100 * precision, 100 * recall))\n",
    "accuracy = metrics.accuracy_score(y_test, predict)\n",
    "print ('accuracy: %.2f%%' % (100 * accuracy) )\n",
    "print(theta)\n",
    "print predict[0:100]"
   ]
  },
  {
   "cell_type": "markdown",
   "metadata": {},
   "source": [
    "## Random Forest Classifier\n",
    "特征很少，用随机森林应该效果不明显"
   ]
  },
  {
   "cell_type": "code",
   "execution_count": 37,
   "metadata": {},
   "outputs": [
    {
     "name": "stdout",
     "output_type": "stream",
     "text": [
      "[ 0.8653633   0.86173536  0.86425476  0.86153381  0.86294467  0.86334778\n",
      "  0.8653633   0.85941751  0.86768114  0.86717726]\n"
     ]
    }
   ],
   "source": [
    "from sklearn.ensemble import RandomForestClassifier\n",
    "RF = RandomForestClassifier(n_estimators=100,class_weight = 'balanced')\n",
    "RF_scores = cross_val_score(RF, X_train, y_train, cv=10, scoring='accuracy')\n",
    "print(RF_scores)"
   ]
  },
  {
   "cell_type": "code",
   "execution_count": 38,
   "metadata": {},
   "outputs": [
    {
     "name": "stdout",
     "output_type": "stream",
     "text": [
      "0.863881890557\n"
     ]
    }
   ],
   "source": [
    "print(RF_scores.mean()) # 居然不错"
   ]
  },
  {
   "cell_type": "markdown",
   "metadata": {},
   "source": [
    "## Decision Tree Classifier"
   ]
  },
  {
   "cell_type": "code",
   "execution_count": 44,
   "metadata": {},
   "outputs": [
    {
     "name": "stdout",
     "output_type": "stream",
     "text": [
      "0.855930666129\n"
     ]
    }
   ],
   "source": [
    "from sklearn import tree\n",
    "# max_depth = 4, 限制树的最大深度4,其实特征少的时候不用限制这个深度，但不知道为什么这里限制了之后准确率提高\n",
    "DT = tree.DecisionTreeClassifier(class_weight = 'balanced',max_depth = 4) \n",
    "DT_scores = cross_val_score(DT, X_train, y_train, cv=10, scoring='accuracy')\n",
    "print(DT_scores.mean())"
   ]
  },
  {
   "cell_type": "markdown",
   "metadata": {},
   "source": [
    "## AB(AdaBoost) Classifier\n",
    "未调参，根据经验选择的参数"
   ]
  },
  {
   "cell_type": "code",
   "execution_count": 45,
   "metadata": {},
   "outputs": [
    {
     "name": "stdout",
     "output_type": "stream",
     "text": [
      "[ 0.87322382  0.87090598  0.87009977  0.86677416  0.86969666  0.87352615\n",
      "  0.86566563  0.86919278  0.87090598  0.87161141]\n"
     ]
    }
   ],
   "source": [
    "from sklearn.ensemble import AdaBoostClassifier\n",
    "# 一般来说n_estimators太小，容易欠拟合，n_estimators太大，又容易过拟合，一般选择一个适中的数值。默认是50\n",
    "#对于同样的训练集拟合效果，较小的νν意味着我们需要更多的弱学习器的迭代次数。通常我们用步长和迭代最大次数一起来决定算法的拟合效果。\n",
    "#所以这两个参数n_estimators和learning_rate要一起调参。一般来说，可以从一个小一点的νν开始调参，默认是1\n",
    "Ada= AdaBoostClassifier(n_estimators=200,learning_rate=0.8)\n",
    "Ada_scores = cross_val_score(Ada, X_train, y_train, cv=10, scoring='accuracy')\n",
    "print(Ada_scores)"
   ]
  },
  {
   "cell_type": "code",
   "execution_count": 46,
   "metadata": {},
   "outputs": [
    {
     "name": "stdout",
     "output_type": "stream",
     "text": [
      "0.8701602338\n"
     ]
    }
   ],
   "source": [
    "print(Ada_scores.mean())"
   ]
  },
  {
   "cell_type": "markdown",
   "metadata": {},
   "source": [
    "## SVM\n",
    "未调参，根据经验选择的参数"
   ]
  },
  {
   "cell_type": "code",
   "execution_count": 47,
   "metadata": {},
   "outputs": [
    {
     "ename": "KeyboardInterrupt",
     "evalue": "",
     "output_type": "error",
     "traceback": [
      "\u001b[0;31m---------------------------------------------------------------------------\u001b[0m",
      "\u001b[0;31mKeyboardInterrupt\u001b[0m                         Traceback (most recent call last)",
      "\u001b[0;32m<ipython-input-47-2ea28c9f4f58>\u001b[0m in \u001b[0;36m<module>\u001b[0;34m()\u001b[0m\n\u001b[1;32m      1\u001b[0m \u001b[0;32mfrom\u001b[0m \u001b[0msklearn\u001b[0m\u001b[0;34m.\u001b[0m\u001b[0msvm\u001b[0m \u001b[0;32mimport\u001b[0m \u001b[0mSVC\u001b[0m\u001b[0;34m\u001b[0m\u001b[0m\n\u001b[1;32m      2\u001b[0m \u001b[0msvm\u001b[0m \u001b[0;34m=\u001b[0m \u001b[0mSVC\u001b[0m\u001b[0;34m(\u001b[0m\u001b[0mkernel\u001b[0m\u001b[0;34m=\u001b[0m\u001b[0;34m'rbf'\u001b[0m\u001b[0;34m,\u001b[0m \u001b[0mC\u001b[0m\u001b[0;34m=\u001b[0m\u001b[0;36m0.1\u001b[0m\u001b[0;34m,\u001b[0m \u001b[0mgamma\u001b[0m\u001b[0;34m=\u001b[0m\u001b[0;36m1\u001b[0m\u001b[0;34m,\u001b[0m \u001b[0mprobability\u001b[0m\u001b[0;34m=\u001b[0m\u001b[0mTrue\u001b[0m\u001b[0;34m)\u001b[0m\u001b[0;34m\u001b[0m\u001b[0m\n\u001b[0;32m----> 3\u001b[0;31m \u001b[0msvm_scores\u001b[0m \u001b[0;34m=\u001b[0m \u001b[0mcross_val_score\u001b[0m\u001b[0;34m(\u001b[0m\u001b[0msvm\u001b[0m\u001b[0;34m,\u001b[0m \u001b[0mX_train\u001b[0m\u001b[0;34m,\u001b[0m \u001b[0my_train\u001b[0m\u001b[0;34m,\u001b[0m \u001b[0mcv\u001b[0m\u001b[0;34m=\u001b[0m\u001b[0;36m3\u001b[0m\u001b[0;34m,\u001b[0m \u001b[0mscoring\u001b[0m\u001b[0;34m=\u001b[0m\u001b[0;34m'accuracy'\u001b[0m\u001b[0;34m)\u001b[0m\u001b[0;34m\u001b[0m\u001b[0m\n\u001b[0m\u001b[1;32m      4\u001b[0m \u001b[0;32mprint\u001b[0m\u001b[0;34m(\u001b[0m\u001b[0mDT_scores\u001b[0m\u001b[0;34m)\u001b[0m\u001b[0;34m\u001b[0m\u001b[0m\n",
      "\u001b[0;32m/anaconda2/lib/python2.7/site-packages/sklearn/cross_validation.pyc\u001b[0m in \u001b[0;36mcross_val_score\u001b[0;34m(estimator, X, y, scoring, cv, n_jobs, verbose, fit_params, pre_dispatch)\u001b[0m\n\u001b[1;32m   1579\u001b[0m                                               \u001b[0mtrain\u001b[0m\u001b[0;34m,\u001b[0m \u001b[0mtest\u001b[0m\u001b[0;34m,\u001b[0m \u001b[0mverbose\u001b[0m\u001b[0;34m,\u001b[0m \u001b[0mNone\u001b[0m\u001b[0;34m,\u001b[0m\u001b[0;34m\u001b[0m\u001b[0m\n\u001b[1;32m   1580\u001b[0m                                               fit_params)\n\u001b[0;32m-> 1581\u001b[0;31m                       for train, test in cv)\n\u001b[0m\u001b[1;32m   1582\u001b[0m     \u001b[0;32mreturn\u001b[0m \u001b[0mnp\u001b[0m\u001b[0;34m.\u001b[0m\u001b[0marray\u001b[0m\u001b[0;34m(\u001b[0m\u001b[0mscores\u001b[0m\u001b[0;34m)\u001b[0m\u001b[0;34m[\u001b[0m\u001b[0;34m:\u001b[0m\u001b[0;34m,\u001b[0m \u001b[0;36m0\u001b[0m\u001b[0;34m]\u001b[0m\u001b[0;34m\u001b[0m\u001b[0m\n\u001b[1;32m   1583\u001b[0m \u001b[0;34m\u001b[0m\u001b[0m\n",
      "\u001b[0;32m/anaconda2/lib/python2.7/site-packages/sklearn/externals/joblib/parallel.pyc\u001b[0m in \u001b[0;36m__call__\u001b[0;34m(self, iterable)\u001b[0m\n\u001b[1;32m    777\u001b[0m             \u001b[0;31m# was dispatched. In particular this covers the edge\u001b[0m\u001b[0;34m\u001b[0m\u001b[0;34m\u001b[0m\u001b[0m\n\u001b[1;32m    778\u001b[0m             \u001b[0;31m# case of Parallel used with an exhausted iterator.\u001b[0m\u001b[0;34m\u001b[0m\u001b[0;34m\u001b[0m\u001b[0m\n\u001b[0;32m--> 779\u001b[0;31m             \u001b[0;32mwhile\u001b[0m \u001b[0mself\u001b[0m\u001b[0;34m.\u001b[0m\u001b[0mdispatch_one_batch\u001b[0m\u001b[0;34m(\u001b[0m\u001b[0miterator\u001b[0m\u001b[0;34m)\u001b[0m\u001b[0;34m:\u001b[0m\u001b[0;34m\u001b[0m\u001b[0m\n\u001b[0m\u001b[1;32m    780\u001b[0m                 \u001b[0mself\u001b[0m\u001b[0;34m.\u001b[0m\u001b[0m_iterating\u001b[0m \u001b[0;34m=\u001b[0m \u001b[0mTrue\u001b[0m\u001b[0;34m\u001b[0m\u001b[0m\n\u001b[1;32m    781\u001b[0m             \u001b[0;32melse\u001b[0m\u001b[0;34m:\u001b[0m\u001b[0;34m\u001b[0m\u001b[0m\n",
      "\u001b[0;32m/anaconda2/lib/python2.7/site-packages/sklearn/externals/joblib/parallel.pyc\u001b[0m in \u001b[0;36mdispatch_one_batch\u001b[0;34m(self, iterator)\u001b[0m\n\u001b[1;32m    623\u001b[0m                 \u001b[0;32mreturn\u001b[0m \u001b[0mFalse\u001b[0m\u001b[0;34m\u001b[0m\u001b[0m\n\u001b[1;32m    624\u001b[0m             \u001b[0;32melse\u001b[0m\u001b[0;34m:\u001b[0m\u001b[0;34m\u001b[0m\u001b[0m\n\u001b[0;32m--> 625\u001b[0;31m                 \u001b[0mself\u001b[0m\u001b[0;34m.\u001b[0m\u001b[0m_dispatch\u001b[0m\u001b[0;34m(\u001b[0m\u001b[0mtasks\u001b[0m\u001b[0;34m)\u001b[0m\u001b[0;34m\u001b[0m\u001b[0m\n\u001b[0m\u001b[1;32m    626\u001b[0m                 \u001b[0;32mreturn\u001b[0m \u001b[0mTrue\u001b[0m\u001b[0;34m\u001b[0m\u001b[0m\n\u001b[1;32m    627\u001b[0m \u001b[0;34m\u001b[0m\u001b[0m\n",
      "\u001b[0;32m/anaconda2/lib/python2.7/site-packages/sklearn/externals/joblib/parallel.pyc\u001b[0m in \u001b[0;36m_dispatch\u001b[0;34m(self, batch)\u001b[0m\n\u001b[1;32m    586\u001b[0m         \u001b[0mdispatch_timestamp\u001b[0m \u001b[0;34m=\u001b[0m \u001b[0mtime\u001b[0m\u001b[0;34m.\u001b[0m\u001b[0mtime\u001b[0m\u001b[0;34m(\u001b[0m\u001b[0;34m)\u001b[0m\u001b[0;34m\u001b[0m\u001b[0m\n\u001b[1;32m    587\u001b[0m         \u001b[0mcb\u001b[0m \u001b[0;34m=\u001b[0m \u001b[0mBatchCompletionCallBack\u001b[0m\u001b[0;34m(\u001b[0m\u001b[0mdispatch_timestamp\u001b[0m\u001b[0;34m,\u001b[0m \u001b[0mlen\u001b[0m\u001b[0;34m(\u001b[0m\u001b[0mbatch\u001b[0m\u001b[0;34m)\u001b[0m\u001b[0;34m,\u001b[0m \u001b[0mself\u001b[0m\u001b[0;34m)\u001b[0m\u001b[0;34m\u001b[0m\u001b[0m\n\u001b[0;32m--> 588\u001b[0;31m         \u001b[0mjob\u001b[0m \u001b[0;34m=\u001b[0m \u001b[0mself\u001b[0m\u001b[0;34m.\u001b[0m\u001b[0m_backend\u001b[0m\u001b[0;34m.\u001b[0m\u001b[0mapply_async\u001b[0m\u001b[0;34m(\u001b[0m\u001b[0mbatch\u001b[0m\u001b[0;34m,\u001b[0m \u001b[0mcallback\u001b[0m\u001b[0;34m=\u001b[0m\u001b[0mcb\u001b[0m\u001b[0;34m)\u001b[0m\u001b[0;34m\u001b[0m\u001b[0m\n\u001b[0m\u001b[1;32m    589\u001b[0m         \u001b[0mself\u001b[0m\u001b[0;34m.\u001b[0m\u001b[0m_jobs\u001b[0m\u001b[0;34m.\u001b[0m\u001b[0mappend\u001b[0m\u001b[0;34m(\u001b[0m\u001b[0mjob\u001b[0m\u001b[0;34m)\u001b[0m\u001b[0;34m\u001b[0m\u001b[0m\n\u001b[1;32m    590\u001b[0m \u001b[0;34m\u001b[0m\u001b[0m\n",
      "\u001b[0;32m/anaconda2/lib/python2.7/site-packages/sklearn/externals/joblib/_parallel_backends.pyc\u001b[0m in \u001b[0;36mapply_async\u001b[0;34m(self, func, callback)\u001b[0m\n\u001b[1;32m    109\u001b[0m     \u001b[0;32mdef\u001b[0m \u001b[0mapply_async\u001b[0m\u001b[0;34m(\u001b[0m\u001b[0mself\u001b[0m\u001b[0;34m,\u001b[0m \u001b[0mfunc\u001b[0m\u001b[0;34m,\u001b[0m \u001b[0mcallback\u001b[0m\u001b[0;34m=\u001b[0m\u001b[0mNone\u001b[0m\u001b[0;34m)\u001b[0m\u001b[0;34m:\u001b[0m\u001b[0;34m\u001b[0m\u001b[0m\n\u001b[1;32m    110\u001b[0m         \u001b[0;34m\"\"\"Schedule a func to be run\"\"\"\u001b[0m\u001b[0;34m\u001b[0m\u001b[0m\n\u001b[0;32m--> 111\u001b[0;31m         \u001b[0mresult\u001b[0m \u001b[0;34m=\u001b[0m \u001b[0mImmediateResult\u001b[0m\u001b[0;34m(\u001b[0m\u001b[0mfunc\u001b[0m\u001b[0;34m)\u001b[0m\u001b[0;34m\u001b[0m\u001b[0m\n\u001b[0m\u001b[1;32m    112\u001b[0m         \u001b[0;32mif\u001b[0m \u001b[0mcallback\u001b[0m\u001b[0;34m:\u001b[0m\u001b[0;34m\u001b[0m\u001b[0m\n\u001b[1;32m    113\u001b[0m             \u001b[0mcallback\u001b[0m\u001b[0;34m(\u001b[0m\u001b[0mresult\u001b[0m\u001b[0;34m)\u001b[0m\u001b[0;34m\u001b[0m\u001b[0m\n",
      "\u001b[0;32m/anaconda2/lib/python2.7/site-packages/sklearn/externals/joblib/_parallel_backends.pyc\u001b[0m in \u001b[0;36m__init__\u001b[0;34m(self, batch)\u001b[0m\n\u001b[1;32m    330\u001b[0m         \u001b[0;31m# Don't delay the application, to avoid keeping the input\u001b[0m\u001b[0;34m\u001b[0m\u001b[0;34m\u001b[0m\u001b[0m\n\u001b[1;32m    331\u001b[0m         \u001b[0;31m# arguments in memory\u001b[0m\u001b[0;34m\u001b[0m\u001b[0;34m\u001b[0m\u001b[0m\n\u001b[0;32m--> 332\u001b[0;31m         \u001b[0mself\u001b[0m\u001b[0;34m.\u001b[0m\u001b[0mresults\u001b[0m \u001b[0;34m=\u001b[0m \u001b[0mbatch\u001b[0m\u001b[0;34m(\u001b[0m\u001b[0;34m)\u001b[0m\u001b[0;34m\u001b[0m\u001b[0m\n\u001b[0m\u001b[1;32m    333\u001b[0m \u001b[0;34m\u001b[0m\u001b[0m\n\u001b[1;32m    334\u001b[0m     \u001b[0;32mdef\u001b[0m \u001b[0mget\u001b[0m\u001b[0;34m(\u001b[0m\u001b[0mself\u001b[0m\u001b[0;34m)\u001b[0m\u001b[0;34m:\u001b[0m\u001b[0;34m\u001b[0m\u001b[0m\n",
      "\u001b[0;32m/anaconda2/lib/python2.7/site-packages/sklearn/externals/joblib/parallel.pyc\u001b[0m in \u001b[0;36m__call__\u001b[0;34m(self)\u001b[0m\n\u001b[1;32m    129\u001b[0m \u001b[0;34m\u001b[0m\u001b[0m\n\u001b[1;32m    130\u001b[0m     \u001b[0;32mdef\u001b[0m \u001b[0m__call__\u001b[0m\u001b[0;34m(\u001b[0m\u001b[0mself\u001b[0m\u001b[0;34m)\u001b[0m\u001b[0;34m:\u001b[0m\u001b[0;34m\u001b[0m\u001b[0m\n\u001b[0;32m--> 131\u001b[0;31m         \u001b[0;32mreturn\u001b[0m \u001b[0;34m[\u001b[0m\u001b[0mfunc\u001b[0m\u001b[0;34m(\u001b[0m\u001b[0;34m*\u001b[0m\u001b[0margs\u001b[0m\u001b[0;34m,\u001b[0m \u001b[0;34m**\u001b[0m\u001b[0mkwargs\u001b[0m\u001b[0;34m)\u001b[0m \u001b[0;32mfor\u001b[0m \u001b[0mfunc\u001b[0m\u001b[0;34m,\u001b[0m \u001b[0margs\u001b[0m\u001b[0;34m,\u001b[0m \u001b[0mkwargs\u001b[0m \u001b[0;32min\u001b[0m \u001b[0mself\u001b[0m\u001b[0;34m.\u001b[0m\u001b[0mitems\u001b[0m\u001b[0;34m]\u001b[0m\u001b[0;34m\u001b[0m\u001b[0m\n\u001b[0m\u001b[1;32m    132\u001b[0m \u001b[0;34m\u001b[0m\u001b[0m\n\u001b[1;32m    133\u001b[0m     \u001b[0;32mdef\u001b[0m \u001b[0m__len__\u001b[0m\u001b[0;34m(\u001b[0m\u001b[0mself\u001b[0m\u001b[0;34m)\u001b[0m\u001b[0;34m:\u001b[0m\u001b[0;34m\u001b[0m\u001b[0m\n",
      "\u001b[0;32m/anaconda2/lib/python2.7/site-packages/sklearn/cross_validation.pyc\u001b[0m in \u001b[0;36m_fit_and_score\u001b[0;34m(estimator, X, y, scorer, train, test, verbose, parameters, fit_params, return_train_score, return_parameters, error_score)\u001b[0m\n\u001b[1;32m   1673\u001b[0m             \u001b[0mestimator\u001b[0m\u001b[0;34m.\u001b[0m\u001b[0mfit\u001b[0m\u001b[0;34m(\u001b[0m\u001b[0mX_train\u001b[0m\u001b[0;34m,\u001b[0m \u001b[0;34m**\u001b[0m\u001b[0mfit_params\u001b[0m\u001b[0;34m)\u001b[0m\u001b[0;34m\u001b[0m\u001b[0m\n\u001b[1;32m   1674\u001b[0m         \u001b[0;32melse\u001b[0m\u001b[0;34m:\u001b[0m\u001b[0;34m\u001b[0m\u001b[0m\n\u001b[0;32m-> 1675\u001b[0;31m             \u001b[0mestimator\u001b[0m\u001b[0;34m.\u001b[0m\u001b[0mfit\u001b[0m\u001b[0;34m(\u001b[0m\u001b[0mX_train\u001b[0m\u001b[0;34m,\u001b[0m \u001b[0my_train\u001b[0m\u001b[0;34m,\u001b[0m \u001b[0;34m**\u001b[0m\u001b[0mfit_params\u001b[0m\u001b[0;34m)\u001b[0m\u001b[0;34m\u001b[0m\u001b[0m\n\u001b[0m\u001b[1;32m   1676\u001b[0m \u001b[0;34m\u001b[0m\u001b[0m\n\u001b[1;32m   1677\u001b[0m     \u001b[0;32mexcept\u001b[0m \u001b[0mException\u001b[0m \u001b[0;32mas\u001b[0m \u001b[0me\u001b[0m\u001b[0;34m:\u001b[0m\u001b[0;34m\u001b[0m\u001b[0m\n",
      "\u001b[0;32m/anaconda2/lib/python2.7/site-packages/sklearn/svm/base.pyc\u001b[0m in \u001b[0;36mfit\u001b[0;34m(self, X, y, sample_weight)\u001b[0m\n\u001b[1;32m    185\u001b[0m \u001b[0;34m\u001b[0m\u001b[0m\n\u001b[1;32m    186\u001b[0m         \u001b[0mseed\u001b[0m \u001b[0;34m=\u001b[0m \u001b[0mrnd\u001b[0m\u001b[0;34m.\u001b[0m\u001b[0mrandint\u001b[0m\u001b[0;34m(\u001b[0m\u001b[0mnp\u001b[0m\u001b[0;34m.\u001b[0m\u001b[0miinfo\u001b[0m\u001b[0;34m(\u001b[0m\u001b[0;34m'i'\u001b[0m\u001b[0;34m)\u001b[0m\u001b[0;34m.\u001b[0m\u001b[0mmax\u001b[0m\u001b[0;34m)\u001b[0m\u001b[0;34m\u001b[0m\u001b[0m\n\u001b[0;32m--> 187\u001b[0;31m         \u001b[0mfit\u001b[0m\u001b[0;34m(\u001b[0m\u001b[0mX\u001b[0m\u001b[0;34m,\u001b[0m \u001b[0my\u001b[0m\u001b[0;34m,\u001b[0m \u001b[0msample_weight\u001b[0m\u001b[0;34m,\u001b[0m \u001b[0msolver_type\u001b[0m\u001b[0;34m,\u001b[0m \u001b[0mkernel\u001b[0m\u001b[0;34m,\u001b[0m \u001b[0mrandom_seed\u001b[0m\u001b[0;34m=\u001b[0m\u001b[0mseed\u001b[0m\u001b[0;34m)\u001b[0m\u001b[0;34m\u001b[0m\u001b[0m\n\u001b[0m\u001b[1;32m    188\u001b[0m         \u001b[0;31m# see comment on the other call to np.iinfo in this file\u001b[0m\u001b[0;34m\u001b[0m\u001b[0;34m\u001b[0m\u001b[0m\n\u001b[1;32m    189\u001b[0m \u001b[0;34m\u001b[0m\u001b[0m\n",
      "\u001b[0;32m/anaconda2/lib/python2.7/site-packages/sklearn/svm/base.pyc\u001b[0m in \u001b[0;36m_dense_fit\u001b[0;34m(self, X, y, sample_weight, solver_type, kernel, random_seed)\u001b[0m\n\u001b[1;32m    252\u001b[0m                 \u001b[0mcache_size\u001b[0m\u001b[0;34m=\u001b[0m\u001b[0mself\u001b[0m\u001b[0;34m.\u001b[0m\u001b[0mcache_size\u001b[0m\u001b[0;34m,\u001b[0m \u001b[0mcoef0\u001b[0m\u001b[0;34m=\u001b[0m\u001b[0mself\u001b[0m\u001b[0;34m.\u001b[0m\u001b[0mcoef0\u001b[0m\u001b[0;34m,\u001b[0m\u001b[0;34m\u001b[0m\u001b[0m\n\u001b[1;32m    253\u001b[0m                 \u001b[0mgamma\u001b[0m\u001b[0;34m=\u001b[0m\u001b[0mself\u001b[0m\u001b[0;34m.\u001b[0m\u001b[0m_gamma\u001b[0m\u001b[0;34m,\u001b[0m \u001b[0mepsilon\u001b[0m\u001b[0;34m=\u001b[0m\u001b[0mself\u001b[0m\u001b[0;34m.\u001b[0m\u001b[0mepsilon\u001b[0m\u001b[0;34m,\u001b[0m\u001b[0;34m\u001b[0m\u001b[0m\n\u001b[0;32m--> 254\u001b[0;31m                 max_iter=self.max_iter, random_seed=random_seed)\n\u001b[0m\u001b[1;32m    255\u001b[0m \u001b[0;34m\u001b[0m\u001b[0m\n\u001b[1;32m    256\u001b[0m         \u001b[0mself\u001b[0m\u001b[0;34m.\u001b[0m\u001b[0m_warn_from_fit_status\u001b[0m\u001b[0;34m(\u001b[0m\u001b[0;34m)\u001b[0m\u001b[0;34m\u001b[0m\u001b[0m\n",
      "\u001b[0;31mKeyboardInterrupt\u001b[0m: "
     ]
    }
   ],
   "source": [
    "from sklearn.svm import SVC\n",
    "svm = SVC(kernel='rbf', C=0.1, gamma=1, probability=True)\n",
    "svm_scores = cross_val_score(svm, X_train, y_train, cv=3, scoring='accuracy')\n",
    "print(DT_scores)"
   ]
  },
  {
   "cell_type": "code",
   "execution_count": 88,
   "metadata": {},
   "outputs": [
    {
     "name": "stdout",
     "output_type": "stream",
     "text": [
      "0.855930666129\n"
     ]
    }
   ],
   "source": [
    "print(DT_scores.mean())"
   ]
  },
  {
   "cell_type": "markdown",
   "metadata": {},
   "source": [
    "## Ridge"
   ]
  },
  {
   "cell_type": "code",
   "execution_count": 93,
   "metadata": {
    "collapsed": true
   },
   "outputs": [],
   "source": [
    "from sklearn import linear_model\n",
    "LRR = linear_model.Ridge(1.0, fit_intercept=False)\n",
    "LRR.fit(X_train,y_train)\n",
    "theta = LRR.coef_"
   ]
  },
  {
   "cell_type": "code",
   "execution_count": 94,
   "metadata": {},
   "outputs": [
    {
     "data": {
      "text/plain": [
       "array([ 0.00271471, -0.05308208,  0.15146413,  0.03709293])"
      ]
     },
     "execution_count": 94,
     "metadata": {},
     "output_type": "execute_result"
    }
   ],
   "source": [
    "theta"
   ]
  },
  {
   "cell_type": "code",
   "execution_count": 97,
   "metadata": {},
   "outputs": [
    {
     "name": "stdout",
     "output_type": "stream",
     "text": [
      "[[ 0.91289318 -0.25810155 -0.30888918 -0.09360251]\n",
      " [-0.84530389  0.56022825 -0.32705685 -1.66334492]\n",
      " [ 0.10402453 -0.55567602 -0.25763521  0.81855247]\n",
      " [ 0.01909536 -0.40688878  0.50987995 -0.09360251]\n",
      " [-0.67422062 -0.63006963  4.03488423  1.05025454]\n",
      " [-1.04456078  0.26265378 -0.24055056  0.81855247]\n",
      " [-1.0543603  -0.33249516 -0.33451616 -0.09360251]\n",
      " [-1.0543603  -0.33249516 -0.33451616 -0.09360251]\n",
      " [-0.17199526 -0.40688878 -0.3174315  -0.09360251]\n",
      " [ 0.4376165  -0.03492069 -0.29180452 -0.95105792]]\n"
     ]
    }
   ],
   "source": [
    "print X_train[0:10]"
   ]
  },
  {
   "cell_type": "code",
   "execution_count": null,
   "metadata": {
    "collapsed": true
   },
   "outputs": [],
   "source": []
  }
 ],
 "metadata": {
  "kernelspec": {
   "display_name": "Python 2",
   "language": "python",
   "name": "python2"
  },
  "language_info": {
   "codemirror_mode": {
    "name": "ipython",
    "version": 2
   },
   "file_extension": ".py",
   "mimetype": "text/x-python",
   "name": "python",
   "nbconvert_exporter": "python",
   "pygments_lexer": "ipython2",
   "version": "2.7.13"
  }
 },
 "nbformat": 4,
 "nbformat_minor": 2
}
